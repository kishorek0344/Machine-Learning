{
 "cells": [
  {
   "cell_type": "code",
   "execution_count": 1,
   "id": "1d0b62d2",
   "metadata": {},
   "outputs": [],
   "source": [
    "import numpy as np\n",
    "import pandas as pd\n",
    "from sklearn.datasets import make_classification"
   ]
  },
  {
   "cell_type": "code",
   "execution_count": 3,
   "id": "6cdb8be9",
   "metadata": {},
   "outputs": [],
   "source": [
    "from sklearn.datasets import make_classification\n",
    "X,y = make_classification(\n",
    "    n_features = 10,\n",
    "    n_samples = 1000,\n",
    "    n_informative = 4,\n",
    "    n_repeated = 0,\n",
    "    n_classes = 2,\n",
    "    weights=[0.9,0.1],\n",
    "    random_state = 42)"
   ]
  },
  {
   "cell_type": "code",
   "execution_count": 6,
   "id": "2f72d532",
   "metadata": {},
   "outputs": [
    {
     "data": {
      "text/plain": [
       "Counter({0: 895, 1: 105})"
      ]
     },
     "execution_count": 6,
     "metadata": {},
     "output_type": "execute_result"
    }
   ],
   "source": [
    "from collections import Counter\n",
    "Counter(y)"
   ]
  },
  {
   "cell_type": "code",
   "execution_count": 17,
   "id": "6bce93b6",
   "metadata": {},
   "outputs": [],
   "source": [
    "from sklearn.model_selection import train_test_split\n",
    "X_train,X_test,y_train,y_test = train_test_split(X,y,test_size=0.25,random_state=42)"
   ]
  },
  {
   "cell_type": "markdown",
   "id": "61fa78b8",
   "metadata": {},
   "source": [
    "## using cross fold"
   ]
  },
  {
   "cell_type": "code",
   "execution_count": 12,
   "id": "8fc633ff",
   "metadata": {},
   "outputs": [],
   "source": [
    "from sklearn.model_selection import KFold\n",
    "kf = KFold(n_splits=5,shuffle=True,random_state=42)"
   ]
  },
  {
   "cell_type": "code",
   "execution_count": 16,
   "id": "01f3540a",
   "metadata": {},
   "outputs": [
    {
     "name": "stdout",
     "output_type": "stream",
     "text": [
      "Counter({0: 176, 1: 24})\n",
      "Counter({0: 181, 1: 19})\n",
      "Counter({0: 180, 1: 20})\n",
      "Counter({0: 173, 1: 27})\n",
      "Counter({0: 185, 1: 15})\n"
     ]
    }
   ],
   "source": [
    "for train_index,test_index in kf.split(X,y):\n",
    "    X_train ,X_test = X[train_index],X[test_index]\n",
    "    y_train,y_test = y[train_index],y[test_index]\n",
    "    print(Counter(y_test))\n",
    "    "
   ]
  },
  {
   "cell_type": "markdown",
   "id": "cb0da38c",
   "metadata": {},
   "source": [
    "### we can see there is a imbalnce in the distribution of the folds"
   ]
  },
  {
   "cell_type": "markdown",
   "id": "493f6d3e",
   "metadata": {},
   "source": [
    "## using Stratifed k fold"
   ]
  },
  {
   "cell_type": "code",
   "execution_count": 18,
   "id": "16a84627",
   "metadata": {},
   "outputs": [],
   "source": [
    "from sklearn.model_selection import StratifiedKFold\n",
    "skf = StratifiedKFold(n_splits=5,shuffle=True,random_state=42)"
   ]
  },
  {
   "cell_type": "code",
   "execution_count": 19,
   "id": "ac6f2916",
   "metadata": {},
   "outputs": [
    {
     "name": "stdout",
     "output_type": "stream",
     "text": [
      "Counter({0: 179, 1: 21})\n",
      "Counter({0: 179, 1: 21})\n",
      "Counter({0: 179, 1: 21})\n",
      "Counter({0: 179, 1: 21})\n",
      "Counter({0: 179, 1: 21})\n"
     ]
    }
   ],
   "source": [
    "for train_index,test_index in skf.split(X,y):\n",
    "    X_train ,X_test = X[train_index],X[test_index]\n",
    "    y_train,y_test = y[train_index],y[test_index]\n",
    "    print(Counter(y_test))"
   ]
  },
  {
   "cell_type": "markdown",
   "id": "9da35ddb",
   "metadata": {},
   "source": [
    "### we can see there is a balnce in the distribution of the folds\n"
   ]
  },
  {
   "cell_type": "code",
   "execution_count": 20,
   "id": "787e3319",
   "metadata": {},
   "outputs": [],
   "source": [
    "from sklearn.model_selection import cross_val_score"
   ]
  },
  {
   "cell_type": "code",
   "execution_count": 22,
   "id": "568c6fec",
   "metadata": {},
   "outputs": [
    {
     "data": {
      "text/plain": [
       "array([0.89 , 0.9  , 0.9  , 0.905, 0.905])"
      ]
     },
     "execution_count": 22,
     "metadata": {},
     "output_type": "execute_result"
    }
   ],
   "source": [
    "##logistic\n",
    "from sklearn.linear_model import LogisticRegression\n",
    "cross_val_score(LogisticRegression(),X,y,cv=skf)"
   ]
  },
  {
   "cell_type": "code",
   "execution_count": 24,
   "id": "67ef08ef",
   "metadata": {},
   "outputs": [
    {
     "data": {
      "text/plain": [
       "array([0.915, 0.895, 0.93 , 0.94 , 0.925])"
      ]
     },
     "execution_count": 24,
     "metadata": {},
     "output_type": "execute_result"
    }
   ],
   "source": [
    "##decison tree\n",
    "from sklearn.tree import DecisionTreeClassifier\n",
    "cross_val_score(DecisionTreeClassifier(criterion='gini'),X,y,cv=skf)"
   ]
  },
  {
   "cell_type": "code",
   "execution_count": 25,
   "id": "2ed9b9f0",
   "metadata": {},
   "outputs": [
    {
     "data": {
      "text/plain": [
       "array([0.96 , 0.885, 0.945, 0.905, 0.95 ])"
      ]
     },
     "execution_count": 25,
     "metadata": {},
     "output_type": "execute_result"
    }
   ],
   "source": [
    "from sklearn.tree import DecisionTreeClassifier\n",
    "cross_val_score(DecisionTreeClassifier(criterion='entropy'),X,y,cv=skf)"
   ]
  },
  {
   "cell_type": "code",
   "execution_count": 26,
   "id": "dfa612c8",
   "metadata": {},
   "outputs": [
    {
     "data": {
      "text/plain": [
       "array([0.96 , 0.95 , 0.97 , 0.945, 0.95 ])"
      ]
     },
     "execution_count": 26,
     "metadata": {},
     "output_type": "execute_result"
    }
   ],
   "source": [
    "##random forest\n",
    "from sklearn.ensemble import RandomForestClassifier\n",
    "cross_val_score(RandomForestClassifier(),X,y,cv=skf)"
   ]
  },
  {
   "cell_type": "code",
   "execution_count": null,
   "id": "6913d7cd",
   "metadata": {},
   "outputs": [],
   "source": []
  }
 ],
 "metadata": {
  "kernelspec": {
   "display_name": "Python 3 (ipykernel)",
   "language": "python",
   "name": "python3"
  },
  "language_info": {
   "codemirror_mode": {
    "name": "ipython",
    "version": 3
   },
   "file_extension": ".py",
   "mimetype": "text/x-python",
   "name": "python",
   "nbconvert_exporter": "python",
   "pygments_lexer": "ipython3",
   "version": "3.11.4"
  }
 },
 "nbformat": 4,
 "nbformat_minor": 5
}
