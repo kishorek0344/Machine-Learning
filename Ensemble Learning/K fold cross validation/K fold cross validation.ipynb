{
 "cells": [
  {
   "cell_type": "code",
   "execution_count": 1,
   "id": "70abbde2",
   "metadata": {},
   "outputs": [],
   "source": [
    "import numpy as np\n",
    "import pandas as pd"
   ]
  },
  {
   "cell_type": "code",
   "execution_count": 5,
   "id": "c87aa2d3",
   "metadata": {},
   "outputs": [],
   "source": [
    "from sklearn.datasets import make_classification\n",
    "X,y = make_classification(\n",
    "    n_features = 10,\n",
    "    n_samples = 1000,\n",
    "    n_informative = 4,\n",
    "    n_repeated = 0,\n",
    "    n_classes = 2,\n",
    "    random_state = 42)"
   ]
  },
  {
   "cell_type": "code",
   "execution_count": 6,
   "id": "43b42f5b",
   "metadata": {},
   "outputs": [],
   "source": [
    "from sklearn.model_selection import train_test_split\n",
    "X_train,X_test,y_train,y_test = train_test_split(X,y,test_size=0.25,random_state=42)"
   ]
  },
  {
   "cell_type": "code",
   "execution_count": 7,
   "id": "f6ff86b9",
   "metadata": {},
   "outputs": [
    {
     "name": "stdout",
     "output_type": "stream",
     "text": [
      "              precision    recall  f1-score   support\n",
      "\n",
      "           0       0.70      0.72      0.71       124\n",
      "           1       0.72      0.70      0.71       126\n",
      "\n",
      "    accuracy                           0.71       250\n",
      "   macro avg       0.71      0.71      0.71       250\n",
      "weighted avg       0.71      0.71      0.71       250\n",
      "\n"
     ]
    }
   ],
   "source": [
    "from sklearn.linear_model import LogisticRegression\n",
    "model_log = LogisticRegression()\n",
    "model_log.fit(X_train,y_train)\n",
    "y_pred = model_log.predict(X_test)\n",
    "from sklearn.metrics import classification_report\n",
    "report = classification_report(y_test,y_pred)\n",
    "print(report)"
   ]
  },
  {
   "cell_type": "markdown",
   "id": "9d134e89",
   "metadata": {},
   "source": [
    "## now we are using kfold cross validation"
   ]
  },
  {
   "cell_type": "code",
   "execution_count": 9,
   "id": "7086c5c9",
   "metadata": {},
   "outputs": [
    {
     "name": "stdout",
     "output_type": "stream",
     "text": [
      "0.7\n",
      "0.7\n",
      "0.735\n",
      "0.665\n",
      "0.73\n"
     ]
    }
   ],
   "source": [
    "from sklearn.model_selection import KFold\n",
    "kf = KFold(n_splits=5,shuffle=True,random_state=42)\n",
    "for train_index,test_index in kf.split(X,y):\n",
    "    X_train,X_test = X[train_index],X[test_index]\n",
    "    y_train,y_test = y[train_index],y[test_index]\n",
    "    print(model_log.score(X_test,y_test))\n"
   ]
  },
  {
   "cell_type": "markdown",
   "id": "f88ca465",
   "metadata": {},
   "source": [
    "### these above lines of code can be reduced using the sk library cross val score"
   ]
  },
  {
   "cell_type": "markdown",
   "id": "c602d104",
   "metadata": {},
   "source": [
    "## these codes the logistic regression with accuracy and roc_auc curve"
   ]
  },
  {
   "cell_type": "code",
   "execution_count": 11,
   "id": "334a5042",
   "metadata": {},
   "outputs": [
    {
     "name": "stdout",
     "output_type": "stream",
     "text": [
      "[0.695 0.7   0.725 0.66  0.73 ]\n",
      "0.7020000000000001\n"
     ]
    }
   ],
   "source": [
    "from sklearn.model_selection import cross_val_score\n",
    "score_log=cross_val_score(LogisticRegression(),X,y,cv=kf)\n",
    "print(score_log)\n",
    "print(np.average(score_log))"
   ]
  },
  {
   "cell_type": "code",
   "execution_count": 12,
   "id": "cac7201b",
   "metadata": {},
   "outputs": [
    {
     "name": "stdout",
     "output_type": "stream",
     "text": [
      "[0.74359744 0.77287729 0.79201281 0.73829532 0.76378741]\n",
      "0.7621140530059585\n"
     ]
    }
   ],
   "source": [
    "from sklearn.model_selection import cross_val_score\n",
    "score_log=cross_val_score(LogisticRegression(),X,y,cv=kf,scoring='roc_auc')\n",
    "print(score_log)\n",
    "print(np.average(score_log))"
   ]
  },
  {
   "cell_type": "markdown",
   "id": "36469088",
   "metadata": {},
   "source": [
    "## these codes the decision with accuracy and roc_auc curve"
   ]
  },
  {
   "cell_type": "code",
   "execution_count": 27,
   "id": "540052e6",
   "metadata": {},
   "outputs": [
    {
     "name": "stdout",
     "output_type": "stream",
     "text": [
      "[0.87  0.87  0.89  0.895 0.88 ]\n",
      "0.881\n"
     ]
    }
   ],
   "source": [
    "from sklearn.tree import DecisionTreeClassifier\n",
    "score_dt=cross_val_score(DecisionTreeClassifier(criterion='entropy'),X,y,cv=kf)\n",
    "print(score_dt)\n",
    "print(np.average(score_dt))"
   ]
  },
  {
   "cell_type": "code",
   "execution_count": 28,
   "id": "abd686a6",
   "metadata": {},
   "outputs": [
    {
     "name": "stdout",
     "output_type": "stream",
     "text": [
      "[0.88  0.89  0.875 0.83  0.88 ]\n",
      "0.8710000000000001\n"
     ]
    }
   ],
   "source": [
    "from sklearn.tree import DecisionTreeClassifier\n",
    "score_dt=cross_val_score(DecisionTreeClassifier(criterion='gini'),X,y,cv=kf)\n",
    "print(score_dt)\n",
    "print(np.average(score_dt))"
   ]
  },
  {
   "cell_type": "code",
   "execution_count": 20,
   "id": "b97b8f14",
   "metadata": {},
   "outputs": [
    {
     "name": "stdout",
     "output_type": "stream",
     "text": [
      "[0.87464986 0.86938694 0.87413672 0.83053221 0.89140226]\n",
      "0.8680215993219157\n"
     ]
    }
   ],
   "source": [
    "from sklearn.tree import DecisionTreeClassifier\n",
    "score_dt=cross_val_score(DecisionTreeClassifier(),X,y,cv=kf,scoring='roc_auc')\n",
    "print(score_dt)\n",
    "print(np.average(score_dt))"
   ]
  },
  {
   "cell_type": "markdown",
   "id": "960355f5",
   "metadata": {},
   "source": [
    "## these codes the random forest with accuracy and roc_auc curve\n"
   ]
  },
  {
   "cell_type": "code",
   "execution_count": 29,
   "id": "837f2246",
   "metadata": {},
   "outputs": [
    {
     "name": "stdout",
     "output_type": "stream",
     "text": [
      "[0.905 0.935 0.94  0.9   0.9  ]\n",
      "0.916\n"
     ]
    }
   ],
   "source": [
    "from sklearn.ensemble import RandomForestClassifier\n",
    "score_rand = cross_val_score(RandomForestClassifier(),X,y,cv=kf)\n",
    "print(score_rand)\n",
    "print(np.average(score_rand))"
   ]
  },
  {
   "cell_type": "code",
   "execution_count": 30,
   "id": "3cd81b5c",
   "metadata": {},
   "outputs": [
    {
     "name": "stdout",
     "output_type": "stream",
     "text": [
      "[0.97113846 0.97479748 0.97402662 0.97338936 0.96636973]\n",
      "0.9719443295186947\n"
     ]
    }
   ],
   "source": [
    "from sklearn.ensemble import RandomForestClassifier\n",
    "score_rand = cross_val_score(RandomForestClassifier(),X,y,cv=kf,scoring='roc_auc')\n",
    "print(score_rand)\n",
    "print(np.average(score_rand))"
   ]
  },
  {
   "cell_type": "markdown",
   "id": "fa8f2c5f",
   "metadata": {},
   "source": [
    "### now we are using cross validate library both are same but here we can pass mutiple score parameters"
   ]
  },
  {
   "cell_type": "code",
   "execution_count": 25,
   "id": "29906015",
   "metadata": {},
   "outputs": [
    {
     "data": {
      "text/plain": [
       "{'fit_time': array([0.01479936, 0.00999689, 0.01182795, 0.01054239, 0.01042962]),\n",
       " 'score_time': array([0.00300241, 0.00299954, 0.00299931, 0.00301409, 0.00359154]),\n",
       " 'test_accuracy': array([0.695, 0.7  , 0.725, 0.66 , 0.73 ]),\n",
       " 'test_roc_auc': array([0.74359744, 0.77287729, 0.79201281, 0.73829532, 0.76378741])}"
      ]
     },
     "execution_count": 25,
     "metadata": {},
     "output_type": "execute_result"
    }
   ],
   "source": [
    "from sklearn.model_selection import cross_validate\n",
    "cross_validate(LogisticRegression(),X,y,cv=kf,scoring=['accuracy','roc_auc'])"
   ]
  },
  {
   "cell_type": "code",
   "execution_count": 26,
   "id": "1fb946f8",
   "metadata": {},
   "outputs": [
    {
     "data": {
      "text/plain": [
       "{'fit_time': array([0.01100016, 0.00998497, 0.00899887, 0.00823808, 0.0093174 ]),\n",
       " 'score_time': array([0.00299597, 0.00300074, 0.00300694, 0.00300002, 0.00337648]),\n",
       " 'test_accuracy': array([0.86 , 0.9  , 0.855, 0.835, 0.85 ]),\n",
       " 'test_roc_auc': array([0.859986, 0.9     , 0.855   , 0.835   , 0.85    ])}"
      ]
     },
     "execution_count": 26,
     "metadata": {},
     "output_type": "execute_result"
    }
   ],
   "source": [
    "cross_validate(DecisionTreeClassifier(),X,y,scoring=['accuracy','roc_auc'])"
   ]
  },
  {
   "cell_type": "code",
   "execution_count": 31,
   "id": "f3417b37",
   "metadata": {},
   "outputs": [
    {
     "data": {
      "text/plain": [
       "{'fit_time': array([0.43010211, 0.49112725, 0.48757672, 0.44298625, 0.46902585]),\n",
       " 'score_time': array([0.03205872, 0.03175616, 0.03729963, 0.03298402, 0.03454041]),\n",
       " 'test_accuracy': array([0.94 , 0.925, 0.915, 0.9  , 0.92 ]),\n",
       " 'test_roc_auc': array([0.97949795, 0.97045   , 0.9714    , 0.95005   , 0.9587    ])}"
      ]
     },
     "execution_count": 31,
     "metadata": {},
     "output_type": "execute_result"
    }
   ],
   "source": [
    "cross_validate(RandomForestClassifier(),X,y,scoring=['accuracy','roc_auc'])"
   ]
  },
  {
   "cell_type": "code",
   "execution_count": null,
   "id": "48773372",
   "metadata": {},
   "outputs": [],
   "source": []
  }
 ],
 "metadata": {
  "kernelspec": {
   "display_name": "Python 3 (ipykernel)",
   "language": "python",
   "name": "python3"
  },
  "language_info": {
   "codemirror_mode": {
    "name": "ipython",
    "version": 3
   },
   "file_extension": ".py",
   "mimetype": "text/x-python",
   "name": "python",
   "nbconvert_exporter": "python",
   "pygments_lexer": "ipython3",
   "version": "3.11.4"
  }
 },
 "nbformat": 4,
 "nbformat_minor": 5
}
