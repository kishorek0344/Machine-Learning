{
 "cells": [
  {
   "cell_type": "code",
   "execution_count": 1,
   "id": "3e5c22cc",
   "metadata": {},
   "outputs": [],
   "source": [
    "import numpy as np\n",
    "import pandas as pd"
   ]
  },
  {
   "cell_type": "code",
   "execution_count": 2,
   "id": "13633d2a",
   "metadata": {},
   "outputs": [
    {
     "data": {
      "text/html": [
       "<div>\n",
       "<style scoped>\n",
       "    .dataframe tbody tr th:only-of-type {\n",
       "        vertical-align: middle;\n",
       "    }\n",
       "\n",
       "    .dataframe tbody tr th {\n",
       "        vertical-align: top;\n",
       "    }\n",
       "\n",
       "    .dataframe thead th {\n",
       "        text-align: right;\n",
       "    }\n",
       "</style>\n",
       "<table border=\"1\" class=\"dataframe\">\n",
       "  <thead>\n",
       "    <tr style=\"text-align: right;\">\n",
       "      <th></th>\n",
       "      <th>area_sqr_ft</th>\n",
       "      <th>bedrooms</th>\n",
       "      <th>color</th>\n",
       "      <th>price_lakhs</th>\n",
       "    </tr>\n",
       "  </thead>\n",
       "  <tbody>\n",
       "    <tr>\n",
       "      <th>0</th>\n",
       "      <td>3774</td>\n",
       "      <td>2</td>\n",
       "      <td>Red</td>\n",
       "      <td>216</td>\n",
       "    </tr>\n",
       "    <tr>\n",
       "      <th>1</th>\n",
       "      <td>1460</td>\n",
       "      <td>3</td>\n",
       "      <td>Gray</td>\n",
       "      <td>88</td>\n",
       "    </tr>\n",
       "    <tr>\n",
       "      <th>2</th>\n",
       "      <td>1894</td>\n",
       "      <td>4</td>\n",
       "      <td>Gray</td>\n",
       "      <td>147</td>\n",
       "    </tr>\n",
       "    <tr>\n",
       "      <th>3</th>\n",
       "      <td>1730</td>\n",
       "      <td>2</td>\n",
       "      <td>Blue</td>\n",
       "      <td>84</td>\n",
       "    </tr>\n",
       "    <tr>\n",
       "      <th>4</th>\n",
       "      <td>1695</td>\n",
       "      <td>1</td>\n",
       "      <td>Blue</td>\n",
       "      <td>77</td>\n",
       "    </tr>\n",
       "  </tbody>\n",
       "</table>\n",
       "</div>"
      ],
      "text/plain": [
       "   area_sqr_ft  bedrooms color  price_lakhs\n",
       "0         3774         2   Red          216\n",
       "1         1460         3  Gray           88\n",
       "2         1894         4  Gray          147\n",
       "3         1730         2  Blue           84\n",
       "4         1695         1  Blue           77"
      ]
     },
     "execution_count": 2,
     "metadata": {},
     "output_type": "execute_result"
    }
   ],
   "source": [
    "df = pd.read_csv(\"home_prices.csv\")\n",
    "df.head()"
   ]
  },
  {
   "cell_type": "code",
   "execution_count": 3,
   "id": "776565c0",
   "metadata": {},
   "outputs": [
    {
     "data": {
      "text/plain": [
       "array(['Red', 'Gray', 'Blue', 'Yellow', 'Green', 'White'], dtype=object)"
      ]
     },
     "execution_count": 3,
     "metadata": {},
     "output_type": "execute_result"
    }
   ],
   "source": [
    "df['color'].unique()"
   ]
  },
  {
   "cell_type": "code",
   "execution_count": 4,
   "id": "b8d4d069",
   "metadata": {},
   "outputs": [],
   "source": [
    "df = pd.get_dummies(df,columns=['color'],drop_first=True)"
   ]
  },
  {
   "cell_type": "code",
   "execution_count": 5,
   "id": "a4763a5d",
   "metadata": {},
   "outputs": [
    {
     "data": {
      "text/html": [
       "<div>\n",
       "<style scoped>\n",
       "    .dataframe tbody tr th:only-of-type {\n",
       "        vertical-align: middle;\n",
       "    }\n",
       "\n",
       "    .dataframe tbody tr th {\n",
       "        vertical-align: top;\n",
       "    }\n",
       "\n",
       "    .dataframe thead th {\n",
       "        text-align: right;\n",
       "    }\n",
       "</style>\n",
       "<table border=\"1\" class=\"dataframe\">\n",
       "  <thead>\n",
       "    <tr style=\"text-align: right;\">\n",
       "      <th></th>\n",
       "      <th>area_sqr_ft</th>\n",
       "      <th>bedrooms</th>\n",
       "      <th>price_lakhs</th>\n",
       "      <th>color_Gray</th>\n",
       "      <th>color_Green</th>\n",
       "      <th>color_Red</th>\n",
       "      <th>color_White</th>\n",
       "      <th>color_Yellow</th>\n",
       "    </tr>\n",
       "  </thead>\n",
       "  <tbody>\n",
       "    <tr>\n",
       "      <th>0</th>\n",
       "      <td>3774</td>\n",
       "      <td>2</td>\n",
       "      <td>216</td>\n",
       "      <td>0</td>\n",
       "      <td>0</td>\n",
       "      <td>1</td>\n",
       "      <td>0</td>\n",
       "      <td>0</td>\n",
       "    </tr>\n",
       "    <tr>\n",
       "      <th>1</th>\n",
       "      <td>1460</td>\n",
       "      <td>3</td>\n",
       "      <td>88</td>\n",
       "      <td>1</td>\n",
       "      <td>0</td>\n",
       "      <td>0</td>\n",
       "      <td>0</td>\n",
       "      <td>0</td>\n",
       "    </tr>\n",
       "    <tr>\n",
       "      <th>2</th>\n",
       "      <td>1894</td>\n",
       "      <td>4</td>\n",
       "      <td>147</td>\n",
       "      <td>1</td>\n",
       "      <td>0</td>\n",
       "      <td>0</td>\n",
       "      <td>0</td>\n",
       "      <td>0</td>\n",
       "    </tr>\n",
       "    <tr>\n",
       "      <th>3</th>\n",
       "      <td>1730</td>\n",
       "      <td>2</td>\n",
       "      <td>84</td>\n",
       "      <td>0</td>\n",
       "      <td>0</td>\n",
       "      <td>0</td>\n",
       "      <td>0</td>\n",
       "      <td>0</td>\n",
       "    </tr>\n",
       "    <tr>\n",
       "      <th>4</th>\n",
       "      <td>1695</td>\n",
       "      <td>1</td>\n",
       "      <td>77</td>\n",
       "      <td>0</td>\n",
       "      <td>0</td>\n",
       "      <td>0</td>\n",
       "      <td>0</td>\n",
       "      <td>0</td>\n",
       "    </tr>\n",
       "  </tbody>\n",
       "</table>\n",
       "</div>"
      ],
      "text/plain": [
       "   area_sqr_ft  bedrooms  price_lakhs  color_Gray  color_Green  color_Red  \\\n",
       "0         3774         2          216           0            0          1   \n",
       "1         1460         3           88           1            0          0   \n",
       "2         1894         4          147           1            0          0   \n",
       "3         1730         2           84           0            0          0   \n",
       "4         1695         1           77           0            0          0   \n",
       "\n",
       "   color_White  color_Yellow  \n",
       "0            0             0  \n",
       "1            0             0  \n",
       "2            0             0  \n",
       "3            0             0  \n",
       "4            0             0  "
      ]
     },
     "execution_count": 5,
     "metadata": {},
     "output_type": "execute_result"
    }
   ],
   "source": [
    "df.head()"
   ]
  },
  {
   "cell_type": "code",
   "execution_count": 6,
   "id": "b3738d73",
   "metadata": {},
   "outputs": [
    {
     "data": {
      "text/html": [
       "<div>\n",
       "<style scoped>\n",
       "    .dataframe tbody tr th:only-of-type {\n",
       "        vertical-align: middle;\n",
       "    }\n",
       "\n",
       "    .dataframe tbody tr th {\n",
       "        vertical-align: top;\n",
       "    }\n",
       "\n",
       "    .dataframe thead th {\n",
       "        text-align: right;\n",
       "    }\n",
       "</style>\n",
       "<table border=\"1\" class=\"dataframe\">\n",
       "  <thead>\n",
       "    <tr style=\"text-align: right;\">\n",
       "      <th></th>\n",
       "      <th>area_sqr_ft</th>\n",
       "      <th>bedrooms</th>\n",
       "      <th>price_lakhs</th>\n",
       "      <th>color_Gray</th>\n",
       "      <th>color_Green</th>\n",
       "      <th>color_Red</th>\n",
       "      <th>color_White</th>\n",
       "      <th>color_Yellow</th>\n",
       "    </tr>\n",
       "  </thead>\n",
       "  <tbody>\n",
       "    <tr>\n",
       "      <th>area_sqr_ft</th>\n",
       "      <td>1.000000</td>\n",
       "      <td>0.185810</td>\n",
       "      <td>0.945365</td>\n",
       "      <td>-0.068944</td>\n",
       "      <td>-0.032012</td>\n",
       "      <td>0.059055</td>\n",
       "      <td>0.063827</td>\n",
       "      <td>-0.037819</td>\n",
       "    </tr>\n",
       "    <tr>\n",
       "      <th>bedrooms</th>\n",
       "      <td>0.185810</td>\n",
       "      <td>1.000000</td>\n",
       "      <td>0.439445</td>\n",
       "      <td>0.040882</td>\n",
       "      <td>-0.120207</td>\n",
       "      <td>-0.004177</td>\n",
       "      <td>-0.023676</td>\n",
       "      <td>0.015286</td>\n",
       "    </tr>\n",
       "    <tr>\n",
       "      <th>price_lakhs</th>\n",
       "      <td>0.945365</td>\n",
       "      <td>0.439445</td>\n",
       "      <td>1.000000</td>\n",
       "      <td>-0.040565</td>\n",
       "      <td>-0.041959</td>\n",
       "      <td>0.045803</td>\n",
       "      <td>0.051122</td>\n",
       "      <td>-0.046673</td>\n",
       "    </tr>\n",
       "    <tr>\n",
       "      <th>color_Gray</th>\n",
       "      <td>-0.068944</td>\n",
       "      <td>0.040882</td>\n",
       "      <td>-0.040565</td>\n",
       "      <td>1.000000</td>\n",
       "      <td>-0.214409</td>\n",
       "      <td>-0.230990</td>\n",
       "      <td>-0.205931</td>\n",
       "      <td>-0.217205</td>\n",
       "    </tr>\n",
       "    <tr>\n",
       "      <th>color_Green</th>\n",
       "      <td>-0.032012</td>\n",
       "      <td>-0.120207</td>\n",
       "      <td>-0.041959</td>\n",
       "      <td>-0.214409</td>\n",
       "      <td>1.000000</td>\n",
       "      <td>-0.190117</td>\n",
       "      <td>-0.169493</td>\n",
       "      <td>-0.178771</td>\n",
       "    </tr>\n",
       "    <tr>\n",
       "      <th>color_Red</th>\n",
       "      <td>0.059055</td>\n",
       "      <td>-0.004177</td>\n",
       "      <td>0.045803</td>\n",
       "      <td>-0.230990</td>\n",
       "      <td>-0.190117</td>\n",
       "      <td>1.000000</td>\n",
       "      <td>-0.182600</td>\n",
       "      <td>-0.192596</td>\n",
       "    </tr>\n",
       "    <tr>\n",
       "      <th>color_White</th>\n",
       "      <td>0.063827</td>\n",
       "      <td>-0.023676</td>\n",
       "      <td>0.051122</td>\n",
       "      <td>-0.205931</td>\n",
       "      <td>-0.169493</td>\n",
       "      <td>-0.182600</td>\n",
       "      <td>1.000000</td>\n",
       "      <td>-0.171703</td>\n",
       "    </tr>\n",
       "    <tr>\n",
       "      <th>color_Yellow</th>\n",
       "      <td>-0.037819</td>\n",
       "      <td>0.015286</td>\n",
       "      <td>-0.046673</td>\n",
       "      <td>-0.217205</td>\n",
       "      <td>-0.178771</td>\n",
       "      <td>-0.192596</td>\n",
       "      <td>-0.171703</td>\n",
       "      <td>1.000000</td>\n",
       "    </tr>\n",
       "  </tbody>\n",
       "</table>\n",
       "</div>"
      ],
      "text/plain": [
       "              area_sqr_ft  bedrooms  price_lakhs  color_Gray  color_Green  \\\n",
       "area_sqr_ft      1.000000  0.185810     0.945365   -0.068944    -0.032012   \n",
       "bedrooms         0.185810  1.000000     0.439445    0.040882    -0.120207   \n",
       "price_lakhs      0.945365  0.439445     1.000000   -0.040565    -0.041959   \n",
       "color_Gray      -0.068944  0.040882    -0.040565    1.000000    -0.214409   \n",
       "color_Green     -0.032012 -0.120207    -0.041959   -0.214409     1.000000   \n",
       "color_Red        0.059055 -0.004177     0.045803   -0.230990    -0.190117   \n",
       "color_White      0.063827 -0.023676     0.051122   -0.205931    -0.169493   \n",
       "color_Yellow    -0.037819  0.015286    -0.046673   -0.217205    -0.178771   \n",
       "\n",
       "              color_Red  color_White  color_Yellow  \n",
       "area_sqr_ft    0.059055     0.063827     -0.037819  \n",
       "bedrooms      -0.004177    -0.023676      0.015286  \n",
       "price_lakhs    0.045803     0.051122     -0.046673  \n",
       "color_Gray    -0.230990    -0.205931     -0.217205  \n",
       "color_Green   -0.190117    -0.169493     -0.178771  \n",
       "color_Red      1.000000    -0.182600     -0.192596  \n",
       "color_White   -0.182600     1.000000     -0.171703  \n",
       "color_Yellow  -0.192596    -0.171703      1.000000  "
      ]
     },
     "execution_count": 6,
     "metadata": {},
     "output_type": "execute_result"
    }
   ],
   "source": [
    "cm = df.corr()\n",
    "cm"
   ]
  },
  {
   "cell_type": "code",
   "execution_count": 7,
   "id": "0e4f0577",
   "metadata": {},
   "outputs": [
    {
     "data": {
      "text/plain": [
       "area_sqr_ft     0.945365\n",
       "bedrooms        0.439445\n",
       "price_lakhs     1.000000\n",
       "color_Gray     -0.040565\n",
       "color_Green    -0.041959\n",
       "color_Red       0.045803\n",
       "color_White     0.051122\n",
       "color_Yellow   -0.046673\n",
       "Name: price_lakhs, dtype: float64"
      ]
     },
     "execution_count": 7,
     "metadata": {},
     "output_type": "execute_result"
    }
   ],
   "source": [
    "cm['price_lakhs']"
   ]
  },
  {
   "cell_type": "code",
   "execution_count": 9,
   "id": "897269d3",
   "metadata": {},
   "outputs": [],
   "source": [
    "cm_price =abs(cm['price_lakhs'])"
   ]
  },
  {
   "cell_type": "code",
   "execution_count": 11,
   "id": "d63d96ec",
   "metadata": {},
   "outputs": [
    {
     "data": {
      "text/plain": [
       "area_sqr_ft      True\n",
       "bedrooms         True\n",
       "price_lakhs      True\n",
       "color_Gray      False\n",
       "color_Green     False\n",
       "color_Red       False\n",
       "color_White     False\n",
       "color_Yellow    False\n",
       "Name: price_lakhs, dtype: bool"
      ]
     },
     "execution_count": 11,
     "metadata": {},
     "output_type": "execute_result"
    }
   ],
   "source": [
    "cm_price>0.2"
   ]
  },
  {
   "cell_type": "code",
   "execution_count": 13,
   "id": "56e5146e",
   "metadata": {},
   "outputs": [
    {
     "data": {
      "text/plain": [
       "Index(['area_sqr_ft', 'bedrooms'], dtype='object')"
      ]
     },
     "execution_count": 13,
     "metadata": {},
     "output_type": "execute_result"
    }
   ],
   "source": [
    "selected_features = cm_price[cm_price>0.2].index.drop('price_lakhs')\n",
    "selected_features"
   ]
  },
  {
   "cell_type": "code",
   "execution_count": 14,
   "id": "1ca4cc3e",
   "metadata": {},
   "outputs": [],
   "source": [
    "X =df[selected_features]\n",
    "y =df['price_lakhs']"
   ]
  },
  {
   "cell_type": "code",
   "execution_count": 15,
   "id": "034a69e3",
   "metadata": {},
   "outputs": [],
   "source": [
    "from sklearn.model_selection import train_test_split\n",
    "X_train,X_test,y_train,y_test = train_test_split(X,y,test_size=0.3,random_state=42)"
   ]
  },
  {
   "cell_type": "code",
   "execution_count": 16,
   "id": "5133902d",
   "metadata": {},
   "outputs": [
    {
     "data": {
      "text/html": [
       "<style>#sk-container-id-1 {color: black;background-color: white;}#sk-container-id-1 pre{padding: 0;}#sk-container-id-1 div.sk-toggleable {background-color: white;}#sk-container-id-1 label.sk-toggleable__label {cursor: pointer;display: block;width: 100%;margin-bottom: 0;padding: 0.3em;box-sizing: border-box;text-align: center;}#sk-container-id-1 label.sk-toggleable__label-arrow:before {content: \"▸\";float: left;margin-right: 0.25em;color: #696969;}#sk-container-id-1 label.sk-toggleable__label-arrow:hover:before {color: black;}#sk-container-id-1 div.sk-estimator:hover label.sk-toggleable__label-arrow:before {color: black;}#sk-container-id-1 div.sk-toggleable__content {max-height: 0;max-width: 0;overflow: hidden;text-align: left;background-color: #f0f8ff;}#sk-container-id-1 div.sk-toggleable__content pre {margin: 0.2em;color: black;border-radius: 0.25em;background-color: #f0f8ff;}#sk-container-id-1 input.sk-toggleable__control:checked~div.sk-toggleable__content {max-height: 200px;max-width: 100%;overflow: auto;}#sk-container-id-1 input.sk-toggleable__control:checked~label.sk-toggleable__label-arrow:before {content: \"▾\";}#sk-container-id-1 div.sk-estimator input.sk-toggleable__control:checked~label.sk-toggleable__label {background-color: #d4ebff;}#sk-container-id-1 div.sk-label input.sk-toggleable__control:checked~label.sk-toggleable__label {background-color: #d4ebff;}#sk-container-id-1 input.sk-hidden--visually {border: 0;clip: rect(1px 1px 1px 1px);clip: rect(1px, 1px, 1px, 1px);height: 1px;margin: -1px;overflow: hidden;padding: 0;position: absolute;width: 1px;}#sk-container-id-1 div.sk-estimator {font-family: monospace;background-color: #f0f8ff;border: 1px dotted black;border-radius: 0.25em;box-sizing: border-box;margin-bottom: 0.5em;}#sk-container-id-1 div.sk-estimator:hover {background-color: #d4ebff;}#sk-container-id-1 div.sk-parallel-item::after {content: \"\";width: 100%;border-bottom: 1px solid gray;flex-grow: 1;}#sk-container-id-1 div.sk-label:hover label.sk-toggleable__label {background-color: #d4ebff;}#sk-container-id-1 div.sk-serial::before {content: \"\";position: absolute;border-left: 1px solid gray;box-sizing: border-box;top: 0;bottom: 0;left: 50%;z-index: 0;}#sk-container-id-1 div.sk-serial {display: flex;flex-direction: column;align-items: center;background-color: white;padding-right: 0.2em;padding-left: 0.2em;position: relative;}#sk-container-id-1 div.sk-item {position: relative;z-index: 1;}#sk-container-id-1 div.sk-parallel {display: flex;align-items: stretch;justify-content: center;background-color: white;position: relative;}#sk-container-id-1 div.sk-item::before, #sk-container-id-1 div.sk-parallel-item::before {content: \"\";position: absolute;border-left: 1px solid gray;box-sizing: border-box;top: 0;bottom: 0;left: 50%;z-index: -1;}#sk-container-id-1 div.sk-parallel-item {display: flex;flex-direction: column;z-index: 1;position: relative;background-color: white;}#sk-container-id-1 div.sk-parallel-item:first-child::after {align-self: flex-end;width: 50%;}#sk-container-id-1 div.sk-parallel-item:last-child::after {align-self: flex-start;width: 50%;}#sk-container-id-1 div.sk-parallel-item:only-child::after {width: 0;}#sk-container-id-1 div.sk-dashed-wrapped {border: 1px dashed gray;margin: 0 0.4em 0.5em 0.4em;box-sizing: border-box;padding-bottom: 0.4em;background-color: white;}#sk-container-id-1 div.sk-label label {font-family: monospace;font-weight: bold;display: inline-block;line-height: 1.2em;}#sk-container-id-1 div.sk-label-container {text-align: center;}#sk-container-id-1 div.sk-container {/* jupyter's `normalize.less` sets `[hidden] { display: none; }` but bootstrap.min.css set `[hidden] { display: none !important; }` so we also need the `!important` here to be able to override the default hidden behavior on the sphinx rendered scikit-learn.org. See: https://github.com/scikit-learn/scikit-learn/issues/21755 */display: inline-block !important;position: relative;}#sk-container-id-1 div.sk-text-repr-fallback {display: none;}</style><div id=\"sk-container-id-1\" class=\"sk-top-container\"><div class=\"sk-text-repr-fallback\"><pre>LinearRegression()</pre><b>In a Jupyter environment, please rerun this cell to show the HTML representation or trust the notebook. <br />On GitHub, the HTML representation is unable to render, please try loading this page with nbviewer.org.</b></div><div class=\"sk-container\" hidden><div class=\"sk-item\"><div class=\"sk-estimator sk-toggleable\"><input class=\"sk-toggleable__control sk-hidden--visually\" id=\"sk-estimator-id-1\" type=\"checkbox\" checked><label for=\"sk-estimator-id-1\" class=\"sk-toggleable__label sk-toggleable__label-arrow\">LinearRegression</label><div class=\"sk-toggleable__content\"><pre>LinearRegression()</pre></div></div></div></div></div>"
      ],
      "text/plain": [
       "LinearRegression()"
      ]
     },
     "execution_count": 16,
     "metadata": {},
     "output_type": "execute_result"
    }
   ],
   "source": [
    "from sklearn.linear_model import LinearRegression\n",
    "model = LinearRegression()\n",
    "model.fit(X_train,y_train)"
   ]
  },
  {
   "cell_type": "code",
   "execution_count": 18,
   "id": "66bb11a4",
   "metadata": {},
   "outputs": [
    {
     "name": "stdout",
     "output_type": "stream",
     "text": [
      "r2score is 0.9698253949386444, mse is 83.40985029480174\n"
     ]
    }
   ],
   "source": [
    "from sklearn.metrics import mean_squared_error,r2_score\n",
    "y_pred = model.predict(X_test)\n",
    "mse = mean_squared_error(y_test,y_pred)\n",
    "r2 =r2_score(y_test,y_pred)\n",
    "print(f\"r2score is {r2}, mse is {mse}\")"
   ]
  },
  {
   "cell_type": "code",
   "execution_count": null,
   "id": "ce820f83",
   "metadata": {},
   "outputs": [],
   "source": []
  }
 ],
 "metadata": {
  "kernelspec": {
   "display_name": "Python 3 (ipykernel)",
   "language": "python",
   "name": "python3"
  },
  "language_info": {
   "codemirror_mode": {
    "name": "ipython",
    "version": 3
   },
   "file_extension": ".py",
   "mimetype": "text/x-python",
   "name": "python",
   "nbconvert_exporter": "python",
   "pygments_lexer": "ipython3",
   "version": "3.11.4"
  }
 },
 "nbformat": 4,
 "nbformat_minor": 5
}
