{
 "cells": [
  {
   "cell_type": "code",
   "execution_count": 1,
   "id": "c0f3376d",
   "metadata": {},
   "outputs": [],
   "source": [
    "import numpy as np\n",
    "import pandas as pd\n",
    "from sklearn.datasets import make_classification"
   ]
  },
  {
   "cell_type": "code",
   "execution_count": 3,
   "id": "05986f9b",
   "metadata": {},
   "outputs": [],
   "source": [
    "X,y = make_classification(\n",
    "    n_features = 10,\n",
    "    n_samples = 1000,\n",
    "    n_informative = 4,\n",
    "    n_redundant=2,\n",
    "    n_repeated = 0,\n",
    "    n_classes = 2,\n",
    "    random_state = 42)"
   ]
  },
  {
   "cell_type": "markdown",
   "id": "ae9b2adc",
   "metadata": {},
   "source": [
    "## METHOD: 1 using train test split evaluation"
   ]
  },
  {
   "cell_type": "code",
   "execution_count": 9,
   "id": "0d23f037",
   "metadata": {},
   "outputs": [
    {
     "name": "stdout",
     "output_type": "stream",
     "text": [
      "              precision    recall  f1-score   support\n",
      "\n",
      "           0       0.86      0.91      0.89       124\n",
      "           1       0.91      0.86      0.88       126\n",
      "\n",
      "    accuracy                           0.88       250\n",
      "   macro avg       0.89      0.88      0.88       250\n",
      "weighted avg       0.89      0.88      0.88       250\n",
      "\n"
     ]
    }
   ],
   "source": [
    "from sklearn.model_selection import train_test_split\n",
    "X_train,X_test,y_train,y_test= train_test_split(X,y,test_size=0.25,random_state=42)\n",
    "\n",
    "\n",
    "from sklearn.tree import DecisionTreeClassifier\n",
    "model = DecisionTreeClassifier(criterion='gini',max_depth=10)\n",
    "model.fit(X_train,y_train)\n",
    "y_pred = model.predict(X_test)\n",
    "\n",
    "from sklearn.metrics import classification_report\n",
    "report = classification_report(y_test,y_pred)\n",
    "print(report)"
   ]
  },
  {
   "cell_type": "code",
   "execution_count": 8,
   "id": "801df659",
   "metadata": {},
   "outputs": [
    {
     "name": "stdout",
     "output_type": "stream",
     "text": [
      "              precision    recall  f1-score   support\n",
      "\n",
      "           0       0.85      0.94      0.89       124\n",
      "           1       0.93      0.83      0.88       126\n",
      "\n",
      "    accuracy                           0.88       250\n",
      "   macro avg       0.89      0.88      0.88       250\n",
      "weighted avg       0.89      0.88      0.88       250\n",
      "\n"
     ]
    }
   ],
   "source": [
    "from sklearn.model_selection import train_test_split\n",
    "X_train,X_test,y_train,y_test= train_test_split(X,y,test_size=0.25,random_state=42)\n",
    "\n",
    "\n",
    "from sklearn.tree import DecisionTreeClassifier\n",
    "model = DecisionTreeClassifier(criterion='gini',max_depth=5)\n",
    "model.fit(X_train,y_train)\n",
    "y_pred = model.predict(X_test)\n",
    "\n",
    "from sklearn.metrics import classification_report\n",
    "report = classification_report(y_test,y_pred)\n",
    "print(report)"
   ]
  },
  {
   "cell_type": "code",
   "execution_count": 10,
   "id": "32e333af",
   "metadata": {},
   "outputs": [
    {
     "name": "stdout",
     "output_type": "stream",
     "text": [
      "              precision    recall  f1-score   support\n",
      "\n",
      "           0       0.83      0.94      0.88       124\n",
      "           1       0.94      0.81      0.87       126\n",
      "\n",
      "    accuracy                           0.88       250\n",
      "   macro avg       0.88      0.88      0.88       250\n",
      "weighted avg       0.88      0.88      0.88       250\n",
      "\n"
     ]
    }
   ],
   "source": [
    "from sklearn.model_selection import train_test_split\n",
    "X_train,X_test,y_train,y_test= train_test_split(X,y,test_size=0.25,random_state=42)\n",
    "\n",
    "\n",
    "from sklearn.tree import DecisionTreeClassifier\n",
    "model = DecisionTreeClassifier(criterion='entropy',max_depth=5)\n",
    "model.fit(X_train,y_train)\n",
    "y_pred = model.predict(X_test)\n",
    "\n",
    "from sklearn.metrics import classification_report\n",
    "report = classification_report(y_test,y_pred)\n",
    "print(report)"
   ]
  },
  {
   "cell_type": "code",
   "execution_count": 11,
   "id": "8f755b8b",
   "metadata": {},
   "outputs": [
    {
     "name": "stdout",
     "output_type": "stream",
     "text": [
      "              precision    recall  f1-score   support\n",
      "\n",
      "           0       0.87      0.87      0.87       124\n",
      "           1       0.87      0.87      0.87       126\n",
      "\n",
      "    accuracy                           0.87       250\n",
      "   macro avg       0.87      0.87      0.87       250\n",
      "weighted avg       0.87      0.87      0.87       250\n",
      "\n"
     ]
    }
   ],
   "source": [
    "from sklearn.model_selection import train_test_split\n",
    "X_train,X_test,y_train,y_test= train_test_split(X,y,test_size=0.25,random_state=42)\n",
    "\n",
    "\n",
    "from sklearn.tree import DecisionTreeClassifier\n",
    "model = DecisionTreeClassifier(criterion='entropy',max_depth=10)\n",
    "model.fit(X_train,y_train)\n",
    "y_pred = model.predict(X_test)\n",
    "\n",
    "from sklearn.metrics import classification_report\n",
    "report = classification_report(y_test,y_pred)\n",
    "print(report)"
   ]
  },
  {
   "cell_type": "code",
   "execution_count": 12,
   "id": "edfe6e80",
   "metadata": {},
   "outputs": [],
   "source": [
    "## the above we use both gini and entropy with max depth 5 and 10"
   ]
  },
  {
   "cell_type": "markdown",
   "id": "461ecf47",
   "metadata": {},
   "source": [
    "## METHOD: 2 using cross val evaluation"
   ]
  },
  {
   "cell_type": "code",
   "execution_count": 13,
   "id": "0f891589",
   "metadata": {},
   "outputs": [
    {
     "data": {
      "text/plain": [
       "array([0.925, 0.915, 0.88 , 0.865, 0.855])"
      ]
     },
     "execution_count": 13,
     "metadata": {},
     "output_type": "execute_result"
    }
   ],
   "source": [
    "from sklearn.model_selection import cross_val_score\n",
    "cross_val_score(DecisionTreeClassifier(criterion='entropy',max_depth=5),X,y,cv=5)"
   ]
  },
  {
   "cell_type": "code",
   "execution_count": 14,
   "id": "2bc7890e",
   "metadata": {},
   "outputs": [
    {
     "data": {
      "text/plain": [
       "array([0.905, 0.925, 0.885, 0.86 , 0.87 ])"
      ]
     },
     "execution_count": 14,
     "metadata": {},
     "output_type": "execute_result"
    }
   ],
   "source": [
    "cross_val_score(DecisionTreeClassifier(criterion='entropy',max_depth=10),X,y,cv=5)"
   ]
  },
  {
   "cell_type": "code",
   "execution_count": 15,
   "id": "3d06c79c",
   "metadata": {},
   "outputs": [
    {
     "data": {
      "text/plain": [
       "array([0.91 , 0.895, 0.895, 0.87 , 0.84 ])"
      ]
     },
     "execution_count": 15,
     "metadata": {},
     "output_type": "execute_result"
    }
   ],
   "source": [
    "cross_val_score(DecisionTreeClassifier(criterion='gini',max_depth=5),X,y,cv=5)"
   ]
  },
  {
   "cell_type": "code",
   "execution_count": 16,
   "id": "16243575",
   "metadata": {},
   "outputs": [
    {
     "data": {
      "text/plain": [
       "array([0.875, 0.885, 0.885, 0.835, 0.855])"
      ]
     },
     "execution_count": 16,
     "metadata": {},
     "output_type": "execute_result"
    }
   ],
   "source": [
    "cross_val_score(DecisionTreeClassifier(criterion='gini',max_depth=10),X,y,cv=5)"
   ]
  },
  {
   "cell_type": "code",
   "execution_count": 17,
   "id": "f502d9f5",
   "metadata": {},
   "outputs": [
    {
     "data": {
      "text/plain": [
       "{'gini_5': 0.882,\n",
       " 'gini_10': 0.867,\n",
       " 'gini_15': 0.8649999999999999,\n",
       " 'entropy_5': 0.889,\n",
       " 'entropy_10': 0.8920000000000001,\n",
       " 'entropy_15': 0.8880000000000001}"
      ]
     },
     "execution_count": 17,
     "metadata": {},
     "output_type": "execute_result"
    }
   ],
   "source": [
    "criterion = ['gini','entropy']\n",
    "max_depth = [5,10,15]\n",
    "scores={}\n",
    "for c in criterion:\n",
    "    for d in max_depth:\n",
    "        clf = DecisionTreeClassifier(criterion=c,max_depth=d)\n",
    "        score_list = cross_val_score(clf,X,y,cv=5)\n",
    "        scores[c + \"_\"+ str(d)] = np.average(score_list)\n",
    "scores"
   ]
  },
  {
   "cell_type": "markdown",
   "id": "6bb41ac8",
   "metadata": {},
   "source": [
    "### both these methods are time consuming"
   ]
  },
  {
   "cell_type": "markdown",
   "id": "b63febb3",
   "metadata": {},
   "source": [
    "## GridsearchCV"
   ]
  },
  {
   "cell_type": "code",
   "execution_count": 19,
   "id": "37ba635d",
   "metadata": {},
   "outputs": [],
   "source": [
    "from sklearn.model_selection import GridSearchCV\n"
   ]
  },
  {
   "cell_type": "code",
   "execution_count": 21,
   "id": "63de43e9",
   "metadata": {},
   "outputs": [
    {
     "data": {
      "text/plain": [
       "{'mean_fit_time': array([0.00620904, 0.00701995, 0.00651593, 0.00705624, 0.00757766,\n",
       "        0.00719991]),\n",
       " 'std_fit_time': array([0.00041735, 0.00187706, 0.00037415, 0.00030348, 0.00048519,\n",
       "        0.00091719]),\n",
       " 'mean_score_time': array([0.00059919, 0.        , 0.00019979, 0.00040045, 0.00019932,\n",
       "        0.00020161]),\n",
       " 'std_score_time': array([0.00048924, 0.        , 0.00039959, 0.00049045, 0.00039864,\n",
       "        0.00040321]),\n",
       " 'param_criterion': masked_array(data=['gini', 'gini', 'gini', 'entropy', 'entropy',\n",
       "                    'entropy'],\n",
       "              mask=[False, False, False, False, False, False],\n",
       "        fill_value='?',\n",
       "             dtype=object),\n",
       " 'param_max_depth': masked_array(data=[5, 10, 15, 5, 10, 15],\n",
       "              mask=[False, False, False, False, False, False],\n",
       "        fill_value='?',\n",
       "             dtype=object),\n",
       " 'params': [{'criterion': 'gini', 'max_depth': 5},\n",
       "  {'criterion': 'gini', 'max_depth': 10},\n",
       "  {'criterion': 'gini', 'max_depth': 15},\n",
       "  {'criterion': 'entropy', 'max_depth': 5},\n",
       "  {'criterion': 'entropy', 'max_depth': 10},\n",
       "  {'criterion': 'entropy', 'max_depth': 15}],\n",
       " 'split0_test_score': array([0.905, 0.885, 0.86 , 0.92 , 0.915, 0.91 ]),\n",
       " 'split1_test_score': array([0.895, 0.895, 0.875, 0.915, 0.93 , 0.92 ]),\n",
       " 'split2_test_score': array([0.885, 0.87 , 0.865, 0.88 , 0.865, 0.88 ]),\n",
       " 'split3_test_score': array([0.875, 0.84 , 0.83 , 0.87 , 0.855, 0.84 ]),\n",
       " 'split4_test_score': array([0.845, 0.86 , 0.825, 0.85 , 0.885, 0.895]),\n",
       " 'mean_test_score': array([0.881, 0.87 , 0.851, 0.887, 0.89 , 0.889]),\n",
       " 'std_test_score': array([0.02059126, 0.01923538, 0.01984943, 0.02675818, 0.02863564,\n",
       "        0.028     ]),\n",
       " 'rank_test_score': array([4, 5, 6, 3, 1, 2])}"
      ]
     },
     "execution_count": 21,
     "metadata": {},
     "output_type": "execute_result"
    }
   ],
   "source": [
    "clf = GridSearchCV(\n",
    "    DecisionTreeClassifier(),\n",
    "    {\n",
    "        'criterion':['gini','entropy'],\n",
    "        'max_depth': [5,10,15]\n",
    "    },\n",
    "    cv=5,\n",
    "    return_train_score = False\n",
    ")\n",
    "\n",
    "clf.fit(X,y)\n",
    "clf.cv_results_"
   ]
  },
  {
   "cell_type": "code",
   "execution_count": 22,
   "id": "fc123d41",
   "metadata": {},
   "outputs": [
    {
     "data": {
      "text/html": [
       "<div>\n",
       "<style scoped>\n",
       "    .dataframe tbody tr th:only-of-type {\n",
       "        vertical-align: middle;\n",
       "    }\n",
       "\n",
       "    .dataframe tbody tr th {\n",
       "        vertical-align: top;\n",
       "    }\n",
       "\n",
       "    .dataframe thead th {\n",
       "        text-align: right;\n",
       "    }\n",
       "</style>\n",
       "<table border=\"1\" class=\"dataframe\">\n",
       "  <thead>\n",
       "    <tr style=\"text-align: right;\">\n",
       "      <th></th>\n",
       "      <th>mean_fit_time</th>\n",
       "      <th>std_fit_time</th>\n",
       "      <th>mean_score_time</th>\n",
       "      <th>std_score_time</th>\n",
       "      <th>param_criterion</th>\n",
       "      <th>param_max_depth</th>\n",
       "      <th>params</th>\n",
       "      <th>split0_test_score</th>\n",
       "      <th>split1_test_score</th>\n",
       "      <th>split2_test_score</th>\n",
       "      <th>split3_test_score</th>\n",
       "      <th>split4_test_score</th>\n",
       "      <th>mean_test_score</th>\n",
       "      <th>std_test_score</th>\n",
       "      <th>rank_test_score</th>\n",
       "    </tr>\n",
       "  </thead>\n",
       "  <tbody>\n",
       "    <tr>\n",
       "      <th>0</th>\n",
       "      <td>0.006209</td>\n",
       "      <td>0.000417</td>\n",
       "      <td>0.000599</td>\n",
       "      <td>0.000489</td>\n",
       "      <td>gini</td>\n",
       "      <td>5</td>\n",
       "      <td>{'criterion': 'gini', 'max_depth': 5}</td>\n",
       "      <td>0.905</td>\n",
       "      <td>0.895</td>\n",
       "      <td>0.885</td>\n",
       "      <td>0.875</td>\n",
       "      <td>0.845</td>\n",
       "      <td>0.881</td>\n",
       "      <td>0.020591</td>\n",
       "      <td>4</td>\n",
       "    </tr>\n",
       "    <tr>\n",
       "      <th>1</th>\n",
       "      <td>0.007020</td>\n",
       "      <td>0.001877</td>\n",
       "      <td>0.000000</td>\n",
       "      <td>0.000000</td>\n",
       "      <td>gini</td>\n",
       "      <td>10</td>\n",
       "      <td>{'criterion': 'gini', 'max_depth': 10}</td>\n",
       "      <td>0.885</td>\n",
       "      <td>0.895</td>\n",
       "      <td>0.870</td>\n",
       "      <td>0.840</td>\n",
       "      <td>0.860</td>\n",
       "      <td>0.870</td>\n",
       "      <td>0.019235</td>\n",
       "      <td>5</td>\n",
       "    </tr>\n",
       "    <tr>\n",
       "      <th>2</th>\n",
       "      <td>0.006516</td>\n",
       "      <td>0.000374</td>\n",
       "      <td>0.000200</td>\n",
       "      <td>0.000400</td>\n",
       "      <td>gini</td>\n",
       "      <td>15</td>\n",
       "      <td>{'criterion': 'gini', 'max_depth': 15}</td>\n",
       "      <td>0.860</td>\n",
       "      <td>0.875</td>\n",
       "      <td>0.865</td>\n",
       "      <td>0.830</td>\n",
       "      <td>0.825</td>\n",
       "      <td>0.851</td>\n",
       "      <td>0.019849</td>\n",
       "      <td>6</td>\n",
       "    </tr>\n",
       "    <tr>\n",
       "      <th>3</th>\n",
       "      <td>0.007056</td>\n",
       "      <td>0.000303</td>\n",
       "      <td>0.000400</td>\n",
       "      <td>0.000490</td>\n",
       "      <td>entropy</td>\n",
       "      <td>5</td>\n",
       "      <td>{'criterion': 'entropy', 'max_depth': 5}</td>\n",
       "      <td>0.920</td>\n",
       "      <td>0.915</td>\n",
       "      <td>0.880</td>\n",
       "      <td>0.870</td>\n",
       "      <td>0.850</td>\n",
       "      <td>0.887</td>\n",
       "      <td>0.026758</td>\n",
       "      <td>3</td>\n",
       "    </tr>\n",
       "    <tr>\n",
       "      <th>4</th>\n",
       "      <td>0.007578</td>\n",
       "      <td>0.000485</td>\n",
       "      <td>0.000199</td>\n",
       "      <td>0.000399</td>\n",
       "      <td>entropy</td>\n",
       "      <td>10</td>\n",
       "      <td>{'criterion': 'entropy', 'max_depth': 10}</td>\n",
       "      <td>0.915</td>\n",
       "      <td>0.930</td>\n",
       "      <td>0.865</td>\n",
       "      <td>0.855</td>\n",
       "      <td>0.885</td>\n",
       "      <td>0.890</td>\n",
       "      <td>0.028636</td>\n",
       "      <td>1</td>\n",
       "    </tr>\n",
       "    <tr>\n",
       "      <th>5</th>\n",
       "      <td>0.007200</td>\n",
       "      <td>0.000917</td>\n",
       "      <td>0.000202</td>\n",
       "      <td>0.000403</td>\n",
       "      <td>entropy</td>\n",
       "      <td>15</td>\n",
       "      <td>{'criterion': 'entropy', 'max_depth': 15}</td>\n",
       "      <td>0.910</td>\n",
       "      <td>0.920</td>\n",
       "      <td>0.880</td>\n",
       "      <td>0.840</td>\n",
       "      <td>0.895</td>\n",
       "      <td>0.889</td>\n",
       "      <td>0.028000</td>\n",
       "      <td>2</td>\n",
       "    </tr>\n",
       "  </tbody>\n",
       "</table>\n",
       "</div>"
      ],
      "text/plain": [
       "   mean_fit_time  std_fit_time  mean_score_time  std_score_time  \\\n",
       "0       0.006209      0.000417         0.000599        0.000489   \n",
       "1       0.007020      0.001877         0.000000        0.000000   \n",
       "2       0.006516      0.000374         0.000200        0.000400   \n",
       "3       0.007056      0.000303         0.000400        0.000490   \n",
       "4       0.007578      0.000485         0.000199        0.000399   \n",
       "5       0.007200      0.000917         0.000202        0.000403   \n",
       "\n",
       "  param_criterion param_max_depth                                     params  \\\n",
       "0            gini               5      {'criterion': 'gini', 'max_depth': 5}   \n",
       "1            gini              10     {'criterion': 'gini', 'max_depth': 10}   \n",
       "2            gini              15     {'criterion': 'gini', 'max_depth': 15}   \n",
       "3         entropy               5   {'criterion': 'entropy', 'max_depth': 5}   \n",
       "4         entropy              10  {'criterion': 'entropy', 'max_depth': 10}   \n",
       "5         entropy              15  {'criterion': 'entropy', 'max_depth': 15}   \n",
       "\n",
       "   split0_test_score  split1_test_score  split2_test_score  split3_test_score  \\\n",
       "0              0.905              0.895              0.885              0.875   \n",
       "1              0.885              0.895              0.870              0.840   \n",
       "2              0.860              0.875              0.865              0.830   \n",
       "3              0.920              0.915              0.880              0.870   \n",
       "4              0.915              0.930              0.865              0.855   \n",
       "5              0.910              0.920              0.880              0.840   \n",
       "\n",
       "   split4_test_score  mean_test_score  std_test_score  rank_test_score  \n",
       "0              0.845            0.881        0.020591                4  \n",
       "1              0.860            0.870        0.019235                5  \n",
       "2              0.825            0.851        0.019849                6  \n",
       "3              0.850            0.887        0.026758                3  \n",
       "4              0.885            0.890        0.028636                1  \n",
       "5              0.895            0.889        0.028000                2  "
      ]
     },
     "execution_count": 22,
     "metadata": {},
     "output_type": "execute_result"
    }
   ],
   "source": [
    "df = pd.DataFrame(clf.cv_results_)\n",
    "df"
   ]
  },
  {
   "cell_type": "code",
   "execution_count": 23,
   "id": "ed36cf32",
   "metadata": {},
   "outputs": [
    {
     "data": {
      "text/html": [
       "<div>\n",
       "<style scoped>\n",
       "    .dataframe tbody tr th:only-of-type {\n",
       "        vertical-align: middle;\n",
       "    }\n",
       "\n",
       "    .dataframe tbody tr th {\n",
       "        vertical-align: top;\n",
       "    }\n",
       "\n",
       "    .dataframe thead th {\n",
       "        text-align: right;\n",
       "    }\n",
       "</style>\n",
       "<table border=\"1\" class=\"dataframe\">\n",
       "  <thead>\n",
       "    <tr style=\"text-align: right;\">\n",
       "      <th></th>\n",
       "      <th>param_criterion</th>\n",
       "      <th>param_max_depth</th>\n",
       "      <th>mean_test_score</th>\n",
       "    </tr>\n",
       "  </thead>\n",
       "  <tbody>\n",
       "    <tr>\n",
       "      <th>0</th>\n",
       "      <td>gini</td>\n",
       "      <td>5</td>\n",
       "      <td>0.881</td>\n",
       "    </tr>\n",
       "    <tr>\n",
       "      <th>1</th>\n",
       "      <td>gini</td>\n",
       "      <td>10</td>\n",
       "      <td>0.870</td>\n",
       "    </tr>\n",
       "    <tr>\n",
       "      <th>2</th>\n",
       "      <td>gini</td>\n",
       "      <td>15</td>\n",
       "      <td>0.851</td>\n",
       "    </tr>\n",
       "    <tr>\n",
       "      <th>3</th>\n",
       "      <td>entropy</td>\n",
       "      <td>5</td>\n",
       "      <td>0.887</td>\n",
       "    </tr>\n",
       "    <tr>\n",
       "      <th>4</th>\n",
       "      <td>entropy</td>\n",
       "      <td>10</td>\n",
       "      <td>0.890</td>\n",
       "    </tr>\n",
       "    <tr>\n",
       "      <th>5</th>\n",
       "      <td>entropy</td>\n",
       "      <td>15</td>\n",
       "      <td>0.889</td>\n",
       "    </tr>\n",
       "  </tbody>\n",
       "</table>\n",
       "</div>"
      ],
      "text/plain": [
       "  param_criterion param_max_depth  mean_test_score\n",
       "0            gini               5            0.881\n",
       "1            gini              10            0.870\n",
       "2            gini              15            0.851\n",
       "3         entropy               5            0.887\n",
       "4         entropy              10            0.890\n",
       "5         entropy              15            0.889"
      ]
     },
     "execution_count": 23,
     "metadata": {},
     "output_type": "execute_result"
    }
   ],
   "source": [
    "df[['param_criterion','param_max_depth','mean_test_score']]"
   ]
  },
  {
   "cell_type": "code",
   "execution_count": 24,
   "id": "84c076f9",
   "metadata": {},
   "outputs": [
    {
     "data": {
      "text/plain": [
       "{'criterion': 'entropy', 'max_depth': 10}"
      ]
     },
     "execution_count": 24,
     "metadata": {},
     "output_type": "execute_result"
    }
   ],
   "source": [
    "clf.best_params_"
   ]
  },
  {
   "cell_type": "code",
   "execution_count": 25,
   "id": "80628839",
   "metadata": {},
   "outputs": [
    {
     "data": {
      "text/html": [
       "<style>#sk-container-id-1 {color: black;background-color: white;}#sk-container-id-1 pre{padding: 0;}#sk-container-id-1 div.sk-toggleable {background-color: white;}#sk-container-id-1 label.sk-toggleable__label {cursor: pointer;display: block;width: 100%;margin-bottom: 0;padding: 0.3em;box-sizing: border-box;text-align: center;}#sk-container-id-1 label.sk-toggleable__label-arrow:before {content: \"▸\";float: left;margin-right: 0.25em;color: #696969;}#sk-container-id-1 label.sk-toggleable__label-arrow:hover:before {color: black;}#sk-container-id-1 div.sk-estimator:hover label.sk-toggleable__label-arrow:before {color: black;}#sk-container-id-1 div.sk-toggleable__content {max-height: 0;max-width: 0;overflow: hidden;text-align: left;background-color: #f0f8ff;}#sk-container-id-1 div.sk-toggleable__content pre {margin: 0.2em;color: black;border-radius: 0.25em;background-color: #f0f8ff;}#sk-container-id-1 input.sk-toggleable__control:checked~div.sk-toggleable__content {max-height: 200px;max-width: 100%;overflow: auto;}#sk-container-id-1 input.sk-toggleable__control:checked~label.sk-toggleable__label-arrow:before {content: \"▾\";}#sk-container-id-1 div.sk-estimator input.sk-toggleable__control:checked~label.sk-toggleable__label {background-color: #d4ebff;}#sk-container-id-1 div.sk-label input.sk-toggleable__control:checked~label.sk-toggleable__label {background-color: #d4ebff;}#sk-container-id-1 input.sk-hidden--visually {border: 0;clip: rect(1px 1px 1px 1px);clip: rect(1px, 1px, 1px, 1px);height: 1px;margin: -1px;overflow: hidden;padding: 0;position: absolute;width: 1px;}#sk-container-id-1 div.sk-estimator {font-family: monospace;background-color: #f0f8ff;border: 1px dotted black;border-radius: 0.25em;box-sizing: border-box;margin-bottom: 0.5em;}#sk-container-id-1 div.sk-estimator:hover {background-color: #d4ebff;}#sk-container-id-1 div.sk-parallel-item::after {content: \"\";width: 100%;border-bottom: 1px solid gray;flex-grow: 1;}#sk-container-id-1 div.sk-label:hover label.sk-toggleable__label {background-color: #d4ebff;}#sk-container-id-1 div.sk-serial::before {content: \"\";position: absolute;border-left: 1px solid gray;box-sizing: border-box;top: 0;bottom: 0;left: 50%;z-index: 0;}#sk-container-id-1 div.sk-serial {display: flex;flex-direction: column;align-items: center;background-color: white;padding-right: 0.2em;padding-left: 0.2em;position: relative;}#sk-container-id-1 div.sk-item {position: relative;z-index: 1;}#sk-container-id-1 div.sk-parallel {display: flex;align-items: stretch;justify-content: center;background-color: white;position: relative;}#sk-container-id-1 div.sk-item::before, #sk-container-id-1 div.sk-parallel-item::before {content: \"\";position: absolute;border-left: 1px solid gray;box-sizing: border-box;top: 0;bottom: 0;left: 50%;z-index: -1;}#sk-container-id-1 div.sk-parallel-item {display: flex;flex-direction: column;z-index: 1;position: relative;background-color: white;}#sk-container-id-1 div.sk-parallel-item:first-child::after {align-self: flex-end;width: 50%;}#sk-container-id-1 div.sk-parallel-item:last-child::after {align-self: flex-start;width: 50%;}#sk-container-id-1 div.sk-parallel-item:only-child::after {width: 0;}#sk-container-id-1 div.sk-dashed-wrapped {border: 1px dashed gray;margin: 0 0.4em 0.5em 0.4em;box-sizing: border-box;padding-bottom: 0.4em;background-color: white;}#sk-container-id-1 div.sk-label label {font-family: monospace;font-weight: bold;display: inline-block;line-height: 1.2em;}#sk-container-id-1 div.sk-label-container {text-align: center;}#sk-container-id-1 div.sk-container {/* jupyter's `normalize.less` sets `[hidden] { display: none; }` but bootstrap.min.css set `[hidden] { display: none !important; }` so we also need the `!important` here to be able to override the default hidden behavior on the sphinx rendered scikit-learn.org. See: https://github.com/scikit-learn/scikit-learn/issues/21755 */display: inline-block !important;position: relative;}#sk-container-id-1 div.sk-text-repr-fallback {display: none;}</style><div id=\"sk-container-id-1\" class=\"sk-top-container\"><div class=\"sk-text-repr-fallback\"><pre>DecisionTreeClassifier(criterion=&#x27;entropy&#x27;, max_depth=10)</pre><b>In a Jupyter environment, please rerun this cell to show the HTML representation or trust the notebook. <br />On GitHub, the HTML representation is unable to render, please try loading this page with nbviewer.org.</b></div><div class=\"sk-container\" hidden><div class=\"sk-item\"><div class=\"sk-estimator sk-toggleable\"><input class=\"sk-toggleable__control sk-hidden--visually\" id=\"sk-estimator-id-1\" type=\"checkbox\" checked><label for=\"sk-estimator-id-1\" class=\"sk-toggleable__label sk-toggleable__label-arrow\">DecisionTreeClassifier</label><div class=\"sk-toggleable__content\"><pre>DecisionTreeClassifier(criterion=&#x27;entropy&#x27;, max_depth=10)</pre></div></div></div></div></div>"
      ],
      "text/plain": [
       "DecisionTreeClassifier(criterion='entropy', max_depth=10)"
      ]
     },
     "execution_count": 25,
     "metadata": {},
     "output_type": "execute_result"
    }
   ],
   "source": [
    "clf.best_estimator_"
   ]
  },
  {
   "cell_type": "markdown",
   "id": "8697afbc",
   "metadata": {},
   "source": [
    "## GridSearchcsv using 2 models"
   ]
  },
  {
   "cell_type": "code",
   "execution_count": 40,
   "id": "1350304d",
   "metadata": {},
   "outputs": [],
   "source": [
    "from sklearn.svm import SVC"
   ]
  },
  {
   "cell_type": "code",
   "execution_count": 42,
   "id": "8fa851bd",
   "metadata": {},
   "outputs": [
    {
     "data": {
      "text/plain": [
       "[{'model': 'Decision_tree',\n",
       "  'best_score': 0.891,\n",
       "  'best_parmas': {'criterion': 'entropy', 'max_depth': 15}},\n",
       " {'model': 'svm',\n",
       "  'best_score': 0.917,\n",
       "  'best_parmas': {'C': 1, 'kernel': 'rbf'}}]"
      ]
     },
     "execution_count": 42,
     "metadata": {},
     "output_type": "execute_result"
    }
   ],
   "source": [
    "model_params = {\n",
    "    'Decision_tree':{\n",
    "        'model': DecisionTreeClassifier(),\n",
    "        'params':{\n",
    "            'criterion':['gini','entropy'],\n",
    "            'max_depth':[5,10,15,20]\n",
    "        }\n",
    "        \n",
    "    },\n",
    "    'svm':{\n",
    "        'model': SVC(gamma='auto'),\n",
    "        'params':{\n",
    "            'C':[1,10,20,30],\n",
    "            'kernel':['rbf','linear']\n",
    "        }\n",
    "        \n",
    "    }\n",
    "}\n",
    "scores=[]\n",
    "for key,val in model_params.items():\n",
    "    clf = GridSearchCV(val['model'],val['params'],cv=5,return_train_score=False)\n",
    "    clf.fit(X,y)\n",
    "    scores.append({\n",
    "        'model':key,\n",
    "        'best_score':clf.best_score_,\n",
    "        'best_parmas':clf.best_params_\n",
    "    })\n",
    "    \n",
    "scores"
   ]
  },
  {
   "cell_type": "code",
   "execution_count": 43,
   "id": "1eee8fb9",
   "metadata": {},
   "outputs": [
    {
     "data": {
      "text/html": [
       "<div>\n",
       "<style scoped>\n",
       "    .dataframe tbody tr th:only-of-type {\n",
       "        vertical-align: middle;\n",
       "    }\n",
       "\n",
       "    .dataframe tbody tr th {\n",
       "        vertical-align: top;\n",
       "    }\n",
       "\n",
       "    .dataframe thead th {\n",
       "        text-align: right;\n",
       "    }\n",
       "</style>\n",
       "<table border=\"1\" class=\"dataframe\">\n",
       "  <thead>\n",
       "    <tr style=\"text-align: right;\">\n",
       "      <th></th>\n",
       "      <th>model</th>\n",
       "      <th>best_score</th>\n",
       "      <th>best_parmas</th>\n",
       "    </tr>\n",
       "  </thead>\n",
       "  <tbody>\n",
       "    <tr>\n",
       "      <th>0</th>\n",
       "      <td>Decision_tree</td>\n",
       "      <td>0.891</td>\n",
       "      <td>{'criterion': 'entropy', 'max_depth': 15}</td>\n",
       "    </tr>\n",
       "    <tr>\n",
       "      <th>1</th>\n",
       "      <td>svm</td>\n",
       "      <td>0.917</td>\n",
       "      <td>{'C': 1, 'kernel': 'rbf'}</td>\n",
       "    </tr>\n",
       "  </tbody>\n",
       "</table>\n",
       "</div>"
      ],
      "text/plain": [
       "           model  best_score                                best_parmas\n",
       "0  Decision_tree       0.891  {'criterion': 'entropy', 'max_depth': 15}\n",
       "1            svm       0.917                  {'C': 1, 'kernel': 'rbf'}"
      ]
     },
     "execution_count": 43,
     "metadata": {},
     "output_type": "execute_result"
    }
   ],
   "source": [
    "pd.DataFrame(scores)"
   ]
  },
  {
   "cell_type": "code",
   "execution_count": null,
   "id": "9acd4230",
   "metadata": {},
   "outputs": [],
   "source": []
  }
 ],
 "metadata": {
  "kernelspec": {
   "display_name": "Python 3 (ipykernel)",
   "language": "python",
   "name": "python3"
  },
  "language_info": {
   "codemirror_mode": {
    "name": "ipython",
    "version": 3
   },
   "file_extension": ".py",
   "mimetype": "text/x-python",
   "name": "python",
   "nbconvert_exporter": "python",
   "pygments_lexer": "ipython3",
   "version": "3.11.4"
  }
 },
 "nbformat": 4,
 "nbformat_minor": 5
}
