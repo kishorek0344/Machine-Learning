{
 "cells": [
  {
   "cell_type": "markdown",
   "id": "82d66051",
   "metadata": {},
   "source": [
    "### Comparing Weather Temperature Variability for Agricultural Investment Decisions\n",
    "\n",
    "**context:** An agricultural investment firm is in the process of deciding on a location for a new farming project. Understanding that **consistent** and predictable weather conditions are vital for successful agriculture, the firm aims to evaluate and compare two potential cities based on their temperature stability. The key factor in this decision-making process is the variability in average daily temperatures, as it directly impacts crop growth and agricultural planning.\n",
    "\n",
    "The firm has provided a dataset, named **\"climate_stability_comparison.xlsx\"**, to aid in this assessment. This dataset includes the following columns:\n",
    "\n",
    "- **month:** Indicates the month of the year.\n",
    "- **Avg Temp City A (°C):** The average daily temperature for City A in each month, measured in degrees Celsius.\n",
    "- **Avg Temp City B (°C):** The average daily temperature for City B in each month, measured in degrees Celsius."
   ]
  },
  {
   "cell_type": "markdown",
   "id": "af563f1e",
   "metadata": {},
   "source": [
    "### Task Objective\n",
    "\n",
    "- Calculate the standard deviation for average temperatures in both cities.\n",
    "- Determine which city has a higher temperature variability.\n",
    "- Decide on the city with more stable (lower variability) temperatures for agricultural investment."
   ]
  },
  {
   "cell_type": "code",
   "execution_count": 1,
   "id": "7c519fd8",
   "metadata": {},
   "outputs": [],
   "source": [
    "import numpy as np"
   ]
  },
  {
   "cell_type": "code",
   "execution_count": 2,
   "id": "0dfe1547",
   "metadata": {},
   "outputs": [],
   "source": [
    "import pandas as pd"
   ]
  },
  {
   "cell_type": "code",
   "execution_count": 3,
   "id": "1f6bcd63",
   "metadata": {},
   "outputs": [
    {
     "data": {
      "text/html": [
       "<div>\n",
       "<style scoped>\n",
       "    .dataframe tbody tr th:only-of-type {\n",
       "        vertical-align: middle;\n",
       "    }\n",
       "\n",
       "    .dataframe tbody tr th {\n",
       "        vertical-align: top;\n",
       "    }\n",
       "\n",
       "    .dataframe thead th {\n",
       "        text-align: right;\n",
       "    }\n",
       "</style>\n",
       "<table border=\"1\" class=\"dataframe\">\n",
       "  <thead>\n",
       "    <tr style=\"text-align: right;\">\n",
       "      <th></th>\n",
       "      <th>month</th>\n",
       "      <th>Avg Temp City A (°C)</th>\n",
       "      <th>Avg Temp City B (°C)</th>\n",
       "    </tr>\n",
       "  </thead>\n",
       "  <tbody>\n",
       "    <tr>\n",
       "      <th>0</th>\n",
       "      <td>January</td>\n",
       "      <td>14</td>\n",
       "      <td>13</td>\n",
       "    </tr>\n",
       "    <tr>\n",
       "      <th>1</th>\n",
       "      <td>February</td>\n",
       "      <td>15</td>\n",
       "      <td>16</td>\n",
       "    </tr>\n",
       "    <tr>\n",
       "      <th>2</th>\n",
       "      <td>March</td>\n",
       "      <td>14</td>\n",
       "      <td>18</td>\n",
       "    </tr>\n",
       "  </tbody>\n",
       "</table>\n",
       "</div>"
      ],
      "text/plain": [
       "      month  Avg Temp City A (°C)  Avg Temp City B (°C)\n",
       "0   January                    14                    13\n",
       "1  February                    15                    16\n",
       "2     March                    14                    18"
      ]
     },
     "execution_count": 3,
     "metadata": {},
     "output_type": "execute_result"
    }
   ],
   "source": [
    "df = pd.read_excel(\"climate_stability_comparison.xlsx\")\n",
    "df.head(3)"
   ]
  },
  {
   "cell_type": "code",
   "execution_count": 8,
   "id": "1c35a8d2",
   "metadata": {},
   "outputs": [],
   "source": [
    "a=df['Avg Temp City A (°C)'].std()"
   ]
  },
  {
   "cell_type": "code",
   "execution_count": 7,
   "id": "31392659",
   "metadata": {},
   "outputs": [],
   "source": [
    "b=df['Avg Temp City B (°C)'].std()"
   ]
  },
  {
   "cell_type": "code",
   "execution_count": 9,
   "id": "91550a41",
   "metadata": {},
   "outputs": [
    {
     "name": "stdout",
     "output_type": "stream",
     "text": [
      "city b is more stable\n"
     ]
    }
   ],
   "source": [
    "if a > b:\n",
    "    print(\"city a is more stable\")\n",
    "else:\n",
    "    print(\"city b is more stable\")"
   ]
  },
  {
   "cell_type": "code",
   "execution_count": null,
   "id": "c8de42ab",
   "metadata": {},
   "outputs": [],
   "source": []
  }
 ],
 "metadata": {
  "kernelspec": {
   "display_name": "Python 3 (ipykernel)",
   "language": "python",
   "name": "python3"
  },
  "language_info": {
   "codemirror_mode": {
    "name": "ipython",
    "version": 3
   },
   "file_extension": ".py",
   "mimetype": "text/x-python",
   "name": "python",
   "nbconvert_exporter": "python",
   "pygments_lexer": "ipython3",
   "version": "3.11.4"
  }
 },
 "nbformat": 4,
 "nbformat_minor": 5
}
