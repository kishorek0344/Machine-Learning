{
 "cells": [
  {
   "cell_type": "code",
   "execution_count": 1,
   "id": "795120d9",
   "metadata": {},
   "outputs": [],
   "source": [
    "import numpy as np"
   ]
  },
  {
   "cell_type": "code",
   "execution_count": 3,
   "id": "67d1c631",
   "metadata": {},
   "outputs": [],
   "source": [
    "a=np.array([1,2,3])"
   ]
  },
  {
   "cell_type": "code",
   "execution_count": 4,
   "id": "9e789a26",
   "metadata": {},
   "outputs": [
    {
     "data": {
      "text/plain": [
       "array([1, 2, 3])"
      ]
     },
     "execution_count": 4,
     "metadata": {},
     "output_type": "execute_result"
    }
   ],
   "source": [
    "a"
   ]
  },
  {
   "cell_type": "code",
   "execution_count": 5,
   "id": "9b4ce6bd",
   "metadata": {},
   "outputs": [
    {
     "data": {
      "text/plain": [
       "[0, 1, 2, 3, 4]"
      ]
     },
     "execution_count": 5,
     "metadata": {},
     "output_type": "execute_result"
    }
   ],
   "source": [
    "py_list=list(range(100))\n",
    "py_list[:5]"
   ]
  },
  {
   "cell_type": "code",
   "execution_count": 7,
   "id": "46267e4f",
   "metadata": {},
   "outputs": [
    {
     "data": {
      "text/plain": [
       "2800"
      ]
     },
     "execution_count": 7,
     "metadata": {},
     "output_type": "execute_result"
    }
   ],
   "source": [
    "import sys\n",
    "\n",
    "sys.getsizeof(py_list[0])*len(py_list)"
   ]
  },
  {
   "cell_type": "code",
   "execution_count": 8,
   "id": "6a6661a2",
   "metadata": {},
   "outputs": [
    {
     "data": {
      "text/plain": [
       "array([0, 1, 2, 3, 4])"
      ]
     },
     "execution_count": 8,
     "metadata": {},
     "output_type": "execute_result"
    }
   ],
   "source": [
    "num_arr=np.array(range(100))\n",
    "num_arr[:5]"
   ]
  },
  {
   "cell_type": "code",
   "execution_count": 10,
   "id": "0ec907be",
   "metadata": {},
   "outputs": [
    {
     "data": {
      "text/plain": [
       "400"
      ]
     },
     "execution_count": 10,
     "metadata": {},
     "output_type": "execute_result"
    }
   ],
   "source": [
    "num_arr.nbytes"
   ]
  },
  {
   "cell_type": "code",
   "execution_count": 13,
   "id": "1d6462df",
   "metadata": {},
   "outputs": [
    {
     "data": {
      "text/plain": [
       "((1, 4), (2, 5), (3, 6))"
      ]
     },
     "execution_count": 13,
     "metadata": {},
     "output_type": "execute_result"
    }
   ],
   "source": [
    "l1=[1,2,3]\n",
    "l2=[4,5,6]\n",
    "tuple(zip(l1,l2))"
   ]
  },
  {
   "cell_type": "code",
   "execution_count": 19,
   "id": "906ccecf",
   "metadata": {},
   "outputs": [
    {
     "name": "stdout",
     "output_type": "stream",
     "text": [
      "1.2886435985565186\n"
     ]
    }
   ],
   "source": [
    "import time\n",
    "size = 10000000\n",
    "l1=list(range(size))\n",
    "l2=list(range(size))\n",
    "start=time.time()\n",
    "l3 = [x+y for x,y in zip(l1,l2)]\n",
    "end=time.time()\n",
    "\n",
    "print(end-start)"
   ]
  },
  {
   "cell_type": "code",
   "execution_count": 20,
   "id": "984c8fa8",
   "metadata": {},
   "outputs": [
    {
     "name": "stdout",
     "output_type": "stream",
     "text": [
      "0.012489557266235352\n"
     ]
    }
   ],
   "source": [
    "arr1 = np.array(range(size))\n",
    "arr2=np.array(range(size))\n",
    "start=time.time()\n",
    "arr3=arr1+arr2\n",
    "end=time.time()\n",
    "print(end-start)"
   ]
  },
  {
   "cell_type": "code",
   "execution_count": 21,
   "id": "b5ceee16",
   "metadata": {},
   "outputs": [
    {
     "data": {
      "text/plain": [
       "1"
      ]
     },
     "execution_count": 21,
     "metadata": {},
     "output_type": "execute_result"
    }
   ],
   "source": [
    "arr1.ndim"
   ]
  },
  {
   "cell_type": "code",
   "execution_count": 27,
   "id": "2baebbf6",
   "metadata": {},
   "outputs": [],
   "source": [
    "a=np.array([[1,2,4],[1,2,3]], dtype=np.float64)"
   ]
  },
  {
   "cell_type": "code",
   "execution_count": 28,
   "id": "bae5acdd",
   "metadata": {},
   "outputs": [
    {
     "data": {
      "text/plain": [
       "array([[1., 2., 4.],\n",
       "       [1., 2., 3.]])"
      ]
     },
     "execution_count": 28,
     "metadata": {},
     "output_type": "execute_result"
    }
   ],
   "source": [
    "a"
   ]
  },
  {
   "cell_type": "code",
   "execution_count": 31,
   "id": "b62fc716",
   "metadata": {},
   "outputs": [],
   "source": [
    "a[0][0]=9"
   ]
  },
  {
   "cell_type": "code",
   "execution_count": 29,
   "id": "31cba809",
   "metadata": {},
   "outputs": [
    {
     "data": {
      "text/plain": [
       "8"
      ]
     },
     "execution_count": 29,
     "metadata": {},
     "output_type": "execute_result"
    }
   ],
   "source": [
    "a.itemsize"
   ]
  },
  {
   "cell_type": "code",
   "execution_count": 30,
   "id": "1f86677a",
   "metadata": {},
   "outputs": [
    {
     "data": {
      "text/plain": [
       "6"
      ]
     },
     "execution_count": 30,
     "metadata": {},
     "output_type": "execute_result"
    }
   ],
   "source": [
    "a.size"
   ]
  },
  {
   "cell_type": "code",
   "execution_count": 32,
   "id": "01828612",
   "metadata": {},
   "outputs": [
    {
     "data": {
      "text/plain": [
       "array([[9., 2., 4.],\n",
       "       [1., 2., 3.]])"
      ]
     },
     "execution_count": 32,
     "metadata": {},
     "output_type": "execute_result"
    }
   ],
   "source": [
    "a"
   ]
  },
  {
   "cell_type": "code",
   "execution_count": 34,
   "id": "675f0b39",
   "metadata": {},
   "outputs": [
    {
     "data": {
      "text/plain": [
       "array([1., 2., 2., 3., 4., 9.])"
      ]
     },
     "execution_count": 34,
     "metadata": {},
     "output_type": "execute_result"
    }
   ],
   "source": [
    "np.sort(a, axis=None)"
   ]
  },
  {
   "cell_type": "code",
   "execution_count": 38,
   "id": "7a88e2dd",
   "metadata": {},
   "outputs": [
    {
     "data": {
      "text/plain": [
       "array([[1., 1., 1.],\n",
       "       [1., 1., 1.]])"
      ]
     },
     "execution_count": 38,
     "metadata": {},
     "output_type": "execute_result"
    }
   ],
   "source": [
    "np.ones((2,3))"
   ]
  },
  {
   "cell_type": "code",
   "execution_count": 44,
   "id": "edcd68d7",
   "metadata": {},
   "outputs": [
    {
     "data": {
      "text/plain": [
       "array([ 3. ,  3.7,  4.4,  5.1,  5.8,  6.5,  7.2,  7.9,  8.6,  9.3, 10. ])"
      ]
     },
     "execution_count": 44,
     "metadata": {},
     "output_type": "execute_result"
    }
   ],
   "source": [
    "np.linspace(3,10,11)"
   ]
  },
  {
   "cell_type": "code",
   "execution_count": 45,
   "id": "ab8d9e66",
   "metadata": {},
   "outputs": [
    {
     "data": {
      "text/plain": [
       "array([9., 2., 4., 1., 2., 3.])"
      ]
     },
     "execution_count": 45,
     "metadata": {},
     "output_type": "execute_result"
    }
   ],
   "source": [
    "a.ravel()"
   ]
  },
  {
   "cell_type": "code",
   "execution_count": 46,
   "id": "ab65822e",
   "metadata": {},
   "outputs": [
    {
     "data": {
      "text/plain": [
       "array([9., 2., 4., 1., 2., 3.])"
      ]
     },
     "execution_count": 46,
     "metadata": {},
     "output_type": "execute_result"
    }
   ],
   "source": [
    "a.flatten()"
   ]
  },
  {
   "cell_type": "code",
   "execution_count": 47,
   "id": "1cbbd5ef",
   "metadata": {},
   "outputs": [
    {
     "data": {
      "text/plain": [
       "array([[9., 2., 4.],\n",
       "       [1., 2., 3.]])"
      ]
     },
     "execution_count": 47,
     "metadata": {},
     "output_type": "execute_result"
    }
   ],
   "source": [
    "a"
   ]
  },
  {
   "cell_type": "code",
   "execution_count": 48,
   "id": "d6374fbd",
   "metadata": {},
   "outputs": [
    {
     "data": {
      "text/plain": [
       "21.0"
      ]
     },
     "execution_count": 48,
     "metadata": {},
     "output_type": "execute_result"
    }
   ],
   "source": [
    "a.sum()"
   ]
  },
  {
   "cell_type": "code",
   "execution_count": 49,
   "id": "2a2d9f3d",
   "metadata": {},
   "outputs": [
    {
     "data": {
      "text/plain": [
       "array([15.,  6.])"
      ]
     },
     "execution_count": 49,
     "metadata": {},
     "output_type": "execute_result"
    }
   ],
   "source": [
    "a.sum(axis=1)"
   ]
  },
  {
   "cell_type": "code",
   "execution_count": 50,
   "id": "628758b6",
   "metadata": {},
   "outputs": [
    {
     "data": {
      "text/plain": [
       "array([10.,  4.,  7.])"
      ]
     },
     "execution_count": 50,
     "metadata": {},
     "output_type": "execute_result"
    }
   ],
   "source": [
    "a.sum(axis=0)"
   ]
  },
  {
   "cell_type": "code",
   "execution_count": 52,
   "id": "85c3c007",
   "metadata": {},
   "outputs": [
    {
     "name": "stdout",
     "output_type": "stream",
     "text": [
      "row-> [9. 2. 4.]\n",
      "row-> [1. 2. 3.]\n"
     ]
    }
   ],
   "source": [
    "for c in a:\n",
    "    print(\"row->\",c)"
   ]
  },
  {
   "cell_type": "code",
   "execution_count": 69,
   "id": "26d00ca0",
   "metadata": {},
   "outputs": [],
   "source": [
    "q1=np.array([\n",
    "    [200,220,250],\n",
    "    [150,180,210],\n",
    "    [300,330,360]\n",
    "])\n",
    "\n",
    "q2=np.array([\n",
    "    [209,231,259],\n",
    "    [155,192,222],\n",
    "    [310,340,375]\n",
    "])\n",
    "prices=np.array([\n",
    "    [10,12,11],\n",
    "    [8,9,10],\n",
    "    [15,16,17]\n",
    "])"
   ]
  },
  {
   "cell_type": "code",
   "execution_count": 55,
   "id": "e99259f3",
   "metadata": {},
   "outputs": [
    {
     "data": {
      "text/plain": [
       "array([[409, 451, 509],\n",
       "       [305, 372, 432],\n",
       "       [610, 670, 735]])"
      ]
     },
     "execution_count": 55,
     "metadata": {},
     "output_type": "execute_result"
    }
   ],
   "source": [
    "q1+q2"
   ]
  },
  {
   "cell_type": "code",
   "execution_count": 57,
   "id": "4403e7d2",
   "metadata": {},
   "outputs": [
    {
     "data": {
      "text/plain": [
       "array([[ 9, 11,  9],\n",
       "       [ 5, 12, 12],\n",
       "       [10, 10, 15]])"
      ]
     },
     "execution_count": 57,
     "metadata": {},
     "output_type": "execute_result"
    }
   ],
   "source": [
    "q2-q1"
   ]
  },
  {
   "cell_type": "code",
   "execution_count": 59,
   "id": "3e224c88",
   "metadata": {},
   "outputs": [
    {
     "data": {
      "text/plain": [
       "array([[4.5       , 5.        , 3.6       ],\n",
       "       [3.33333333, 6.66666667, 5.71428571],\n",
       "       [3.33333333, 3.03030303, 4.16666667]])"
      ]
     },
     "execution_count": 59,
     "metadata": {},
     "output_type": "execute_result"
    }
   ],
   "source": [
    "per=(q2-q1)*100/q1\n",
    "per"
   ]
  },
  {
   "cell_type": "code",
   "execution_count": 61,
   "id": "67993f1b",
   "metadata": {},
   "outputs": [
    {
     "data": {
      "text/plain": [
       "array([[2000, 2640, 2750],\n",
       "       [1200, 1620, 2100],\n",
       "       [4500, 5280, 6120]])"
      ]
     },
     "execution_count": 61,
     "metadata": {},
     "output_type": "execute_result"
    }
   ],
   "source": [
    "q1_revenue=q1*prices\n",
    "q1_revenue"
   ]
  },
  {
   "cell_type": "code",
   "execution_count": 63,
   "id": "70c4144c",
   "metadata": {},
   "outputs": [
    {
     "data": {
      "text/plain": [
       "array([[ 400.,  528.,  550.],\n",
       "       [ 240.,  324.,  420.],\n",
       "       [ 900., 1056., 1224.]])"
      ]
     },
     "execution_count": 63,
     "metadata": {},
     "output_type": "execute_result"
    }
   ],
   "source": [
    "q1_disco=q1_revenue*0.2\n",
    "q1_disco"
   ]
  },
  {
   "cell_type": "code",
   "execution_count": 64,
   "id": "ac8b9298",
   "metadata": {},
   "outputs": [
    {
     "data": {
      "text/plain": [
       "array([[1600., 2112., 2200.],\n",
       "       [ 960., 1296., 1680.],\n",
       "       [3600., 4224., 4896.]])"
      ]
     },
     "execution_count": 64,
     "metadata": {},
     "output_type": "execute_result"
    }
   ],
   "source": [
    "net_q1=q1_revenue-q1_disco\n",
    "net_q1"
   ]
  },
  {
   "cell_type": "code",
   "execution_count": 65,
   "id": "a6bfb8b7",
   "metadata": {},
   "outputs": [
    {
     "data": {
      "text/plain": [
       "5642.0"
      ]
     },
     "execution_count": 65,
     "metadata": {},
     "output_type": "execute_result"
    }
   ],
   "source": [
    "np.sum(q1_disco)"
   ]
  },
  {
   "cell_type": "code",
   "execution_count": 66,
   "id": "9c8bf499",
   "metadata": {},
   "outputs": [
    {
     "data": {
      "text/plain": [
       "22568.0"
      ]
     },
     "execution_count": 66,
     "metadata": {},
     "output_type": "execute_result"
    }
   ],
   "source": [
    "np.sum(net_q1)"
   ]
  },
  {
   "cell_type": "code",
   "execution_count": 68,
   "id": "4948b917",
   "metadata": {},
   "outputs": [
    {
     "data": {
      "text/plain": [
       "array([[0., 0., 0.],\n",
       "       [0., 0., 0.],\n",
       "       [0., 0., 0.]])"
      ]
     },
     "execution_count": 68,
     "metadata": {},
     "output_type": "execute_result"
    }
   ],
   "source": [
    "np.cross(net_q1,q1_disco)"
   ]
  },
  {
   "cell_type": "code",
   "execution_count": 70,
   "id": "c677b1c2",
   "metadata": {},
   "outputs": [],
   "source": [
    "q1=np.array([\n",
    "    [200,220,250],\n",
    "    [150,180,210],\n",
    "    [300,330,360]\n",
    "])\n"
   ]
  },
  {
   "cell_type": "code",
   "execution_count": 71,
   "id": "723014a6",
   "metadata": {},
   "outputs": [
    {
     "data": {
      "text/plain": [
       "array([[200, 220, 250],\n",
       "       [150, 180, 210],\n",
       "       [300, 330, 360]])"
      ]
     },
     "execution_count": 71,
     "metadata": {},
     "output_type": "execute_result"
    }
   ],
   "source": [
    "q1[:]"
   ]
  },
  {
   "cell_type": "code",
   "execution_count": 73,
   "id": "7d1f78f3",
   "metadata": {},
   "outputs": [
    {
     "data": {
      "text/plain": [
       "array([[150, 180, 210],\n",
       "       [300, 330, 360]])"
      ]
     },
     "execution_count": 73,
     "metadata": {},
     "output_type": "execute_result"
    }
   ],
   "source": [
    "q1[1:3]"
   ]
  },
  {
   "cell_type": "code",
   "execution_count": 74,
   "id": "2986a4e3",
   "metadata": {},
   "outputs": [
    {
     "data": {
      "text/plain": [
       "array([[220, 250],\n",
       "       [180, 210],\n",
       "       [330, 360]])"
      ]
     },
     "execution_count": 74,
     "metadata": {},
     "output_type": "execute_result"
    }
   ],
   "source": [
    "q1[:,1:3]"
   ]
  },
  {
   "cell_type": "code",
   "execution_count": 75,
   "id": "22540a34",
   "metadata": {},
   "outputs": [],
   "source": [
    "transactions = np.array([\n",
    "    [101, 'Mohan', 250.50, '2023-08-01'],\n",
    "    [102, 'Bob', 150.00, '2023-08-02'],\n",
    "    [103, 'Fatima', 300.75, '2023-08-01'],\n",
    "    [104, 'David', 400.20, '2023-08-03'],\n",
    "    [105, 'Aryan', 330.1, '2023-08-04'],\n",
    "])"
   ]
  },
  {
   "cell_type": "code",
   "execution_count": 83,
   "id": "cdcf5a12",
   "metadata": {},
   "outputs": [],
   "source": [
    "c=np.argmax(transactions[:,2].astype(float))"
   ]
  },
  {
   "cell_type": "code",
   "execution_count": 84,
   "id": "d6a95213",
   "metadata": {},
   "outputs": [
    {
     "data": {
      "text/plain": [
       "array(['104', 'David', '400.2', '2023-08-03'], dtype='<U32')"
      ]
     },
     "execution_count": 84,
     "metadata": {},
     "output_type": "execute_result"
    }
   ],
   "source": [
    "transactions[c]"
   ]
  },
  {
   "cell_type": "code",
   "execution_count": 87,
   "id": "165470df",
   "metadata": {},
   "outputs": [
    {
     "data": {
      "text/plain": [
       "[array([ True, False, False, False, False])]"
      ]
     },
     "execution_count": 87,
     "metadata": {},
     "output_type": "execute_result"
    }
   ],
   "source": [
    "[transactions[:,0]=='101']"
   ]
  },
  {
   "cell_type": "code",
   "execution_count": 31,
   "id": "daa7299e",
   "metadata": {},
   "outputs": [
    {
     "name": "stdout",
     "output_type": "stream",
     "text": [
      "All records: Min rating = 1.9, Max rating = 9.3, Avg rating = 7.919444444444445\n",
      "Bollywood: Min rating = 1.9, Max rating = 8.4, Avg rating = 7.656250000000001\n",
      "Hollywood: Min rating = 6.8, Max rating = 9.3, Avg rating = 8.130000000000003\n"
     ]
    }
   ],
   "source": [
    "import csv\n",
    "\n",
    "def calculate_rating_stats(data, industry=None):\n",
    "    ratings = []\n",
    "    for row in data:\n",
    "        if row[3]!='NULL' and (not industry or row[1]==industry):\n",
    "            ratings.append(float(row[3]))\n",
    "    max_rating = max(ratings)\n",
    "    min_rating = min(ratings)\n",
    "    avg_rating = sum(ratings) / len(ratings)\n",
    "    return max_rating, min_rating, avg_rating\n",
    "\n",
    "with open('movies.csv') as f:\n",
    "    data = list(csv.reader(f))\n",
    "    header = data[0]\n",
    "    data = data[1:]\n",
    "    \n",
    "    max_rating, min_rating, avg_rating = calculate_rating_stats(data)\n",
    "    print(f\"All records: Min rating = {min_rating}, Max rating = {max_rating}, Avg rating = {avg_rating}\")\n",
    "    \n",
    "    max_rating, min_rating, avg_rating = calculate_rating_stats(data, industry=\"Bollywood\")\n",
    "    print(f\"Bollywood: Min rating = {min_rating}, Max rating = {max_rating}, Avg rating = {avg_rating}\")\n",
    "    \n",
    "    max_rating, min_rating, avg_rating = calculate_rating_stats(data, industry=\"Hollywood\")\n",
    "    print(f\"Hollywood: Min rating = {min_rating}, Max rating = {max_rating}, Avg rating = {avg_rating}\")\n"
   ]
  },
  {
   "cell_type": "code",
   "execution_count": 34,
   "id": "4f882b30",
   "metadata": {},
   "outputs": [
    {
     "data": {
      "text/html": [
       "<div>\n",
       "<style scoped>\n",
       "    .dataframe tbody tr th:only-of-type {\n",
       "        vertical-align: middle;\n",
       "    }\n",
       "\n",
       "    .dataframe tbody tr th {\n",
       "        vertical-align: top;\n",
       "    }\n",
       "\n",
       "    .dataframe thead th {\n",
       "        text-align: right;\n",
       "    }\n",
       "</style>\n",
       "<table border=\"1\" class=\"dataframe\">\n",
       "  <thead>\n",
       "    <tr style=\"text-align: right;\">\n",
       "      <th></th>\n",
       "      <th>title</th>\n",
       "      <th>industry</th>\n",
       "      <th>release_year</th>\n",
       "      <th>imdb_rating</th>\n",
       "      <th>studio</th>\n",
       "      <th>budget</th>\n",
       "      <th>revenue</th>\n",
       "      <th>unit</th>\n",
       "      <th>currency</th>\n",
       "      <th>language</th>\n",
       "    </tr>\n",
       "  </thead>\n",
       "  <tbody>\n",
       "    <tr>\n",
       "      <th>0</th>\n",
       "      <td>Pather Panchali</td>\n",
       "      <td>Bollywood</td>\n",
       "      <td>1955</td>\n",
       "      <td>8.3</td>\n",
       "      <td>Government of West Bengal</td>\n",
       "      <td>70000.0</td>\n",
       "      <td>100000.0</td>\n",
       "      <td>Thousands</td>\n",
       "      <td>INR</td>\n",
       "      <td>Bengali</td>\n",
       "    </tr>\n",
       "    <tr>\n",
       "      <th>1</th>\n",
       "      <td>Doctor Strange in the Multiverse of Madness</td>\n",
       "      <td>Hollywood</td>\n",
       "      <td>2022</td>\n",
       "      <td>7.0</td>\n",
       "      <td>Marvel Studios</td>\n",
       "      <td>200.0</td>\n",
       "      <td>954.8</td>\n",
       "      <td>Millions</td>\n",
       "      <td>USD</td>\n",
       "      <td>English</td>\n",
       "    </tr>\n",
       "    <tr>\n",
       "      <th>2</th>\n",
       "      <td>Thor: The Dark World</td>\n",
       "      <td>Hollywood</td>\n",
       "      <td>2013</td>\n",
       "      <td>6.8</td>\n",
       "      <td>Marvel Studios</td>\n",
       "      <td>165.0</td>\n",
       "      <td>644.8</td>\n",
       "      <td>Millions</td>\n",
       "      <td>USD</td>\n",
       "      <td>English</td>\n",
       "    </tr>\n",
       "    <tr>\n",
       "      <th>3</th>\n",
       "      <td>Thor: Ragnarok</td>\n",
       "      <td>Hollywood</td>\n",
       "      <td>2017</td>\n",
       "      <td>7.9</td>\n",
       "      <td>Marvel Studios</td>\n",
       "      <td>180.0</td>\n",
       "      <td>854.0</td>\n",
       "      <td>Millions</td>\n",
       "      <td>USD</td>\n",
       "      <td>English</td>\n",
       "    </tr>\n",
       "    <tr>\n",
       "      <th>4</th>\n",
       "      <td>Thor: Love and Thunder</td>\n",
       "      <td>Hollywood</td>\n",
       "      <td>2022</td>\n",
       "      <td>6.8</td>\n",
       "      <td>Marvel Studios</td>\n",
       "      <td>250.0</td>\n",
       "      <td>670.0</td>\n",
       "      <td>Millions</td>\n",
       "      <td>USD</td>\n",
       "      <td>English</td>\n",
       "    </tr>\n",
       "  </tbody>\n",
       "</table>\n",
       "</div>"
      ],
      "text/plain": [
       "                                         title   industry  release_year  \\\n",
       "0                              Pather Panchali  Bollywood          1955   \n",
       "1  Doctor Strange in the Multiverse of Madness  Hollywood          2022   \n",
       "2                        Thor: The Dark World   Hollywood          2013   \n",
       "3                              Thor: Ragnarok   Hollywood          2017   \n",
       "4                      Thor: Love and Thunder   Hollywood          2022   \n",
       "\n",
       "   imdb_rating                     studio   budget   revenue       unit  \\\n",
       "0          8.3  Government of West Bengal  70000.0  100000.0  Thousands   \n",
       "1          7.0             Marvel Studios    200.0     954.8   Millions   \n",
       "2          6.8             Marvel Studios    165.0     644.8   Millions   \n",
       "3          7.9             Marvel Studios    180.0     854.0   Millions   \n",
       "4          6.8             Marvel Studios    250.0     670.0   Millions   \n",
       "\n",
       "  currency language  \n",
       "0      INR  Bengali  \n",
       "1      USD  English  \n",
       "2      USD  English  \n",
       "3      USD  English  \n",
       "4      USD  English  "
      ]
     },
     "execution_count": 34,
     "metadata": {},
     "output_type": "execute_result"
    }
   ],
   "source": [
    "df = pd.read_csv(\"movies.csv\")\n",
    "df.head()"
   ]
  },
  {
   "cell_type": "code",
   "execution_count": 35,
   "id": "c0146e57",
   "metadata": {},
   "outputs": [
    {
     "data": {
      "text/plain": [
       "(37, 10)"
      ]
     },
     "execution_count": 35,
     "metadata": {},
     "output_type": "execute_result"
    }
   ],
   "source": [
    "df.shape"
   ]
  },
  {
   "cell_type": "code",
   "execution_count": 39,
   "id": "0acc0c25",
   "metadata": {},
   "outputs": [
    {
     "data": {
      "text/plain": [
       "1.9"
      ]
     },
     "execution_count": 39,
     "metadata": {},
     "output_type": "execute_result"
    }
   ],
   "source": [
    "df.imdb_rating.min()"
   ]
  },
  {
   "cell_type": "code",
   "execution_count": 41,
   "id": "0046e8d3",
   "metadata": {},
   "outputs": [],
   "source": [
    "a=df[df.industry=='Hollywood']"
   ]
  },
  {
   "cell_type": "code",
   "execution_count": 42,
   "id": "d92ffb84",
   "metadata": {},
   "outputs": [
    {
     "data": {
      "text/plain": [
       "9.3"
      ]
     },
     "execution_count": 42,
     "metadata": {},
     "output_type": "execute_result"
    }
   ],
   "source": [
    "a.imdb_rating.max()"
   ]
  },
  {
   "cell_type": "code",
   "execution_count": 43,
   "id": "6a0fae92",
   "metadata": {},
   "outputs": [],
   "source": [
    "df = pd.read_csv(\"movies.csv\")"
   ]
  },
  {
   "cell_type": "code",
   "execution_count": 44,
   "id": "dc8855ff",
   "metadata": {},
   "outputs": [
    {
     "data": {
      "text/plain": [
       "Index(['title', 'industry', 'release_year', 'imdb_rating', 'studio', 'budget',\n",
       "       'revenue', 'unit', 'currency', 'language'],\n",
       "      dtype='object')"
      ]
     },
     "execution_count": 44,
     "metadata": {},
     "output_type": "execute_result"
    }
   ],
   "source": [
    "df.columns"
   ]
  },
  {
   "cell_type": "code",
   "execution_count": 45,
   "id": "10c962f0",
   "metadata": {},
   "outputs": [
    {
     "data": {
      "text/plain": [
       "array(['Bollywood', 'Hollywood'], dtype=object)"
      ]
     },
     "execution_count": 45,
     "metadata": {},
     "output_type": "execute_result"
    }
   ],
   "source": [
    "df.industry.unique()"
   ]
  },
  {
   "cell_type": "code",
   "execution_count": 46,
   "id": "bbb17adb",
   "metadata": {},
   "outputs": [
    {
     "data": {
      "text/plain": [
       "array(['Bengali', 'English', 'Hindi', 'Kannada', 'Telugu'], dtype=object)"
      ]
     },
     "execution_count": 46,
     "metadata": {},
     "output_type": "execute_result"
    }
   ],
   "source": [
    "df.language.unique()"
   ]
  },
  {
   "cell_type": "code",
   "execution_count": 48,
   "id": "f046e774",
   "metadata": {},
   "outputs": [
    {
     "data": {
      "text/plain": [
       "Hollywood    20\n",
       "Bollywood    17\n",
       "Name: industry, dtype: int64"
      ]
     },
     "execution_count": 48,
     "metadata": {},
     "output_type": "execute_result"
    }
   ],
   "source": [
    "df.industry.value_counts()"
   ]
  },
  {
   "cell_type": "code",
   "execution_count": 49,
   "id": "704412d1",
   "metadata": {},
   "outputs": [
    {
     "data": {
      "text/plain": [
       "English    20\n",
       "Hindi      12\n",
       "Telugu      3\n",
       "Bengali     1\n",
       "Kannada     1\n",
       "Name: language, dtype: int64"
      ]
     },
     "execution_count": 49,
     "metadata": {},
     "output_type": "execute_result"
    }
   ],
   "source": [
    "df.language.value_counts()"
   ]
  },
  {
   "cell_type": "code",
   "execution_count": 50,
   "id": "7d641f6b",
   "metadata": {},
   "outputs": [
    {
     "data": {
      "text/html": [
       "<div>\n",
       "<style scoped>\n",
       "    .dataframe tbody tr th:only-of-type {\n",
       "        vertical-align: middle;\n",
       "    }\n",
       "\n",
       "    .dataframe tbody tr th {\n",
       "        vertical-align: top;\n",
       "    }\n",
       "\n",
       "    .dataframe thead th {\n",
       "        text-align: right;\n",
       "    }\n",
       "</style>\n",
       "<table border=\"1\" class=\"dataframe\">\n",
       "  <thead>\n",
       "    <tr style=\"text-align: right;\">\n",
       "      <th></th>\n",
       "      <th>title</th>\n",
       "      <th>imdb_rating</th>\n",
       "      <th>industry</th>\n",
       "    </tr>\n",
       "  </thead>\n",
       "  <tbody>\n",
       "    <tr>\n",
       "      <th>0</th>\n",
       "      <td>Pather Panchali</td>\n",
       "      <td>8.3</td>\n",
       "      <td>Bollywood</td>\n",
       "    </tr>\n",
       "    <tr>\n",
       "      <th>1</th>\n",
       "      <td>Doctor Strange in the Multiverse of Madness</td>\n",
       "      <td>7.0</td>\n",
       "      <td>Hollywood</td>\n",
       "    </tr>\n",
       "    <tr>\n",
       "      <th>2</th>\n",
       "      <td>Thor: The Dark World</td>\n",
       "      <td>6.8</td>\n",
       "      <td>Hollywood</td>\n",
       "    </tr>\n",
       "    <tr>\n",
       "      <th>3</th>\n",
       "      <td>Thor: Ragnarok</td>\n",
       "      <td>7.9</td>\n",
       "      <td>Hollywood</td>\n",
       "    </tr>\n",
       "    <tr>\n",
       "      <th>4</th>\n",
       "      <td>Thor: Love and Thunder</td>\n",
       "      <td>6.8</td>\n",
       "      <td>Hollywood</td>\n",
       "    </tr>\n",
       "    <tr>\n",
       "      <th>5</th>\n",
       "      <td>The Shawshank Redemption</td>\n",
       "      <td>9.3</td>\n",
       "      <td>Hollywood</td>\n",
       "    </tr>\n",
       "    <tr>\n",
       "      <th>6</th>\n",
       "      <td>Interstellar</td>\n",
       "      <td>8.6</td>\n",
       "      <td>Hollywood</td>\n",
       "    </tr>\n",
       "    <tr>\n",
       "      <th>7</th>\n",
       "      <td>The Pursuit of Happyness</td>\n",
       "      <td>8.0</td>\n",
       "      <td>Hollywood</td>\n",
       "    </tr>\n",
       "    <tr>\n",
       "      <th>8</th>\n",
       "      <td>Gladiator</td>\n",
       "      <td>8.5</td>\n",
       "      <td>Hollywood</td>\n",
       "    </tr>\n",
       "    <tr>\n",
       "      <th>9</th>\n",
       "      <td>Titanic</td>\n",
       "      <td>7.9</td>\n",
       "      <td>Hollywood</td>\n",
       "    </tr>\n",
       "    <tr>\n",
       "      <th>10</th>\n",
       "      <td>It's a Wonderful Life</td>\n",
       "      <td>8.6</td>\n",
       "      <td>Hollywood</td>\n",
       "    </tr>\n",
       "    <tr>\n",
       "      <th>11</th>\n",
       "      <td>Avatar</td>\n",
       "      <td>7.8</td>\n",
       "      <td>Hollywood</td>\n",
       "    </tr>\n",
       "    <tr>\n",
       "      <th>12</th>\n",
       "      <td>The Godfather</td>\n",
       "      <td>9.2</td>\n",
       "      <td>Hollywood</td>\n",
       "    </tr>\n",
       "    <tr>\n",
       "      <th>13</th>\n",
       "      <td>The Dark Knight</td>\n",
       "      <td>9.0</td>\n",
       "      <td>Hollywood</td>\n",
       "    </tr>\n",
       "    <tr>\n",
       "      <th>14</th>\n",
       "      <td>Schindler's List</td>\n",
       "      <td>9.0</td>\n",
       "      <td>Hollywood</td>\n",
       "    </tr>\n",
       "    <tr>\n",
       "      <th>15</th>\n",
       "      <td>Jurassic Park</td>\n",
       "      <td>8.2</td>\n",
       "      <td>Hollywood</td>\n",
       "    </tr>\n",
       "    <tr>\n",
       "      <th>16</th>\n",
       "      <td>Parasite</td>\n",
       "      <td>8.5</td>\n",
       "      <td>Hollywood</td>\n",
       "    </tr>\n",
       "    <tr>\n",
       "      <th>17</th>\n",
       "      <td>Avengers: Endgame</td>\n",
       "      <td>8.4</td>\n",
       "      <td>Hollywood</td>\n",
       "    </tr>\n",
       "    <tr>\n",
       "      <th>18</th>\n",
       "      <td>Avengers: Infinity War</td>\n",
       "      <td>8.4</td>\n",
       "      <td>Hollywood</td>\n",
       "    </tr>\n",
       "    <tr>\n",
       "      <th>19</th>\n",
       "      <td>Captain America: The First Avenger</td>\n",
       "      <td>6.9</td>\n",
       "      <td>Hollywood</td>\n",
       "    </tr>\n",
       "    <tr>\n",
       "      <th>20</th>\n",
       "      <td>Captain America: The Winter Soldier</td>\n",
       "      <td>7.8</td>\n",
       "      <td>Hollywood</td>\n",
       "    </tr>\n",
       "    <tr>\n",
       "      <th>21</th>\n",
       "      <td>Dilwale Dulhania Le Jayenge</td>\n",
       "      <td>8.0</td>\n",
       "      <td>Bollywood</td>\n",
       "    </tr>\n",
       "    <tr>\n",
       "      <th>22</th>\n",
       "      <td>3 Idiots</td>\n",
       "      <td>8.4</td>\n",
       "      <td>Bollywood</td>\n",
       "    </tr>\n",
       "    <tr>\n",
       "      <th>23</th>\n",
       "      <td>Kabhi Khushi Kabhie Gham</td>\n",
       "      <td>7.4</td>\n",
       "      <td>Bollywood</td>\n",
       "    </tr>\n",
       "    <tr>\n",
       "      <th>24</th>\n",
       "      <td>Bajirao Mastani</td>\n",
       "      <td>7.2</td>\n",
       "      <td>Bollywood</td>\n",
       "    </tr>\n",
       "    <tr>\n",
       "      <th>25</th>\n",
       "      <td>Taare Zameen Par</td>\n",
       "      <td>8.3</td>\n",
       "      <td>Bollywood</td>\n",
       "    </tr>\n",
       "    <tr>\n",
       "      <th>26</th>\n",
       "      <td>Munna Bhai M.B.B.S.</td>\n",
       "      <td>8.1</td>\n",
       "      <td>Bollywood</td>\n",
       "    </tr>\n",
       "    <tr>\n",
       "      <th>27</th>\n",
       "      <td>PK</td>\n",
       "      <td>8.1</td>\n",
       "      <td>Bollywood</td>\n",
       "    </tr>\n",
       "    <tr>\n",
       "      <th>28</th>\n",
       "      <td>Sanju</td>\n",
       "      <td>NaN</td>\n",
       "      <td>Bollywood</td>\n",
       "    </tr>\n",
       "    <tr>\n",
       "      <th>29</th>\n",
       "      <td>The Kashmir Files</td>\n",
       "      <td>8.3</td>\n",
       "      <td>Bollywood</td>\n",
       "    </tr>\n",
       "    <tr>\n",
       "      <th>30</th>\n",
       "      <td>Bajrangi Bhaijaan</td>\n",
       "      <td>8.1</td>\n",
       "      <td>Bollywood</td>\n",
       "    </tr>\n",
       "    <tr>\n",
       "      <th>31</th>\n",
       "      <td>Race 3</td>\n",
       "      <td>1.9</td>\n",
       "      <td>Bollywood</td>\n",
       "    </tr>\n",
       "    <tr>\n",
       "      <th>32</th>\n",
       "      <td>Shershaah</td>\n",
       "      <td>8.4</td>\n",
       "      <td>Bollywood</td>\n",
       "    </tr>\n",
       "    <tr>\n",
       "      <th>33</th>\n",
       "      <td>K.G.F: Chapter 2</td>\n",
       "      <td>8.4</td>\n",
       "      <td>Bollywood</td>\n",
       "    </tr>\n",
       "    <tr>\n",
       "      <th>34</th>\n",
       "      <td>Pushpa: The Rise - Part 1</td>\n",
       "      <td>7.6</td>\n",
       "      <td>Bollywood</td>\n",
       "    </tr>\n",
       "    <tr>\n",
       "      <th>35</th>\n",
       "      <td>RRR</td>\n",
       "      <td>8.0</td>\n",
       "      <td>Bollywood</td>\n",
       "    </tr>\n",
       "    <tr>\n",
       "      <th>36</th>\n",
       "      <td>Baahubali: The Beginning</td>\n",
       "      <td>8.0</td>\n",
       "      <td>Bollywood</td>\n",
       "    </tr>\n",
       "  </tbody>\n",
       "</table>\n",
       "</div>"
      ],
      "text/plain": [
       "                                          title  imdb_rating   industry\n",
       "0                               Pather Panchali          8.3  Bollywood\n",
       "1   Doctor Strange in the Multiverse of Madness          7.0  Hollywood\n",
       "2                         Thor: The Dark World           6.8  Hollywood\n",
       "3                               Thor: Ragnarok           7.9  Hollywood\n",
       "4                       Thor: Love and Thunder           6.8  Hollywood\n",
       "5                      The Shawshank Redemption          9.3  Hollywood\n",
       "6                                  Interstellar          8.6  Hollywood\n",
       "7                      The Pursuit of Happyness          8.0  Hollywood\n",
       "8                                     Gladiator          8.5  Hollywood\n",
       "9                                       Titanic          7.9  Hollywood\n",
       "10                        It's a Wonderful Life          8.6  Hollywood\n",
       "11                                       Avatar          7.8  Hollywood\n",
       "12                                The Godfather          9.2  Hollywood\n",
       "13                              The Dark Knight          9.0  Hollywood\n",
       "14                             Schindler's List          9.0  Hollywood\n",
       "15                                Jurassic Park          8.2  Hollywood\n",
       "16                                     Parasite          8.5  Hollywood\n",
       "17                            Avengers: Endgame          8.4  Hollywood\n",
       "18                       Avengers: Infinity War          8.4  Hollywood\n",
       "19           Captain America: The First Avenger          6.9  Hollywood\n",
       "20          Captain America: The Winter Soldier          7.8  Hollywood\n",
       "21                  Dilwale Dulhania Le Jayenge          8.0  Bollywood\n",
       "22                                     3 Idiots          8.4  Bollywood\n",
       "23                     Kabhi Khushi Kabhie Gham          7.4  Bollywood\n",
       "24                             Bajirao Mastani           7.2  Bollywood\n",
       "25                             Taare Zameen Par          8.3  Bollywood\n",
       "26                          Munna Bhai M.B.B.S.          8.1  Bollywood\n",
       "27                                           PK          8.1  Bollywood\n",
       "28                                        Sanju          NaN  Bollywood\n",
       "29                            The Kashmir Files          8.3  Bollywood\n",
       "30                            Bajrangi Bhaijaan          8.1  Bollywood\n",
       "31                                       Race 3          1.9  Bollywood\n",
       "32                                    Shershaah          8.4  Bollywood\n",
       "33                             K.G.F: Chapter 2          8.4  Bollywood\n",
       "34                    Pushpa: The Rise - Part 1          7.6  Bollywood\n",
       "35                                          RRR          8.0  Bollywood\n",
       "36                     Baahubali: The Beginning          8.0  Bollywood"
      ]
     },
     "execution_count": 50,
     "metadata": {},
     "output_type": "execute_result"
    }
   ],
   "source": [
    "df_new=df[['title', 'imdb_rating', 'industry']]\n",
    "df_new"
   ]
  },
  {
   "cell_type": "code",
   "execution_count": 51,
   "id": "d53bca24",
   "metadata": {},
   "outputs": [
    {
     "data": {
      "text/plain": [
       "array(['Government of West Bengal', 'Marvel Studios',\n",
       "       'Castle Rock Entertainment', 'Warner Bros. Pictures',\n",
       "       'Columbia Pictures', 'Universal Pictures  ', 'Paramount Pictures',\n",
       "       'Liberty Films', '20th Century Fox', 'Syncopy',\n",
       "       'Universal Pictures', nan, 'Yash Raj Films', 'Vinod Chopra Films',\n",
       "       'Dharma Productions', 'Vinod Chopra Productions', 'Zee Studios',\n",
       "       'Salman Khan Films', 'Hombale Films', 'Mythri Movie Makers',\n",
       "       'DVV Entertainment', 'Arka Media Works'], dtype=object)"
      ]
     },
     "execution_count": 51,
     "metadata": {},
     "output_type": "execute_result"
    }
   ],
   "source": [
    "df.studio.unique()"
   ]
  },
  {
   "cell_type": "code",
   "execution_count": null,
   "id": "83963114",
   "metadata": {},
   "outputs": [],
   "source": []
  },
  {
   "cell_type": "code",
   "execution_count": 52,
   "id": "09645358",
   "metadata": {},
   "outputs": [
    {
     "data": {
      "text/html": [
       "<div>\n",
       "<style scoped>\n",
       "    .dataframe tbody tr th:only-of-type {\n",
       "        vertical-align: middle;\n",
       "    }\n",
       "\n",
       "    .dataframe tbody tr th {\n",
       "        vertical-align: top;\n",
       "    }\n",
       "\n",
       "    .dataframe thead th {\n",
       "        text-align: right;\n",
       "    }\n",
       "</style>\n",
       "<table border=\"1\" class=\"dataframe\">\n",
       "  <thead>\n",
       "    <tr style=\"text-align: right;\">\n",
       "      <th></th>\n",
       "      <th>title</th>\n",
       "      <th>industry</th>\n",
       "      <th>release_year</th>\n",
       "      <th>imdb_rating</th>\n",
       "      <th>studio</th>\n",
       "      <th>budget</th>\n",
       "      <th>revenue</th>\n",
       "      <th>unit</th>\n",
       "      <th>currency</th>\n",
       "      <th>language</th>\n",
       "    </tr>\n",
       "  </thead>\n",
       "  <tbody>\n",
       "    <tr>\n",
       "      <th>1</th>\n",
       "      <td>Doctor Strange in the Multiverse of Madness</td>\n",
       "      <td>Hollywood</td>\n",
       "      <td>2022</td>\n",
       "      <td>7.0</td>\n",
       "      <td>Marvel Studios</td>\n",
       "      <td>200.0</td>\n",
       "      <td>954.8</td>\n",
       "      <td>Millions</td>\n",
       "      <td>USD</td>\n",
       "      <td>English</td>\n",
       "    </tr>\n",
       "    <tr>\n",
       "      <th>2</th>\n",
       "      <td>Thor: The Dark World</td>\n",
       "      <td>Hollywood</td>\n",
       "      <td>2013</td>\n",
       "      <td>6.8</td>\n",
       "      <td>Marvel Studios</td>\n",
       "      <td>165.0</td>\n",
       "      <td>644.8</td>\n",
       "      <td>Millions</td>\n",
       "      <td>USD</td>\n",
       "      <td>English</td>\n",
       "    </tr>\n",
       "    <tr>\n",
       "      <th>3</th>\n",
       "      <td>Thor: Ragnarok</td>\n",
       "      <td>Hollywood</td>\n",
       "      <td>2017</td>\n",
       "      <td>7.9</td>\n",
       "      <td>Marvel Studios</td>\n",
       "      <td>180.0</td>\n",
       "      <td>854.0</td>\n",
       "      <td>Millions</td>\n",
       "      <td>USD</td>\n",
       "      <td>English</td>\n",
       "    </tr>\n",
       "    <tr>\n",
       "      <th>4</th>\n",
       "      <td>Thor: Love and Thunder</td>\n",
       "      <td>Hollywood</td>\n",
       "      <td>2022</td>\n",
       "      <td>6.8</td>\n",
       "      <td>Marvel Studios</td>\n",
       "      <td>250.0</td>\n",
       "      <td>670.0</td>\n",
       "      <td>Millions</td>\n",
       "      <td>USD</td>\n",
       "      <td>English</td>\n",
       "    </tr>\n",
       "    <tr>\n",
       "      <th>17</th>\n",
       "      <td>Avengers: Endgame</td>\n",
       "      <td>Hollywood</td>\n",
       "      <td>2019</td>\n",
       "      <td>8.4</td>\n",
       "      <td>Marvel Studios</td>\n",
       "      <td>400.0</td>\n",
       "      <td>2798.0</td>\n",
       "      <td>Millions</td>\n",
       "      <td>USD</td>\n",
       "      <td>English</td>\n",
       "    </tr>\n",
       "    <tr>\n",
       "      <th>18</th>\n",
       "      <td>Avengers: Infinity War</td>\n",
       "      <td>Hollywood</td>\n",
       "      <td>2018</td>\n",
       "      <td>8.4</td>\n",
       "      <td>Marvel Studios</td>\n",
       "      <td>400.0</td>\n",
       "      <td>2048.0</td>\n",
       "      <td>Millions</td>\n",
       "      <td>USD</td>\n",
       "      <td>English</td>\n",
       "    </tr>\n",
       "    <tr>\n",
       "      <th>19</th>\n",
       "      <td>Captain America: The First Avenger</td>\n",
       "      <td>Hollywood</td>\n",
       "      <td>2011</td>\n",
       "      <td>6.9</td>\n",
       "      <td>Marvel Studios</td>\n",
       "      <td>216.7</td>\n",
       "      <td>370.6</td>\n",
       "      <td>Millions</td>\n",
       "      <td>USD</td>\n",
       "      <td>English</td>\n",
       "    </tr>\n",
       "    <tr>\n",
       "      <th>20</th>\n",
       "      <td>Captain America: The Winter Soldier</td>\n",
       "      <td>Hollywood</td>\n",
       "      <td>2014</td>\n",
       "      <td>7.8</td>\n",
       "      <td>Marvel Studios</td>\n",
       "      <td>177.0</td>\n",
       "      <td>714.4</td>\n",
       "      <td>Millions</td>\n",
       "      <td>USD</td>\n",
       "      <td>English</td>\n",
       "    </tr>\n",
       "  </tbody>\n",
       "</table>\n",
       "</div>"
      ],
      "text/plain": [
       "                                          title   industry  release_year  \\\n",
       "1   Doctor Strange in the Multiverse of Madness  Hollywood          2022   \n",
       "2                         Thor: The Dark World   Hollywood          2013   \n",
       "3                               Thor: Ragnarok   Hollywood          2017   \n",
       "4                       Thor: Love and Thunder   Hollywood          2022   \n",
       "17                            Avengers: Endgame  Hollywood          2019   \n",
       "18                       Avengers: Infinity War  Hollywood          2018   \n",
       "19           Captain America: The First Avenger  Hollywood          2011   \n",
       "20          Captain America: The Winter Soldier  Hollywood          2014   \n",
       "\n",
       "    imdb_rating          studio  budget  revenue      unit currency language  \n",
       "1           7.0  Marvel Studios   200.0    954.8  Millions      USD  English  \n",
       "2           6.8  Marvel Studios   165.0    644.8  Millions      USD  English  \n",
       "3           7.9  Marvel Studios   180.0    854.0  Millions      USD  English  \n",
       "4           6.8  Marvel Studios   250.0    670.0  Millions      USD  English  \n",
       "17          8.4  Marvel Studios   400.0   2798.0  Millions      USD  English  \n",
       "18          8.4  Marvel Studios   400.0   2048.0  Millions      USD  English  \n",
       "19          6.9  Marvel Studios   216.7    370.6  Millions      USD  English  \n",
       "20          7.8  Marvel Studios   177.0    714.4  Millions      USD  English  "
      ]
     },
     "execution_count": 52,
     "metadata": {},
     "output_type": "execute_result"
    }
   ],
   "source": [
    "df[df.studio=='Marvel Studios']"
   ]
  },
  {
   "cell_type": "code",
   "execution_count": 56,
   "id": "e7b1c4a4",
   "metadata": {},
   "outputs": [
    {
     "data": {
      "text/html": [
       "<div>\n",
       "<style scoped>\n",
       "    .dataframe tbody tr th:only-of-type {\n",
       "        vertical-align: middle;\n",
       "    }\n",
       "\n",
       "    .dataframe tbody tr th {\n",
       "        vertical-align: top;\n",
       "    }\n",
       "\n",
       "    .dataframe thead th {\n",
       "        text-align: right;\n",
       "    }\n",
       "</style>\n",
       "<table border=\"1\" class=\"dataframe\">\n",
       "  <thead>\n",
       "    <tr style=\"text-align: right;\">\n",
       "      <th></th>\n",
       "      <th>title</th>\n",
       "      <th>industry</th>\n",
       "      <th>release_year</th>\n",
       "      <th>imdb_rating</th>\n",
       "      <th>studio</th>\n",
       "      <th>budget</th>\n",
       "      <th>revenue</th>\n",
       "      <th>unit</th>\n",
       "      <th>currency</th>\n",
       "      <th>language</th>\n",
       "    </tr>\n",
       "  </thead>\n",
       "  <tbody>\n",
       "    <tr>\n",
       "      <th>5</th>\n",
       "      <td>The Shawshank Redemption</td>\n",
       "      <td>Hollywood</td>\n",
       "      <td>1994</td>\n",
       "      <td>9.3</td>\n",
       "      <td>Castle Rock Entertainment</td>\n",
       "      <td>25.0</td>\n",
       "      <td>73.3</td>\n",
       "      <td>Millions</td>\n",
       "      <td>USD</td>\n",
       "      <td>English</td>\n",
       "    </tr>\n",
       "    <tr>\n",
       "      <th>31</th>\n",
       "      <td>Race 3</td>\n",
       "      <td>Bollywood</td>\n",
       "      <td>2018</td>\n",
       "      <td>1.9</td>\n",
       "      <td>Salman Khan Films</td>\n",
       "      <td>1.8</td>\n",
       "      <td>3.1</td>\n",
       "      <td>Billions</td>\n",
       "      <td>INR</td>\n",
       "      <td>Hindi</td>\n",
       "    </tr>\n",
       "  </tbody>\n",
       "</table>\n",
       "</div>"
      ],
      "text/plain": [
       "                       title   industry  release_year  imdb_rating  \\\n",
       "5   The Shawshank Redemption  Hollywood          1994          9.3   \n",
       "31                    Race 3  Bollywood          2018          1.9   \n",
       "\n",
       "                       studio  budget  revenue      unit currency language  \n",
       "5   Castle Rock Entertainment    25.0     73.3  Millions      USD  English  \n",
       "31          Salman Khan Films     1.8      3.1  Billions      INR    Hindi  "
      ]
     },
     "execution_count": 56,
     "metadata": {},
     "output_type": "execute_result"
    }
   ],
   "source": [
    "df[(df.imdb_rating==df.imdb_rating.max()) | (df.imdb_rating==df.imdb_rating.min())]"
   ]
  },
  {
   "cell_type": "code",
   "execution_count": 64,
   "id": "e0e4261b",
   "metadata": {},
   "outputs": [],
   "source": [
    "df['age']=df.release_year.apply(lambda x : 2024 - x)"
   ]
  },
  {
   "cell_type": "code",
   "execution_count": 65,
   "id": "d24d3cb8",
   "metadata": {},
   "outputs": [
    {
     "data": {
      "text/html": [
       "<div>\n",
       "<style scoped>\n",
       "    .dataframe tbody tr th:only-of-type {\n",
       "        vertical-align: middle;\n",
       "    }\n",
       "\n",
       "    .dataframe tbody tr th {\n",
       "        vertical-align: top;\n",
       "    }\n",
       "\n",
       "    .dataframe thead th {\n",
       "        text-align: right;\n",
       "    }\n",
       "</style>\n",
       "<table border=\"1\" class=\"dataframe\">\n",
       "  <thead>\n",
       "    <tr style=\"text-align: right;\">\n",
       "      <th></th>\n",
       "      <th>title</th>\n",
       "      <th>industry</th>\n",
       "      <th>release_year</th>\n",
       "      <th>imdb_rating</th>\n",
       "      <th>studio</th>\n",
       "      <th>budget</th>\n",
       "      <th>revenue</th>\n",
       "      <th>unit</th>\n",
       "      <th>currency</th>\n",
       "      <th>language</th>\n",
       "      <th>age</th>\n",
       "    </tr>\n",
       "  </thead>\n",
       "  <tbody>\n",
       "    <tr>\n",
       "      <th>0</th>\n",
       "      <td>Pather Panchali</td>\n",
       "      <td>Bollywood</td>\n",
       "      <td>1955</td>\n",
       "      <td>8.3</td>\n",
       "      <td>Government of West Bengal</td>\n",
       "      <td>70000.0</td>\n",
       "      <td>100000.0</td>\n",
       "      <td>Thousands</td>\n",
       "      <td>INR</td>\n",
       "      <td>Bengali</td>\n",
       "      <td>69</td>\n",
       "    </tr>\n",
       "    <tr>\n",
       "      <th>1</th>\n",
       "      <td>Doctor Strange in the Multiverse of Madness</td>\n",
       "      <td>Hollywood</td>\n",
       "      <td>2022</td>\n",
       "      <td>7.0</td>\n",
       "      <td>Marvel Studios</td>\n",
       "      <td>200.0</td>\n",
       "      <td>954.8</td>\n",
       "      <td>Millions</td>\n",
       "      <td>USD</td>\n",
       "      <td>English</td>\n",
       "      <td>2</td>\n",
       "    </tr>\n",
       "    <tr>\n",
       "      <th>2</th>\n",
       "      <td>Thor: The Dark World</td>\n",
       "      <td>Hollywood</td>\n",
       "      <td>2013</td>\n",
       "      <td>6.8</td>\n",
       "      <td>Marvel Studios</td>\n",
       "      <td>165.0</td>\n",
       "      <td>644.8</td>\n",
       "      <td>Millions</td>\n",
       "      <td>USD</td>\n",
       "      <td>English</td>\n",
       "      <td>11</td>\n",
       "    </tr>\n",
       "    <tr>\n",
       "      <th>3</th>\n",
       "      <td>Thor: Ragnarok</td>\n",
       "      <td>Hollywood</td>\n",
       "      <td>2017</td>\n",
       "      <td>7.9</td>\n",
       "      <td>Marvel Studios</td>\n",
       "      <td>180.0</td>\n",
       "      <td>854.0</td>\n",
       "      <td>Millions</td>\n",
       "      <td>USD</td>\n",
       "      <td>English</td>\n",
       "      <td>7</td>\n",
       "    </tr>\n",
       "    <tr>\n",
       "      <th>4</th>\n",
       "      <td>Thor: Love and Thunder</td>\n",
       "      <td>Hollywood</td>\n",
       "      <td>2022</td>\n",
       "      <td>6.8</td>\n",
       "      <td>Marvel Studios</td>\n",
       "      <td>250.0</td>\n",
       "      <td>670.0</td>\n",
       "      <td>Millions</td>\n",
       "      <td>USD</td>\n",
       "      <td>English</td>\n",
       "      <td>2</td>\n",
       "    </tr>\n",
       "  </tbody>\n",
       "</table>\n",
       "</div>"
      ],
      "text/plain": [
       "                                         title   industry  release_year  \\\n",
       "0                              Pather Panchali  Bollywood          1955   \n",
       "1  Doctor Strange in the Multiverse of Madness  Hollywood          2022   \n",
       "2                        Thor: The Dark World   Hollywood          2013   \n",
       "3                              Thor: Ragnarok   Hollywood          2017   \n",
       "4                      Thor: Love and Thunder   Hollywood          2022   \n",
       "\n",
       "   imdb_rating                     studio   budget   revenue       unit  \\\n",
       "0          8.3  Government of West Bengal  70000.0  100000.0  Thousands   \n",
       "1          7.0             Marvel Studios    200.0     954.8   Millions   \n",
       "2          6.8             Marvel Studios    165.0     644.8   Millions   \n",
       "3          7.9             Marvel Studios    180.0     854.0   Millions   \n",
       "4          6.8             Marvel Studios    250.0     670.0   Millions   \n",
       "\n",
       "  currency language  age  \n",
       "0      INR  Bengali   69  \n",
       "1      USD  English    2  \n",
       "2      USD  English   11  \n",
       "3      USD  English    7  \n",
       "4      USD  English    2  "
      ]
     },
     "execution_count": 65,
     "metadata": {},
     "output_type": "execute_result"
    }
   ],
   "source": [
    "df.head()"
   ]
  },
  {
   "cell_type": "code",
   "execution_count": 63,
   "id": "e87f7654",
   "metadata": {},
   "outputs": [
    {
     "data": {
      "text/html": [
       "<div>\n",
       "<style scoped>\n",
       "    .dataframe tbody tr th:only-of-type {\n",
       "        vertical-align: middle;\n",
       "    }\n",
       "\n",
       "    .dataframe tbody tr th {\n",
       "        vertical-align: top;\n",
       "    }\n",
       "\n",
       "    .dataframe thead th {\n",
       "        text-align: right;\n",
       "    }\n",
       "</style>\n",
       "<table border=\"1\" class=\"dataframe\">\n",
       "  <thead>\n",
       "    <tr style=\"text-align: right;\">\n",
       "      <th></th>\n",
       "      <th>title</th>\n",
       "      <th>industry</th>\n",
       "      <th>release_year</th>\n",
       "      <th>imdb_rating</th>\n",
       "      <th>studio</th>\n",
       "      <th>budget</th>\n",
       "      <th>revenue</th>\n",
       "      <th>unit</th>\n",
       "      <th>currency</th>\n",
       "      <th>language</th>\n",
       "    </tr>\n",
       "  </thead>\n",
       "  <tbody>\n",
       "    <tr>\n",
       "      <th>0</th>\n",
       "      <td>Pather Panchali</td>\n",
       "      <td>Bollywood</td>\n",
       "      <td>1955</td>\n",
       "      <td>8.3</td>\n",
       "      <td>Government of West Bengal</td>\n",
       "      <td>70000.0</td>\n",
       "      <td>100000.0</td>\n",
       "      <td>Thousands</td>\n",
       "      <td>INR</td>\n",
       "      <td>Bengali</td>\n",
       "    </tr>\n",
       "    <tr>\n",
       "      <th>1</th>\n",
       "      <td>Doctor Strange in the Multiverse of Madness</td>\n",
       "      <td>Hollywood</td>\n",
       "      <td>2022</td>\n",
       "      <td>7.0</td>\n",
       "      <td>Marvel Studios</td>\n",
       "      <td>200.0</td>\n",
       "      <td>954.8</td>\n",
       "      <td>Millions</td>\n",
       "      <td>USD</td>\n",
       "      <td>English</td>\n",
       "    </tr>\n",
       "    <tr>\n",
       "      <th>2</th>\n",
       "      <td>Thor: The Dark World</td>\n",
       "      <td>Hollywood</td>\n",
       "      <td>2013</td>\n",
       "      <td>6.8</td>\n",
       "      <td>Marvel Studios</td>\n",
       "      <td>165.0</td>\n",
       "      <td>644.8</td>\n",
       "      <td>Millions</td>\n",
       "      <td>USD</td>\n",
       "      <td>English</td>\n",
       "    </tr>\n",
       "    <tr>\n",
       "      <th>3</th>\n",
       "      <td>Thor: Ragnarok</td>\n",
       "      <td>Hollywood</td>\n",
       "      <td>2017</td>\n",
       "      <td>7.9</td>\n",
       "      <td>Marvel Studios</td>\n",
       "      <td>180.0</td>\n",
       "      <td>854.0</td>\n",
       "      <td>Millions</td>\n",
       "      <td>USD</td>\n",
       "      <td>English</td>\n",
       "    </tr>\n",
       "    <tr>\n",
       "      <th>4</th>\n",
       "      <td>Thor: Love and Thunder</td>\n",
       "      <td>Hollywood</td>\n",
       "      <td>2022</td>\n",
       "      <td>6.8</td>\n",
       "      <td>Marvel Studios</td>\n",
       "      <td>250.0</td>\n",
       "      <td>670.0</td>\n",
       "      <td>Millions</td>\n",
       "      <td>USD</td>\n",
       "      <td>English</td>\n",
       "    </tr>\n",
       "  </tbody>\n",
       "</table>\n",
       "</div>"
      ],
      "text/plain": [
       "                                         title   industry  release_year  \\\n",
       "0                              Pather Panchali  Bollywood          1955   \n",
       "1  Doctor Strange in the Multiverse of Madness  Hollywood          2022   \n",
       "2                        Thor: The Dark World   Hollywood          2013   \n",
       "3                              Thor: Ragnarok   Hollywood          2017   \n",
       "4                      Thor: Love and Thunder   Hollywood          2022   \n",
       "\n",
       "   imdb_rating                     studio   budget   revenue       unit  \\\n",
       "0          8.3  Government of West Bengal  70000.0  100000.0  Thousands   \n",
       "1          7.0             Marvel Studios    200.0     954.8   Millions   \n",
       "2          6.8             Marvel Studios    165.0     644.8   Millions   \n",
       "3          7.9             Marvel Studios    180.0     854.0   Millions   \n",
       "4          6.8             Marvel Studios    250.0     670.0   Millions   \n",
       "\n",
       "  currency language  \n",
       "0      INR  Bengali  \n",
       "1      USD  English  \n",
       "2      USD  English  \n",
       "3      USD  English  \n",
       "4      USD  English  "
      ]
     },
     "execution_count": 63,
     "metadata": {},
     "output_type": "execute_result"
    }
   ],
   "source": []
  },
  {
   "cell_type": "code",
   "execution_count": 69,
   "id": "6e8dad52",
   "metadata": {},
   "outputs": [
    {
     "data": {
      "text/plain": [
       "Index(['title', 'industry', 'release_year', 'imdb_rating', 'studio', 'budget',\n",
       "       'revenue', 'unit', 'currency', 'language', 'age'],\n",
       "      dtype='object')"
      ]
     },
     "execution_count": 69,
     "metadata": {},
     "output_type": "execute_result"
    }
   ],
   "source": [
    "df.columns"
   ]
  },
  {
   "cell_type": "code",
   "execution_count": 71,
   "id": "db7d9996",
   "metadata": {},
   "outputs": [],
   "source": [
    "df['profit']=df.apply(lambda x: x['revenue']-x['budget'], axis=1)"
   ]
  },
  {
   "cell_type": "code",
   "execution_count": 72,
   "id": "39cfbd63",
   "metadata": {},
   "outputs": [
    {
     "data": {
      "text/html": [
       "<div>\n",
       "<style scoped>\n",
       "    .dataframe tbody tr th:only-of-type {\n",
       "        vertical-align: middle;\n",
       "    }\n",
       "\n",
       "    .dataframe tbody tr th {\n",
       "        vertical-align: top;\n",
       "    }\n",
       "\n",
       "    .dataframe thead th {\n",
       "        text-align: right;\n",
       "    }\n",
       "</style>\n",
       "<table border=\"1\" class=\"dataframe\">\n",
       "  <thead>\n",
       "    <tr style=\"text-align: right;\">\n",
       "      <th></th>\n",
       "      <th>title</th>\n",
       "      <th>industry</th>\n",
       "      <th>release_year</th>\n",
       "      <th>imdb_rating</th>\n",
       "      <th>studio</th>\n",
       "      <th>budget</th>\n",
       "      <th>revenue</th>\n",
       "      <th>unit</th>\n",
       "      <th>currency</th>\n",
       "      <th>language</th>\n",
       "      <th>age</th>\n",
       "      <th>profit</th>\n",
       "    </tr>\n",
       "  </thead>\n",
       "  <tbody>\n",
       "    <tr>\n",
       "      <th>0</th>\n",
       "      <td>Pather Panchali</td>\n",
       "      <td>Bollywood</td>\n",
       "      <td>1955</td>\n",
       "      <td>8.3</td>\n",
       "      <td>Government of West Bengal</td>\n",
       "      <td>70000.0</td>\n",
       "      <td>100000.0</td>\n",
       "      <td>Thousands</td>\n",
       "      <td>INR</td>\n",
       "      <td>Bengali</td>\n",
       "      <td>69</td>\n",
       "      <td>30000.0</td>\n",
       "    </tr>\n",
       "    <tr>\n",
       "      <th>1</th>\n",
       "      <td>Doctor Strange in the Multiverse of Madness</td>\n",
       "      <td>Hollywood</td>\n",
       "      <td>2022</td>\n",
       "      <td>7.0</td>\n",
       "      <td>Marvel Studios</td>\n",
       "      <td>200.0</td>\n",
       "      <td>954.8</td>\n",
       "      <td>Millions</td>\n",
       "      <td>USD</td>\n",
       "      <td>English</td>\n",
       "      <td>2</td>\n",
       "      <td>754.8</td>\n",
       "    </tr>\n",
       "    <tr>\n",
       "      <th>2</th>\n",
       "      <td>Thor: The Dark World</td>\n",
       "      <td>Hollywood</td>\n",
       "      <td>2013</td>\n",
       "      <td>6.8</td>\n",
       "      <td>Marvel Studios</td>\n",
       "      <td>165.0</td>\n",
       "      <td>644.8</td>\n",
       "      <td>Millions</td>\n",
       "      <td>USD</td>\n",
       "      <td>English</td>\n",
       "      <td>11</td>\n",
       "      <td>479.8</td>\n",
       "    </tr>\n",
       "    <tr>\n",
       "      <th>3</th>\n",
       "      <td>Thor: Ragnarok</td>\n",
       "      <td>Hollywood</td>\n",
       "      <td>2017</td>\n",
       "      <td>7.9</td>\n",
       "      <td>Marvel Studios</td>\n",
       "      <td>180.0</td>\n",
       "      <td>854.0</td>\n",
       "      <td>Millions</td>\n",
       "      <td>USD</td>\n",
       "      <td>English</td>\n",
       "      <td>7</td>\n",
       "      <td>674.0</td>\n",
       "    </tr>\n",
       "    <tr>\n",
       "      <th>4</th>\n",
       "      <td>Thor: Love and Thunder</td>\n",
       "      <td>Hollywood</td>\n",
       "      <td>2022</td>\n",
       "      <td>6.8</td>\n",
       "      <td>Marvel Studios</td>\n",
       "      <td>250.0</td>\n",
       "      <td>670.0</td>\n",
       "      <td>Millions</td>\n",
       "      <td>USD</td>\n",
       "      <td>English</td>\n",
       "      <td>2</td>\n",
       "      <td>420.0</td>\n",
       "    </tr>\n",
       "  </tbody>\n",
       "</table>\n",
       "</div>"
      ],
      "text/plain": [
       "                                         title   industry  release_year  \\\n",
       "0                              Pather Panchali  Bollywood          1955   \n",
       "1  Doctor Strange in the Multiverse of Madness  Hollywood          2022   \n",
       "2                        Thor: The Dark World   Hollywood          2013   \n",
       "3                              Thor: Ragnarok   Hollywood          2017   \n",
       "4                      Thor: Love and Thunder   Hollywood          2022   \n",
       "\n",
       "   imdb_rating                     studio   budget   revenue       unit  \\\n",
       "0          8.3  Government of West Bengal  70000.0  100000.0  Thousands   \n",
       "1          7.0             Marvel Studios    200.0     954.8   Millions   \n",
       "2          6.8             Marvel Studios    165.0     644.8   Millions   \n",
       "3          7.9             Marvel Studios    180.0     854.0   Millions   \n",
       "4          6.8             Marvel Studios    250.0     670.0   Millions   \n",
       "\n",
       "  currency language  age   profit  \n",
       "0      INR  Bengali   69  30000.0  \n",
       "1      USD  English    2    754.8  \n",
       "2      USD  English   11    479.8  \n",
       "3      USD  English    7    674.0  \n",
       "4      USD  English    2    420.0  "
      ]
     },
     "execution_count": 72,
     "metadata": {},
     "output_type": "execute_result"
    }
   ],
   "source": [
    "df.head()"
   ]
  },
  {
   "cell_type": "code",
   "execution_count": 73,
   "id": "42307257",
   "metadata": {},
   "outputs": [],
   "source": [
    "df.set_index(\"title\", inplace=True)"
   ]
  },
  {
   "cell_type": "code",
   "execution_count": 74,
   "id": "dc58f747",
   "metadata": {},
   "outputs": [
    {
     "data": {
      "text/html": [
       "<div>\n",
       "<style scoped>\n",
       "    .dataframe tbody tr th:only-of-type {\n",
       "        vertical-align: middle;\n",
       "    }\n",
       "\n",
       "    .dataframe tbody tr th {\n",
       "        vertical-align: top;\n",
       "    }\n",
       "\n",
       "    .dataframe thead th {\n",
       "        text-align: right;\n",
       "    }\n",
       "</style>\n",
       "<table border=\"1\" class=\"dataframe\">\n",
       "  <thead>\n",
       "    <tr style=\"text-align: right;\">\n",
       "      <th></th>\n",
       "      <th>industry</th>\n",
       "      <th>release_year</th>\n",
       "      <th>imdb_rating</th>\n",
       "      <th>studio</th>\n",
       "      <th>budget</th>\n",
       "      <th>revenue</th>\n",
       "      <th>unit</th>\n",
       "      <th>currency</th>\n",
       "      <th>language</th>\n",
       "      <th>age</th>\n",
       "      <th>profit</th>\n",
       "    </tr>\n",
       "    <tr>\n",
       "      <th>title</th>\n",
       "      <th></th>\n",
       "      <th></th>\n",
       "      <th></th>\n",
       "      <th></th>\n",
       "      <th></th>\n",
       "      <th></th>\n",
       "      <th></th>\n",
       "      <th></th>\n",
       "      <th></th>\n",
       "      <th></th>\n",
       "      <th></th>\n",
       "    </tr>\n",
       "  </thead>\n",
       "  <tbody>\n",
       "    <tr>\n",
       "      <th>Pather Panchali</th>\n",
       "      <td>Bollywood</td>\n",
       "      <td>1955</td>\n",
       "      <td>8.3</td>\n",
       "      <td>Government of West Bengal</td>\n",
       "      <td>70000.0</td>\n",
       "      <td>100000.0</td>\n",
       "      <td>Thousands</td>\n",
       "      <td>INR</td>\n",
       "      <td>Bengali</td>\n",
       "      <td>69</td>\n",
       "      <td>30000.0</td>\n",
       "    </tr>\n",
       "    <tr>\n",
       "      <th>Doctor Strange in the Multiverse of Madness</th>\n",
       "      <td>Hollywood</td>\n",
       "      <td>2022</td>\n",
       "      <td>7.0</td>\n",
       "      <td>Marvel Studios</td>\n",
       "      <td>200.0</td>\n",
       "      <td>954.8</td>\n",
       "      <td>Millions</td>\n",
       "      <td>USD</td>\n",
       "      <td>English</td>\n",
       "      <td>2</td>\n",
       "      <td>754.8</td>\n",
       "    </tr>\n",
       "    <tr>\n",
       "      <th>Thor: The Dark World</th>\n",
       "      <td>Hollywood</td>\n",
       "      <td>2013</td>\n",
       "      <td>6.8</td>\n",
       "      <td>Marvel Studios</td>\n",
       "      <td>165.0</td>\n",
       "      <td>644.8</td>\n",
       "      <td>Millions</td>\n",
       "      <td>USD</td>\n",
       "      <td>English</td>\n",
       "      <td>11</td>\n",
       "      <td>479.8</td>\n",
       "    </tr>\n",
       "  </tbody>\n",
       "</table>\n",
       "</div>"
      ],
      "text/plain": [
       "                                              industry  release_year  \\\n",
       "title                                                                  \n",
       "Pather Panchali                              Bollywood          1955   \n",
       "Doctor Strange in the Multiverse of Madness  Hollywood          2022   \n",
       "Thor: The Dark World                         Hollywood          2013   \n",
       "\n",
       "                                             imdb_rating  \\\n",
       "title                                                      \n",
       "Pather Panchali                                      8.3   \n",
       "Doctor Strange in the Multiverse of Madness          7.0   \n",
       "Thor: The Dark World                                 6.8   \n",
       "\n",
       "                                                                studio  \\\n",
       "title                                                                    \n",
       "Pather Panchali                              Government of West Bengal   \n",
       "Doctor Strange in the Multiverse of Madness             Marvel Studios   \n",
       "Thor: The Dark World                                    Marvel Studios   \n",
       "\n",
       "                                              budget   revenue       unit  \\\n",
       "title                                                                       \n",
       "Pather Panchali                              70000.0  100000.0  Thousands   \n",
       "Doctor Strange in the Multiverse of Madness    200.0     954.8   Millions   \n",
       "Thor: The Dark World                           165.0     644.8   Millions   \n",
       "\n",
       "                                            currency language  age   profit  \n",
       "title                                                                        \n",
       "Pather Panchali                                  INR  Bengali   69  30000.0  \n",
       "Doctor Strange in the Multiverse of Madness      USD  English    2    754.8  \n",
       "Thor: The Dark World                             USD  English   11    479.8  "
      ]
     },
     "execution_count": 74,
     "metadata": {},
     "output_type": "execute_result"
    }
   ],
   "source": [
    "df.head(3)"
   ]
  },
  {
   "cell_type": "code",
   "execution_count": 80,
   "id": "4393841a",
   "metadata": {},
   "outputs": [
    {
     "data": {
      "text/plain": [
       "industry                        Bollywood\n",
       "release_year                         1955\n",
       "imdb_rating                           8.3\n",
       "studio          Government of West Bengal\n",
       "budget                            70000.0\n",
       "revenue                          100000.0\n",
       "unit                            Thousands\n",
       "currency                              INR\n",
       "language                          Bengali\n",
       "age                                    69\n",
       "profit                            30000.0\n",
       "Name: Pather Panchali, dtype: object"
      ]
     },
     "execution_count": 80,
     "metadata": {},
     "output_type": "execute_result"
    }
   ],
   "source": [
    "df.loc['Pather Panchali']"
   ]
  },
  {
   "cell_type": "code",
   "execution_count": 85,
   "id": "f0225c74",
   "metadata": {},
   "outputs": [],
   "source": [
    "df=pd.read_csv(\"weather_data.csv\", parse_dates=['day'])"
   ]
  },
  {
   "cell_type": "code",
   "execution_count": 89,
   "id": "be5e3f98",
   "metadata": {},
   "outputs": [
    {
     "data": {
      "text/html": [
       "<div>\n",
       "<style scoped>\n",
       "    .dataframe tbody tr th:only-of-type {\n",
       "        vertical-align: middle;\n",
       "    }\n",
       "\n",
       "    .dataframe tbody tr th {\n",
       "        vertical-align: top;\n",
       "    }\n",
       "\n",
       "    .dataframe thead th {\n",
       "        text-align: right;\n",
       "    }\n",
       "</style>\n",
       "<table border=\"1\" class=\"dataframe\">\n",
       "  <thead>\n",
       "    <tr style=\"text-align: right;\">\n",
       "      <th></th>\n",
       "      <th>day</th>\n",
       "      <th>temperature</th>\n",
       "      <th>windspeed</th>\n",
       "      <th>event</th>\n",
       "    </tr>\n",
       "  </thead>\n",
       "  <tbody>\n",
       "    <tr>\n",
       "      <th>0</th>\n",
       "      <td>2017-01-01</td>\n",
       "      <td>32.0</td>\n",
       "      <td>6.0</td>\n",
       "      <td>Rain</td>\n",
       "    </tr>\n",
       "    <tr>\n",
       "      <th>1</th>\n",
       "      <td>2017-01-04</td>\n",
       "      <td>NaN</td>\n",
       "      <td>9.0</td>\n",
       "      <td>Sunny</td>\n",
       "    </tr>\n",
       "    <tr>\n",
       "      <th>2</th>\n",
       "      <td>2017-01-05</td>\n",
       "      <td>28.0</td>\n",
       "      <td>NaN</td>\n",
       "      <td>Snow</td>\n",
       "    </tr>\n",
       "    <tr>\n",
       "      <th>3</th>\n",
       "      <td>2017-01-06</td>\n",
       "      <td>NaN</td>\n",
       "      <td>7.0</td>\n",
       "      <td>NaN</td>\n",
       "    </tr>\n",
       "    <tr>\n",
       "      <th>4</th>\n",
       "      <td>2017-01-07</td>\n",
       "      <td>32.0</td>\n",
       "      <td>NaN</td>\n",
       "      <td>Rain</td>\n",
       "    </tr>\n",
       "    <tr>\n",
       "      <th>5</th>\n",
       "      <td>2017-01-08</td>\n",
       "      <td>NaN</td>\n",
       "      <td>NaN</td>\n",
       "      <td>Sunny</td>\n",
       "    </tr>\n",
       "    <tr>\n",
       "      <th>6</th>\n",
       "      <td>2017-01-09</td>\n",
       "      <td>NaN</td>\n",
       "      <td>NaN</td>\n",
       "      <td>NaN</td>\n",
       "    </tr>\n",
       "    <tr>\n",
       "      <th>7</th>\n",
       "      <td>2017-01-10</td>\n",
       "      <td>34.1</td>\n",
       "      <td>8.1</td>\n",
       "      <td>Cloudy</td>\n",
       "    </tr>\n",
       "    <tr>\n",
       "      <th>8</th>\n",
       "      <td>2017-01-11</td>\n",
       "      <td>40.0</td>\n",
       "      <td>12.0</td>\n",
       "      <td>Sunny</td>\n",
       "    </tr>\n",
       "  </tbody>\n",
       "</table>\n",
       "</div>"
      ],
      "text/plain": [
       "         day  temperature  windspeed   event\n",
       "0 2017-01-01         32.0        6.0    Rain\n",
       "1 2017-01-04          NaN        9.0   Sunny\n",
       "2 2017-01-05         28.0        NaN    Snow\n",
       "3 2017-01-06          NaN        7.0     NaN\n",
       "4 2017-01-07         32.0        NaN    Rain\n",
       "5 2017-01-08          NaN        NaN   Sunny\n",
       "6 2017-01-09          NaN        NaN     NaN\n",
       "7 2017-01-10         34.1        8.1  Cloudy\n",
       "8 2017-01-11         40.0       12.0   Sunny"
      ]
     },
     "execution_count": 89,
     "metadata": {},
     "output_type": "execute_result"
    }
   ],
   "source": [
    "df"
   ]
  },
  {
   "cell_type": "code",
   "execution_count": 88,
   "id": "3f88089b",
   "metadata": {},
   "outputs": [
    {
     "data": {
      "text/plain": [
       "pandas._libs.tslibs.timestamps.Timestamp"
      ]
     },
     "execution_count": 88,
     "metadata": {},
     "output_type": "execute_result"
    }
   ],
   "source": [
    "type(df.day[0])"
   ]
  },
  {
   "cell_type": "code",
   "execution_count": 90,
   "id": "f150b62e",
   "metadata": {},
   "outputs": [
    {
     "data": {
      "text/html": [
       "<div>\n",
       "<style scoped>\n",
       "    .dataframe tbody tr th:only-of-type {\n",
       "        vertical-align: middle;\n",
       "    }\n",
       "\n",
       "    .dataframe tbody tr th {\n",
       "        vertical-align: top;\n",
       "    }\n",
       "\n",
       "    .dataframe thead th {\n",
       "        text-align: right;\n",
       "    }\n",
       "</style>\n",
       "<table border=\"1\" class=\"dataframe\">\n",
       "  <thead>\n",
       "    <tr style=\"text-align: right;\">\n",
       "      <th></th>\n",
       "      <th>day</th>\n",
       "      <th>temperature</th>\n",
       "      <th>windspeed</th>\n",
       "      <th>event</th>\n",
       "    </tr>\n",
       "  </thead>\n",
       "  <tbody>\n",
       "    <tr>\n",
       "      <th>0</th>\n",
       "      <td>2017-01-01</td>\n",
       "      <td>32.00</td>\n",
       "      <td>6.00</td>\n",
       "      <td>Rain</td>\n",
       "    </tr>\n",
       "    <tr>\n",
       "      <th>1</th>\n",
       "      <td>2017-01-04</td>\n",
       "      <td>33.22</td>\n",
       "      <td>9.00</td>\n",
       "      <td>Sunny</td>\n",
       "    </tr>\n",
       "    <tr>\n",
       "      <th>2</th>\n",
       "      <td>2017-01-05</td>\n",
       "      <td>28.00</td>\n",
       "      <td>8.42</td>\n",
       "      <td>Snow</td>\n",
       "    </tr>\n",
       "    <tr>\n",
       "      <th>3</th>\n",
       "      <td>2017-01-06</td>\n",
       "      <td>33.22</td>\n",
       "      <td>7.00</td>\n",
       "      <td>NaN</td>\n",
       "    </tr>\n",
       "    <tr>\n",
       "      <th>4</th>\n",
       "      <td>2017-01-07</td>\n",
       "      <td>32.00</td>\n",
       "      <td>8.42</td>\n",
       "      <td>Rain</td>\n",
       "    </tr>\n",
       "    <tr>\n",
       "      <th>5</th>\n",
       "      <td>2017-01-08</td>\n",
       "      <td>33.22</td>\n",
       "      <td>8.42</td>\n",
       "      <td>Sunny</td>\n",
       "    </tr>\n",
       "    <tr>\n",
       "      <th>6</th>\n",
       "      <td>2017-01-09</td>\n",
       "      <td>33.22</td>\n",
       "      <td>8.42</td>\n",
       "      <td>NaN</td>\n",
       "    </tr>\n",
       "    <tr>\n",
       "      <th>7</th>\n",
       "      <td>2017-01-10</td>\n",
       "      <td>34.10</td>\n",
       "      <td>8.10</td>\n",
       "      <td>Cloudy</td>\n",
       "    </tr>\n",
       "    <tr>\n",
       "      <th>8</th>\n",
       "      <td>2017-01-11</td>\n",
       "      <td>40.00</td>\n",
       "      <td>12.00</td>\n",
       "      <td>Sunny</td>\n",
       "    </tr>\n",
       "  </tbody>\n",
       "</table>\n",
       "</div>"
      ],
      "text/plain": [
       "         day  temperature  windspeed   event\n",
       "0 2017-01-01        32.00       6.00    Rain\n",
       "1 2017-01-04        33.22       9.00   Sunny\n",
       "2 2017-01-05        28.00       8.42    Snow\n",
       "3 2017-01-06        33.22       7.00     NaN\n",
       "4 2017-01-07        32.00       8.42    Rain\n",
       "5 2017-01-08        33.22       8.42   Sunny\n",
       "6 2017-01-09        33.22       8.42     NaN\n",
       "7 2017-01-10        34.10       8.10  Cloudy\n",
       "8 2017-01-11        40.00      12.00   Sunny"
      ]
     },
     "execution_count": 90,
     "metadata": {},
     "output_type": "execute_result"
    }
   ],
   "source": [
    "df.fillna({\n",
    "    'temperature': df.temperature.mean(),\n",
    "    'windspeed': df.windspeed.mean()\n",
    "})"
   ]
  },
  {
   "cell_type": "code",
   "execution_count": 92,
   "id": "d489b34c",
   "metadata": {},
   "outputs": [],
   "source": [
    "import numpy as np"
   ]
  },
  {
   "cell_type": "code",
   "execution_count": 93,
   "id": "0a387a16",
   "metadata": {},
   "outputs": [
    {
     "data": {
      "text/html": [
       "<div>\n",
       "<style scoped>\n",
       "    .dataframe tbody tr th:only-of-type {\n",
       "        vertical-align: middle;\n",
       "    }\n",
       "\n",
       "    .dataframe tbody tr th {\n",
       "        vertical-align: top;\n",
       "    }\n",
       "\n",
       "    .dataframe thead th {\n",
       "        text-align: right;\n",
       "    }\n",
       "</style>\n",
       "<table border=\"1\" class=\"dataframe\">\n",
       "  <thead>\n",
       "    <tr style=\"text-align: right;\">\n",
       "      <th></th>\n",
       "      <th>day</th>\n",
       "      <th>temperature</th>\n",
       "      <th>windspeed</th>\n",
       "      <th>event</th>\n",
       "    </tr>\n",
       "  </thead>\n",
       "  <tbody>\n",
       "    <tr>\n",
       "      <th>0</th>\n",
       "      <td>2017-01-01</td>\n",
       "      <td>NaN</td>\n",
       "      <td>6.0</td>\n",
       "      <td>Rain</td>\n",
       "    </tr>\n",
       "    <tr>\n",
       "      <th>1</th>\n",
       "      <td>2017-01-04</td>\n",
       "      <td>NaN</td>\n",
       "      <td>9.0</td>\n",
       "      <td>Sunny</td>\n",
       "    </tr>\n",
       "    <tr>\n",
       "      <th>2</th>\n",
       "      <td>2017-01-05</td>\n",
       "      <td>28.0</td>\n",
       "      <td>NaN</td>\n",
       "      <td>Snow</td>\n",
       "    </tr>\n",
       "    <tr>\n",
       "      <th>3</th>\n",
       "      <td>2017-01-06</td>\n",
       "      <td>NaN</td>\n",
       "      <td>7.0</td>\n",
       "      <td>NaN</td>\n",
       "    </tr>\n",
       "    <tr>\n",
       "      <th>4</th>\n",
       "      <td>2017-01-07</td>\n",
       "      <td>NaN</td>\n",
       "      <td>NaN</td>\n",
       "      <td>Rain</td>\n",
       "    </tr>\n",
       "    <tr>\n",
       "      <th>5</th>\n",
       "      <td>2017-01-08</td>\n",
       "      <td>NaN</td>\n",
       "      <td>NaN</td>\n",
       "      <td>Sunny</td>\n",
       "    </tr>\n",
       "    <tr>\n",
       "      <th>6</th>\n",
       "      <td>2017-01-09</td>\n",
       "      <td>NaN</td>\n",
       "      <td>NaN</td>\n",
       "      <td>NaN</td>\n",
       "    </tr>\n",
       "    <tr>\n",
       "      <th>7</th>\n",
       "      <td>2017-01-10</td>\n",
       "      <td>34.1</td>\n",
       "      <td>8.1</td>\n",
       "      <td>Cloudy</td>\n",
       "    </tr>\n",
       "    <tr>\n",
       "      <th>8</th>\n",
       "      <td>2017-01-11</td>\n",
       "      <td>40.0</td>\n",
       "      <td>12.0</td>\n",
       "      <td>Sunny</td>\n",
       "    </tr>\n",
       "  </tbody>\n",
       "</table>\n",
       "</div>"
      ],
      "text/plain": [
       "         day  temperature  windspeed   event\n",
       "0 2017-01-01          NaN        6.0    Rain\n",
       "1 2017-01-04          NaN        9.0   Sunny\n",
       "2 2017-01-05         28.0        NaN    Snow\n",
       "3 2017-01-06          NaN        7.0     NaN\n",
       "4 2017-01-07          NaN        NaN    Rain\n",
       "5 2017-01-08          NaN        NaN   Sunny\n",
       "6 2017-01-09          NaN        NaN     NaN\n",
       "7 2017-01-10         34.1        8.1  Cloudy\n",
       "8 2017-01-11         40.0       12.0   Sunny"
      ]
     },
     "execution_count": 93,
     "metadata": {},
     "output_type": "execute_result"
    }
   ],
   "source": [
    "df.replace(32.00, np.nan)"
   ]
  },
  {
   "cell_type": "code",
   "execution_count": 94,
   "id": "30eae045",
   "metadata": {},
   "outputs": [
    {
     "data": {
      "text/html": [
       "<div>\n",
       "<style scoped>\n",
       "    .dataframe tbody tr th:only-of-type {\n",
       "        vertical-align: middle;\n",
       "    }\n",
       "\n",
       "    .dataframe tbody tr th {\n",
       "        vertical-align: top;\n",
       "    }\n",
       "\n",
       "    .dataframe thead th {\n",
       "        text-align: right;\n",
       "    }\n",
       "</style>\n",
       "<table border=\"1\" class=\"dataframe\">\n",
       "  <thead>\n",
       "    <tr style=\"text-align: right;\">\n",
       "      <th></th>\n",
       "      <th>day</th>\n",
       "      <th>temperature</th>\n",
       "      <th>windspeed</th>\n",
       "      <th>event</th>\n",
       "    </tr>\n",
       "  </thead>\n",
       "  <tbody>\n",
       "    <tr>\n",
       "      <th>0</th>\n",
       "      <td>2017-01-01</td>\n",
       "      <td>32.0</td>\n",
       "      <td>6.0</td>\n",
       "      <td>Rain</td>\n",
       "    </tr>\n",
       "    <tr>\n",
       "      <th>1</th>\n",
       "      <td>2017-01-04</td>\n",
       "      <td>NaN</td>\n",
       "      <td>9.0</td>\n",
       "      <td>Sunny</td>\n",
       "    </tr>\n",
       "    <tr>\n",
       "      <th>2</th>\n",
       "      <td>2017-01-05</td>\n",
       "      <td>28.0</td>\n",
       "      <td>NaN</td>\n",
       "      <td>Snow</td>\n",
       "    </tr>\n",
       "    <tr>\n",
       "      <th>3</th>\n",
       "      <td>2017-01-06</td>\n",
       "      <td>NaN</td>\n",
       "      <td>7.0</td>\n",
       "      <td>NaN</td>\n",
       "    </tr>\n",
       "    <tr>\n",
       "      <th>4</th>\n",
       "      <td>2017-01-07</td>\n",
       "      <td>32.0</td>\n",
       "      <td>NaN</td>\n",
       "      <td>Rain</td>\n",
       "    </tr>\n",
       "    <tr>\n",
       "      <th>5</th>\n",
       "      <td>2017-01-08</td>\n",
       "      <td>NaN</td>\n",
       "      <td>NaN</td>\n",
       "      <td>Sunny</td>\n",
       "    </tr>\n",
       "    <tr>\n",
       "      <th>6</th>\n",
       "      <td>2017-01-09</td>\n",
       "      <td>NaN</td>\n",
       "      <td>NaN</td>\n",
       "      <td>NaN</td>\n",
       "    </tr>\n",
       "    <tr>\n",
       "      <th>7</th>\n",
       "      <td>2017-01-10</td>\n",
       "      <td>34.1</td>\n",
       "      <td>8.1</td>\n",
       "      <td>Cloudy</td>\n",
       "    </tr>\n",
       "    <tr>\n",
       "      <th>8</th>\n",
       "      <td>2017-01-11</td>\n",
       "      <td>40.0</td>\n",
       "      <td>12.0</td>\n",
       "      <td>Sunny</td>\n",
       "    </tr>\n",
       "  </tbody>\n",
       "</table>\n",
       "</div>"
      ],
      "text/plain": [
       "         day  temperature  windspeed   event\n",
       "0 2017-01-01         32.0        6.0    Rain\n",
       "1 2017-01-04          NaN        9.0   Sunny\n",
       "2 2017-01-05         28.0        NaN    Snow\n",
       "3 2017-01-06          NaN        7.0     NaN\n",
       "4 2017-01-07         32.0        NaN    Rain\n",
       "5 2017-01-08          NaN        NaN   Sunny\n",
       "6 2017-01-09          NaN        NaN     NaN\n",
       "7 2017-01-10         34.1        8.1  Cloudy\n",
       "8 2017-01-11         40.0       12.0   Sunny"
      ]
     },
     "execution_count": 94,
     "metadata": {},
     "output_type": "execute_result"
    }
   ],
   "source": [
    "df"
   ]
  },
  {
   "cell_type": "code",
   "execution_count": 97,
   "id": "099368e9",
   "metadata": {},
   "outputs": [
    {
     "data": {
      "text/html": [
       "<div>\n",
       "<style scoped>\n",
       "    .dataframe tbody tr th:only-of-type {\n",
       "        vertical-align: middle;\n",
       "    }\n",
       "\n",
       "    .dataframe tbody tr th {\n",
       "        vertical-align: top;\n",
       "    }\n",
       "\n",
       "    .dataframe thead th {\n",
       "        text-align: right;\n",
       "    }\n",
       "</style>\n",
       "<table border=\"1\" class=\"dataframe\">\n",
       "  <thead>\n",
       "    <tr style=\"text-align: right;\">\n",
       "      <th></th>\n",
       "      <th>day</th>\n",
       "      <th>temperature</th>\n",
       "      <th>windspeed</th>\n",
       "      <th>event</th>\n",
       "    </tr>\n",
       "  </thead>\n",
       "  <tbody>\n",
       "    <tr>\n",
       "      <th>0</th>\n",
       "      <td>2017-01-01</td>\n",
       "      <td>32.00</td>\n",
       "      <td>6.00</td>\n",
       "      <td>Rain</td>\n",
       "    </tr>\n",
       "    <tr>\n",
       "      <th>1</th>\n",
       "      <td>2017-01-04</td>\n",
       "      <td>33.22</td>\n",
       "      <td>9.00</td>\n",
       "      <td>Sunny</td>\n",
       "    </tr>\n",
       "    <tr>\n",
       "      <th>2</th>\n",
       "      <td>2017-01-05</td>\n",
       "      <td>28.00</td>\n",
       "      <td>8.42</td>\n",
       "      <td>Snow</td>\n",
       "    </tr>\n",
       "    <tr>\n",
       "      <th>3</th>\n",
       "      <td>2017-01-06</td>\n",
       "      <td>33.22</td>\n",
       "      <td>7.00</td>\n",
       "      <td>Sunny</td>\n",
       "    </tr>\n",
       "    <tr>\n",
       "      <th>4</th>\n",
       "      <td>2017-01-07</td>\n",
       "      <td>32.00</td>\n",
       "      <td>8.42</td>\n",
       "      <td>Rain</td>\n",
       "    </tr>\n",
       "    <tr>\n",
       "      <th>5</th>\n",
       "      <td>2017-01-08</td>\n",
       "      <td>33.22</td>\n",
       "      <td>8.42</td>\n",
       "      <td>Sunny</td>\n",
       "    </tr>\n",
       "    <tr>\n",
       "      <th>6</th>\n",
       "      <td>2017-01-09</td>\n",
       "      <td>33.22</td>\n",
       "      <td>8.42</td>\n",
       "      <td>Sunny</td>\n",
       "    </tr>\n",
       "    <tr>\n",
       "      <th>7</th>\n",
       "      <td>2017-01-10</td>\n",
       "      <td>34.10</td>\n",
       "      <td>8.10</td>\n",
       "      <td>Cloudy</td>\n",
       "    </tr>\n",
       "    <tr>\n",
       "      <th>8</th>\n",
       "      <td>2017-01-11</td>\n",
       "      <td>40.00</td>\n",
       "      <td>12.00</td>\n",
       "      <td>Sunny</td>\n",
       "    </tr>\n",
       "  </tbody>\n",
       "</table>\n",
       "</div>"
      ],
      "text/plain": [
       "         day  temperature  windspeed   event\n",
       "0 2017-01-01        32.00       6.00    Rain\n",
       "1 2017-01-04        33.22       9.00   Sunny\n",
       "2 2017-01-05        28.00       8.42    Snow\n",
       "3 2017-01-06        33.22       7.00   Sunny\n",
       "4 2017-01-07        32.00       8.42    Rain\n",
       "5 2017-01-08        33.22       8.42   Sunny\n",
       "6 2017-01-09        33.22       8.42   Sunny\n",
       "7 2017-01-10        34.10       8.10  Cloudy\n",
       "8 2017-01-11        40.00      12.00   Sunny"
      ]
     },
     "execution_count": 97,
     "metadata": {},
     "output_type": "execute_result"
    }
   ],
   "source": [
    "df.fillna({\n",
    "    'temperature': df.temperature.mean(),\n",
    "    'windspeed': df.windspeed.mean(),\n",
    "    'event': 'Sunny'\n",
    "})"
   ]
  },
  {
   "cell_type": "code",
   "execution_count": 98,
   "id": "4a2bc71b",
   "metadata": {},
   "outputs": [],
   "source": [
    "from matplotlib import pyplot as plt"
   ]
  },
  {
   "cell_type": "code",
   "execution_count": 105,
   "id": "a5b322b6",
   "metadata": {},
   "outputs": [
    {
     "data": {
      "image/png": "[encoded data removed]",
      "text/plain": [
       "<Figure size 640x480 with 1 Axes>"
      ]
     },
     "metadata": {},
     "output_type": "display_data"
    },
    {
     "data": {
      "text/plain": [
       "<Figure size 1200x400 with 0 Axes>"
      ]
     },
     "metadata": {},
     "output_type": "display_data"
    }
   ],
   "source": [
    "plt.plot(df.temperature,df.windspeed)\n",
    "\n",
    "plt.figure(figsize=(12,4))\n",
    "plt.show()"
   ]
  },
  {
   "cell_type": "code",
   "execution_count": 106,
   "id": "b683f528",
   "metadata": {},
   "outputs": [
    {
     "data": {
      "text/html": [
       "<div>\n",
       "<style scoped>\n",
       "    .dataframe tbody tr th:only-of-type {\n",
       "        vertical-align: middle;\n",
       "    }\n",
       "\n",
       "    .dataframe tbody tr th {\n",
       "        vertical-align: top;\n",
       "    }\n",
       "\n",
       "    .dataframe thead th {\n",
       "        text-align: right;\n",
       "    }\n",
       "</style>\n",
       "<table border=\"1\" class=\"dataframe\">\n",
       "  <thead>\n",
       "    <tr style=\"text-align: right;\">\n",
       "      <th></th>\n",
       "      <th>day</th>\n",
       "      <th>temperature</th>\n",
       "      <th>windspeed</th>\n",
       "      <th>event</th>\n",
       "    </tr>\n",
       "  </thead>\n",
       "  <tbody>\n",
       "    <tr>\n",
       "      <th>0</th>\n",
       "      <td>2017-01-01</td>\n",
       "      <td>32.0</td>\n",
       "      <td>6.0</td>\n",
       "      <td>Rain</td>\n",
       "    </tr>\n",
       "    <tr>\n",
       "      <th>1</th>\n",
       "      <td>2017-01-04</td>\n",
       "      <td>NaN</td>\n",
       "      <td>9.0</td>\n",
       "      <td>Sunny</td>\n",
       "    </tr>\n",
       "    <tr>\n",
       "      <th>2</th>\n",
       "      <td>2017-01-05</td>\n",
       "      <td>28.0</td>\n",
       "      <td>NaN</td>\n",
       "      <td>Snow</td>\n",
       "    </tr>\n",
       "    <tr>\n",
       "      <th>3</th>\n",
       "      <td>2017-01-06</td>\n",
       "      <td>NaN</td>\n",
       "      <td>7.0</td>\n",
       "      <td>NaN</td>\n",
       "    </tr>\n",
       "    <tr>\n",
       "      <th>4</th>\n",
       "      <td>2017-01-07</td>\n",
       "      <td>32.0</td>\n",
       "      <td>NaN</td>\n",
       "      <td>Rain</td>\n",
       "    </tr>\n",
       "    <tr>\n",
       "      <th>5</th>\n",
       "      <td>2017-01-08</td>\n",
       "      <td>NaN</td>\n",
       "      <td>NaN</td>\n",
       "      <td>Sunny</td>\n",
       "    </tr>\n",
       "    <tr>\n",
       "      <th>6</th>\n",
       "      <td>2017-01-09</td>\n",
       "      <td>NaN</td>\n",
       "      <td>NaN</td>\n",
       "      <td>NaN</td>\n",
       "    </tr>\n",
       "    <tr>\n",
       "      <th>7</th>\n",
       "      <td>2017-01-10</td>\n",
       "      <td>34.1</td>\n",
       "      <td>8.1</td>\n",
       "      <td>Cloudy</td>\n",
       "    </tr>\n",
       "    <tr>\n",
       "      <th>8</th>\n",
       "      <td>2017-01-11</td>\n",
       "      <td>40.0</td>\n",
       "      <td>12.0</td>\n",
       "      <td>Sunny</td>\n",
       "    </tr>\n",
       "  </tbody>\n",
       "</table>\n",
       "</div>"
      ],
      "text/plain": [
       "         day  temperature  windspeed   event\n",
       "0 2017-01-01         32.0        6.0    Rain\n",
       "1 2017-01-04          NaN        9.0   Sunny\n",
       "2 2017-01-05         28.0        NaN    Snow\n",
       "3 2017-01-06          NaN        7.0     NaN\n",
       "4 2017-01-07         32.0        NaN    Rain\n",
       "5 2017-01-08          NaN        NaN   Sunny\n",
       "6 2017-01-09          NaN        NaN     NaN\n",
       "7 2017-01-10         34.1        8.1  Cloudy\n",
       "8 2017-01-11         40.0       12.0   Sunny"
      ]
     },
     "execution_count": 106,
     "metadata": {},
     "output_type": "execute_result"
    }
   ],
   "source": [
    "df"
   ]
  },
  {
   "cell_type": "code",
   "execution_count": 110,
   "id": "66060a10",
   "metadata": {},
   "outputs": [
    {
     "data": {
      "text/plain": [
       "<bound method NDFrame._add_numeric_operations.<locals>.sum of    temperature  windspeed\n",
       "0         32.0        6.0\n",
       "1          NaN        9.0\n",
       "2         28.0        NaN\n",
       "3          NaN        7.0\n",
       "4         32.0        NaN\n",
       "5          NaN        NaN\n",
       "6          NaN        NaN\n",
       "7         34.1        8.1\n",
       "8         40.0       12.0>"
      ]
     },
     "execution_count": 110,
     "metadata": {},
     "output_type": "execute_result"
    }
   ],
   "source": [
    "total = df[['temperature', 'windspeed']].sum\n",
    "total"
   ]
  },
  {
   "cell_type": "code",
   "execution_count": 115,
   "id": "b43b4003",
   "metadata": {},
   "outputs": [],
   "source": [
    "dataframe = pd.DataFrame({'Name': ['Aparna', 'Aparna', 'Aparna', \n",
    "                                   'Aparna', 'Aparna', 'Juhi',  \n",
    "                                   'Juhi', 'Juhi', 'Juhi', 'Juhi', \n",
    "                                   'Suprabhat', 'Suprabhat', 'Suprabhat', \n",
    "                                   'Suprabhat', 'Suprabhat'], \n",
    "                          'votes_of_each_class': [12, 9, 17, 19, 20,  \n",
    "                                                  11, 15, 12, 9, 4,  \n",
    "                                                  22, 19, 17, 19, 18]})"
   ]
  },
  {
   "cell_type": "code",
   "execution_count": 116,
   "id": "2f816689",
   "metadata": {},
   "outputs": [
    {
     "data": {
      "text/html": [
       "<div>\n",
       "<style scoped>\n",
       "    .dataframe tbody tr th:only-of-type {\n",
       "        vertical-align: middle;\n",
       "    }\n",
       "\n",
       "    .dataframe tbody tr th {\n",
       "        vertical-align: top;\n",
       "    }\n",
       "\n",
       "    .dataframe thead th {\n",
       "        text-align: right;\n",
       "    }\n",
       "</style>\n",
       "<table border=\"1\" class=\"dataframe\">\n",
       "  <thead>\n",
       "    <tr style=\"text-align: right;\">\n",
       "      <th></th>\n",
       "      <th>Name</th>\n",
       "      <th>votes_of_each_class</th>\n",
       "    </tr>\n",
       "  </thead>\n",
       "  <tbody>\n",
       "    <tr>\n",
       "      <th>0</th>\n",
       "      <td>Aparna</td>\n",
       "      <td>12</td>\n",
       "    </tr>\n",
       "    <tr>\n",
       "      <th>1</th>\n",
       "      <td>Aparna</td>\n",
       "      <td>9</td>\n",
       "    </tr>\n",
       "    <tr>\n",
       "      <th>2</th>\n",
       "      <td>Aparna</td>\n",
       "      <td>17</td>\n",
       "    </tr>\n",
       "    <tr>\n",
       "      <th>3</th>\n",
       "      <td>Aparna</td>\n",
       "      <td>19</td>\n",
       "    </tr>\n",
       "    <tr>\n",
       "      <th>4</th>\n",
       "      <td>Aparna</td>\n",
       "      <td>20</td>\n",
       "    </tr>\n",
       "    <tr>\n",
       "      <th>5</th>\n",
       "      <td>Juhi</td>\n",
       "      <td>11</td>\n",
       "    </tr>\n",
       "    <tr>\n",
       "      <th>6</th>\n",
       "      <td>Juhi</td>\n",
       "      <td>15</td>\n",
       "    </tr>\n",
       "    <tr>\n",
       "      <th>7</th>\n",
       "      <td>Juhi</td>\n",
       "      <td>12</td>\n",
       "    </tr>\n",
       "    <tr>\n",
       "      <th>8</th>\n",
       "      <td>Juhi</td>\n",
       "      <td>9</td>\n",
       "    </tr>\n",
       "    <tr>\n",
       "      <th>9</th>\n",
       "      <td>Juhi</td>\n",
       "      <td>4</td>\n",
       "    </tr>\n",
       "    <tr>\n",
       "      <th>10</th>\n",
       "      <td>Suprabhat</td>\n",
       "      <td>22</td>\n",
       "    </tr>\n",
       "    <tr>\n",
       "      <th>11</th>\n",
       "      <td>Suprabhat</td>\n",
       "      <td>19</td>\n",
       "    </tr>\n",
       "    <tr>\n",
       "      <th>12</th>\n",
       "      <td>Suprabhat</td>\n",
       "      <td>17</td>\n",
       "    </tr>\n",
       "    <tr>\n",
       "      <th>13</th>\n",
       "      <td>Suprabhat</td>\n",
       "      <td>19</td>\n",
       "    </tr>\n",
       "    <tr>\n",
       "      <th>14</th>\n",
       "      <td>Suprabhat</td>\n",
       "      <td>18</td>\n",
       "    </tr>\n",
       "  </tbody>\n",
       "</table>\n",
       "</div>"
      ],
      "text/plain": [
       "         Name  votes_of_each_class\n",
       "0      Aparna                   12\n",
       "1      Aparna                    9\n",
       "2      Aparna                   17\n",
       "3      Aparna                   19\n",
       "4      Aparna                   20\n",
       "5        Juhi                   11\n",
       "6        Juhi                   15\n",
       "7        Juhi                   12\n",
       "8        Juhi                    9\n",
       "9        Juhi                    4\n",
       "10  Suprabhat                   22\n",
       "11  Suprabhat                   19\n",
       "12  Suprabhat                   17\n",
       "13  Suprabhat                   19\n",
       "14  Suprabhat                   18"
      ]
     },
     "execution_count": 116,
     "metadata": {},
     "output_type": "execute_result"
    }
   ],
   "source": [
    "dataframe"
   ]
  },
  {
   "cell_type": "code",
   "execution_count": 117,
   "id": "0685710c",
   "metadata": {},
   "outputs": [],
   "source": [
    "df=dataframe.groupby('Name')"
   ]
  },
  {
   "cell_type": "code",
   "execution_count": 121,
   "id": "390f260a",
   "metadata": {},
   "outputs": [
    {
     "name": "stdout",
     "output_type": "stream",
     "text": [
      "Aparna\n",
      "\n",
      "\n",
      "     Name  votes_of_each_class\n",
      "0  Aparna                   12\n",
      "1  Aparna                    9\n",
      "2  Aparna                   17\n",
      "3  Aparna                   19\n",
      "4  Aparna                   20\n",
      "Juhi\n",
      "\n",
      "\n",
      "   Name  votes_of_each_class\n",
      "5  Juhi                   11\n",
      "6  Juhi                   15\n",
      "7  Juhi                   12\n",
      "8  Juhi                    9\n",
      "9  Juhi                    4\n",
      "Suprabhat\n",
      "\n",
      "\n",
      "         Name  votes_of_each_class\n",
      "10  Suprabhat                   22\n",
      "11  Suprabhat                   19\n",
      "12  Suprabhat                   17\n",
      "13  Suprabhat                   19\n",
      "14  Suprabhat                   18\n"
     ]
    }
   ],
   "source": [
    "for a , b in df:\n",
    "    print(a)\n",
    "    print(\"\\n\")\n",
    "    print(b)"
   ]
  },
  {
   "cell_type": "code",
   "execution_count": 122,
   "id": "cf877e9c",
   "metadata": {},
   "outputs": [
    {
     "data": {
      "text/plain": [
       "Name\n",
       "Aparna       77\n",
       "Juhi         51\n",
       "Suprabhat    95\n",
       "Name: votes_of_each_class, dtype: int64"
      ]
     },
     "execution_count": 122,
     "metadata": {},
     "output_type": "execute_result"
    }
   ],
   "source": [
    "total = df.votes_of_each_class.sum()\n",
    "total"
   ]
  },
  {
   "cell_type": "code",
   "execution_count": 127,
   "id": "13b123b7",
   "metadata": {},
   "outputs": [
    {
     "data": {
      "text/plain": [
       "([<matplotlib.patches.Wedge at 0x29190448a90>,\n",
       "  <matplotlib.patches.Wedge at 0x2919044b690>,\n",
       "  <matplotlib.patches.Wedge at 0x29190452710>],\n",
       " [Text(0.5605444609458572, 1.0610324723131326, 'Aparna'),\n",
       "  Text(-1.0648221275651504, 0.2759598460784233, 'Juhi'),\n",
       "  Text(0.25339810635313903, -1.0704155266515165, 'Suprabhat')],\n",
       " [Text(0.32698426888508336, 0.6189356088493273, '34.53%'),\n",
       "  Text(-0.580812069580991, 0.15052355240641266, '22.87%'),\n",
       "  Text(0.138217148919894, -0.5838630145371908, '42.60%')])"
      ]
     },
     "execution_count": 127,
     "metadata": {},
     "output_type": "execute_result"
    },
    {
     "data": {
      "image/png": "[encoded data removed]",
      "text/plain": [
       "<Figure size 640x480 with 1 Axes>"
      ]
     },
     "metadata": {},
     "output_type": "display_data"
    }
   ],
   "source": [
    "plt.pie(total, labels=total.index, autopct=\"%1.2f%%\", explode=(0.1,0,0), shadow=True, rotatelabels=140)\n",
    "\n"
   ]
  },
  {
   "cell_type": "code",
   "execution_count": null,
   "id": "20bce694",
   "metadata": {},
   "outputs": [],
   "source": []
  }
 ],
 "metadata": {
  "kernelspec": {
   "display_name": "Python 3 (ipykernel)",
   "language": "python",
   "name": "python3"
  },
  "language_info": {
   "codemirror_mode": {
    "name": "ipython",
    "version": 3
   },
   "file_extension": ".py",
   "mimetype": "text/x-python",
   "name": "python",
   "nbconvert_exporter": "python",
   "pygments_lexer": "ipython3",
   "version": "3.11.4"
  }
 },
 "nbformat": 4,
 "nbformat_minor": 5
}
