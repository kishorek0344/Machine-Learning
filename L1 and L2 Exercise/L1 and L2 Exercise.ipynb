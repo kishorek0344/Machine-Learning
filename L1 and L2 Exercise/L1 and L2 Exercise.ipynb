{
 "cells": [
  {
   "cell_type": "markdown",
   "id": "b101df1f",
   "metadata": {},
   "source": [
    "### Problem Statement\n",
    "\n",
    "You are a data scientist / AI engineer at a healthcare consulting firm. You have been provided with a dataset named **`\"patient_health_data.csv\"`**, which includes records of various health indicators for a group of patients. The dataset comprises the following columns:\n",
    "\n",
    "- `age:` The age of the patient.\n",
    "- `bmi:` Body Mass Index of the patient.\n",
    "- `blood_pressure:` The blood pressure of the patient.\n",
    "- `cholesterol:` Cholesterol levels of the patient.\n",
    "- `glucose:` Glucose levels of the patient.\n",
    "- `insulin:` Insulin levels of the patient.\n",
    "- `heart_rate:` Heart rate of the patient.\n",
    "- `activity_level:` Activity level of the patient.\n",
    "- `diet_quality:` Quality of diet of the patient.\n",
    "- `smoking_status:` Whether the patient smokes (Yes or No).\n",
    "- `alcohol_intake:` The amount of alcohol intake by the patient.\n",
    "- `health_risk_score:` A composite score representing the overall health risk of a patient.\n",
    "\n",
    "Your task is to use this dataset to build a linear regression model to predict the health risk score based on the given predictor variables. Additionally, you will use L1 (Lasso) and L2 (Ridge) regularization techniques to improve the model's performance. "
   ]
  },
  {
   "cell_type": "markdown",
   "id": "6c0f1f50",
   "metadata": {},
   "source": [
    "**Import Necessary Libraries**"
   ]
  },
  {
   "cell_type": "code",
   "execution_count": 2,
   "id": "be508488",
   "metadata": {},
   "outputs": [],
   "source": [
    "import numpy as np\n",
    "import pandas as pd\n",
    "from matplotlib import pyplot as plt"
   ]
  },
  {
   "cell_type": "markdown",
   "id": "b8b95f13",
   "metadata": {},
   "source": [
    "### Task 1: Data Preparation and Exploration\n",
    "\n",
    "1. Import the data from the **`\"patient_health_data.csv\"`** file and store it in a variable df.\n",
    "2. Display the number of rows and columns in the dataset.\n",
    "3. Display the first few rows of the dataset to get an overview.\n",
    "4. Check for any missing values in the dataset and handle them appropriately.\n",
    "5. Encode the categorical variable `'smoking_status'` by converting 'Yes' to 1 and 'No' to 0."
   ]
  },
  {
   "cell_type": "code",
   "execution_count": 3,
   "id": "e008f237",
   "metadata": {},
   "outputs": [
    {
     "data": {
      "text/html": [
       "<div>\n",
       "<style scoped>\n",
       "    .dataframe tbody tr th:only-of-type {\n",
       "        vertical-align: middle;\n",
       "    }\n",
       "\n",
       "    .dataframe tbody tr th {\n",
       "        vertical-align: top;\n",
       "    }\n",
       "\n",
       "    .dataframe thead th {\n",
       "        text-align: right;\n",
       "    }\n",
       "</style>\n",
       "<table border=\"1\" class=\"dataframe\">\n",
       "  <thead>\n",
       "    <tr style=\"text-align: right;\">\n",
       "      <th></th>\n",
       "      <th>age</th>\n",
       "      <th>bmi</th>\n",
       "      <th>blood_pressure</th>\n",
       "      <th>cholesterol</th>\n",
       "      <th>glucose</th>\n",
       "      <th>insulin</th>\n",
       "      <th>heart_rate</th>\n",
       "      <th>activity_level</th>\n",
       "      <th>diet_quality</th>\n",
       "      <th>smoking_status</th>\n",
       "      <th>alcohol_intake</th>\n",
       "      <th>health_risk_score</th>\n",
       "    </tr>\n",
       "  </thead>\n",
       "  <tbody>\n",
       "    <tr>\n",
       "      <th>0</th>\n",
       "      <td>58</td>\n",
       "      <td>24.865215</td>\n",
       "      <td>122.347094</td>\n",
       "      <td>165.730375</td>\n",
       "      <td>149.289441</td>\n",
       "      <td>22.306844</td>\n",
       "      <td>75.866391</td>\n",
       "      <td>1.180237</td>\n",
       "      <td>7.675409</td>\n",
       "      <td>No</td>\n",
       "      <td>0.824123</td>\n",
       "      <td>150.547752</td>\n",
       "    </tr>\n",
       "    <tr>\n",
       "      <th>1</th>\n",
       "      <td>71</td>\n",
       "      <td>19.103168</td>\n",
       "      <td>136.852028</td>\n",
       "      <td>260.610781</td>\n",
       "      <td>158.584646</td>\n",
       "      <td>13.869817</td>\n",
       "      <td>69.481114</td>\n",
       "      <td>7.634622</td>\n",
       "      <td>8.933057</td>\n",
       "      <td>No</td>\n",
       "      <td>0.852910</td>\n",
       "      <td>160.320350</td>\n",
       "    </tr>\n",
       "    <tr>\n",
       "      <th>2</th>\n",
       "      <td>48</td>\n",
       "      <td>22.316562</td>\n",
       "      <td>137.592457</td>\n",
       "      <td>177.342582</td>\n",
       "      <td>178.760166</td>\n",
       "      <td>22.849816</td>\n",
       "      <td>69.386962</td>\n",
       "      <td>7.917398</td>\n",
       "      <td>3.501119</td>\n",
       "      <td>Yes</td>\n",
       "      <td>4.740542</td>\n",
       "      <td>187.487398</td>\n",
       "    </tr>\n",
       "  </tbody>\n",
       "</table>\n",
       "</div>"
      ],
      "text/plain": [
       "   age        bmi  blood_pressure  cholesterol     glucose    insulin  \\\n",
       "0   58  24.865215      122.347094   165.730375  149.289441  22.306844   \n",
       "1   71  19.103168      136.852028   260.610781  158.584646  13.869817   \n",
       "2   48  22.316562      137.592457   177.342582  178.760166  22.849816   \n",
       "\n",
       "   heart_rate  activity_level  diet_quality smoking_status  alcohol_intake  \\\n",
       "0   75.866391        1.180237      7.675409             No        0.824123   \n",
       "1   69.481114        7.634622      8.933057             No        0.852910   \n",
       "2   69.386962        7.917398      3.501119            Yes        4.740542   \n",
       "\n",
       "   health_risk_score  \n",
       "0         150.547752  \n",
       "1         160.320350  \n",
       "2         187.487398  "
      ]
     },
     "execution_count": 3,
     "metadata": {},
     "output_type": "execute_result"
    }
   ],
   "source": [
    "df = pd.read_csv(\"patient_health_data.csv\")\n",
    "df.head(3)"
   ]
  },
  {
   "cell_type": "code",
   "execution_count": 4,
   "id": "27dc611c",
   "metadata": {},
   "outputs": [
    {
     "data": {
      "text/plain": [
       "(250, 12)"
      ]
     },
     "execution_count": 4,
     "metadata": {},
     "output_type": "execute_result"
    }
   ],
   "source": [
    "df.shape"
   ]
  },
  {
   "cell_type": "code",
   "execution_count": 5,
   "id": "e4102153",
   "metadata": {},
   "outputs": [
    {
     "data": {
      "text/plain": [
       "age                  0\n",
       "bmi                  0\n",
       "blood_pressure       0\n",
       "cholesterol          0\n",
       "glucose              0\n",
       "insulin              0\n",
       "heart_rate           0\n",
       "activity_level       0\n",
       "diet_quality         0\n",
       "smoking_status       0\n",
       "alcohol_intake       0\n",
       "health_risk_score    0\n",
       "dtype: int64"
      ]
     },
     "execution_count": 5,
     "metadata": {},
     "output_type": "execute_result"
    }
   ],
   "source": [
    "df.isnull().sum()"
   ]
  },
  {
   "cell_type": "code",
   "execution_count": 9,
   "id": "f0b4194a",
   "metadata": {},
   "outputs": [],
   "source": [
    "df_enco=pd.get_dummies(df,columns=['smoking_status'], drop_first=True)"
   ]
  },
  {
   "cell_type": "code",
   "execution_count": 10,
   "id": "f711dd5a",
   "metadata": {},
   "outputs": [
    {
     "data": {
      "text/html": [
       "<div>\n",
       "<style scoped>\n",
       "    .dataframe tbody tr th:only-of-type {\n",
       "        vertical-align: middle;\n",
       "    }\n",
       "\n",
       "    .dataframe tbody tr th {\n",
       "        vertical-align: top;\n",
       "    }\n",
       "\n",
       "    .dataframe thead th {\n",
       "        text-align: right;\n",
       "    }\n",
       "</style>\n",
       "<table border=\"1\" class=\"dataframe\">\n",
       "  <thead>\n",
       "    <tr style=\"text-align: right;\">\n",
       "      <th></th>\n",
       "      <th>age</th>\n",
       "      <th>bmi</th>\n",
       "      <th>blood_pressure</th>\n",
       "      <th>cholesterol</th>\n",
       "      <th>glucose</th>\n",
       "      <th>insulin</th>\n",
       "      <th>heart_rate</th>\n",
       "      <th>activity_level</th>\n",
       "      <th>diet_quality</th>\n",
       "      <th>alcohol_intake</th>\n",
       "      <th>health_risk_score</th>\n",
       "      <th>smoking_status_Yes</th>\n",
       "    </tr>\n",
       "  </thead>\n",
       "  <tbody>\n",
       "    <tr>\n",
       "      <th>0</th>\n",
       "      <td>58</td>\n",
       "      <td>24.865215</td>\n",
       "      <td>122.347094</td>\n",
       "      <td>165.730375</td>\n",
       "      <td>149.289441</td>\n",
       "      <td>22.306844</td>\n",
       "      <td>75.866391</td>\n",
       "      <td>1.180237</td>\n",
       "      <td>7.675409</td>\n",
       "      <td>0.824123</td>\n",
       "      <td>150.547752</td>\n",
       "      <td>0</td>\n",
       "    </tr>\n",
       "    <tr>\n",
       "      <th>1</th>\n",
       "      <td>71</td>\n",
       "      <td>19.103168</td>\n",
       "      <td>136.852028</td>\n",
       "      <td>260.610781</td>\n",
       "      <td>158.584646</td>\n",
       "      <td>13.869817</td>\n",
       "      <td>69.481114</td>\n",
       "      <td>7.634622</td>\n",
       "      <td>8.933057</td>\n",
       "      <td>0.852910</td>\n",
       "      <td>160.320350</td>\n",
       "      <td>0</td>\n",
       "    </tr>\n",
       "  </tbody>\n",
       "</table>\n",
       "</div>"
      ],
      "text/plain": [
       "   age        bmi  blood_pressure  cholesterol     glucose    insulin  \\\n",
       "0   58  24.865215      122.347094   165.730375  149.289441  22.306844   \n",
       "1   71  19.103168      136.852028   260.610781  158.584646  13.869817   \n",
       "\n",
       "   heart_rate  activity_level  diet_quality  alcohol_intake  \\\n",
       "0   75.866391        1.180237      7.675409        0.824123   \n",
       "1   69.481114        7.634622      8.933057        0.852910   \n",
       "\n",
       "   health_risk_score  smoking_status_Yes  \n",
       "0         150.547752                   0  \n",
       "1         160.320350                   0  "
      ]
     },
     "execution_count": 10,
     "metadata": {},
     "output_type": "execute_result"
    }
   ],
   "source": [
    "df_enco.head(2)"
   ]
  },
  {
   "cell_type": "markdown",
   "id": "173bf24f",
   "metadata": {},
   "source": [
    "### Task 2: Train Linear Regression Models\n",
    "\n",
    "1. Select the features and the target variable for modeling.\n",
    "2. Split the data into training and test sets with a test size of 25%.\n",
    "3. Initialize and train a Linear Regression model, and evaluate its performance using R-squared.\n",
    "4. Initialize and train a Lasso Regression model with various alpha values provided in a list: [0.01, 0.1, 1.0, 10.0], and evaluate its performance using R-squared.\n",
    "5. Initialize and train a Ridge Regression model with various alpha values provided in a list: [0.01, 0.1, 1.0, 10.0], and evaluate its performance using R-squared."
   ]
  },
  {
   "cell_type": "code",
   "execution_count": 16,
   "id": "677a5752",
   "metadata": {},
   "outputs": [],
   "source": [
    "X = df_enco.drop(['health_risk_score'], axis=1)\n",
    "y = df_enco['health_risk_score']"
   ]
  },
  {
   "cell_type": "code",
   "execution_count": 20,
   "id": "49d67c9a",
   "metadata": {},
   "outputs": [],
   "source": [
    "from sklearn.linear_model import LinearRegression,Lasso,Ridge\n",
    "from sklearn.model_selection import train_test_split\n",
    "\n",
    "X_train,X_test,y_train,y_test = train_test_split(X,y, test_size=0.25,random_state=42)\n"
   ]
  },
  {
   "cell_type": "code",
   "execution_count": 21,
   "id": "83c95fef",
   "metadata": {},
   "outputs": [
    {
     "data": {
      "text/plain": [
       "0.7643620906757489"
      ]
     },
     "execution_count": 21,
     "metadata": {},
     "output_type": "execute_result"
    }
   ],
   "source": [
    "model = LinearRegression()\n",
    "model.fit(X_train, y_train)\n",
    "model.score(X_test,y_test)"
   ]
  },
  {
   "cell_type": "code",
   "execution_count": 40,
   "id": "7086f46c",
   "metadata": {},
   "outputs": [
    {
     "data": {
      "text/plain": [
       "array([ 0.34418045,  0.10327706,  0.29276989,  0.18342512,  0.53001696,\n",
       "        0.39607504, -0.54400426, -0.68687515, -1.12172705, -1.00163997,\n",
       "        0.49876073])"
      ]
     },
     "execution_count": 40,
     "metadata": {},
     "output_type": "execute_result"
    }
   ],
   "source": [
    "model.coef_"
   ]
  },
  {
   "cell_type": "code",
   "execution_count": 33,
   "id": "83ac27fb",
   "metadata": {},
   "outputs": [
    {
     "name": "stdout",
     "output_type": "stream",
     "text": [
      "0.1: 0.7660510208699556\n",
      "1.0: 0.781976368357514\n",
      "0.01: 0.7645437739018345\n",
      "1.0: 0.781976368357514\n",
      "1.5: 0.7887390359602471\n",
      "2: 0.7914532005806773\n",
      "2.5: 0.7919544701128819\n",
      "3: 0.7928618680246624\n",
      "3.5: 0.793427618436003\n",
      "4: 0.7935346693552175\n",
      "5: 0.7929111451622536\n",
      "6: 0.7916211756299975\n",
      "7: 0.7896647681912109\n",
      "10: 0.7873364302158369\n"
     ]
    }
   ],
   "source": [
    "alphas=[0.1,1.0,0.01,1.0,1.5,2,2.5,3,3.5,4,5,6,7,10]\n",
    "for alpha in alphas:\n",
    "    lasso_model=Lasso(alpha)\n",
    "    lasso_model.fit(X_train,y_train)\n",
    "    a=lasso_model.score(X_test,y_test)\n",
    "    print(f\"{alpha}: {a}\")\n",
    "    "
   ]
  },
  {
   "cell_type": "code",
   "execution_count": 34,
   "id": "625fce49",
   "metadata": {},
   "outputs": [
    {
     "name": "stdout",
     "output_type": "stream",
     "text": [
      "0.1: 0.7643620906757489\n",
      "1.0: 0.7643620906757489\n",
      "0.01: 0.7643620906757489\n",
      "1.0: 0.7643620906757489\n",
      "1.5: 0.7643620906757489\n",
      "2: 0.7643620906757489\n",
      "2.5: 0.7643620906757489\n",
      "3: 0.7643620906757489\n",
      "3.5: 0.7643620906757489\n",
      "4: 0.7643620906757489\n",
      "5: 0.7643620906757489\n",
      "6: 0.7643620906757489\n",
      "7: 0.7643620906757489\n",
      "10: 0.7643620906757489\n"
     ]
    }
   ],
   "source": [
    "alphas=[0.1,1.0,0.01,1.0,1.5,2,2.5,3,3.5,4,5,6,7,10]\n",
    "for alpha in alphas:\n",
    "    ridge_model = Ridge(alpha)\n",
    "    ridge_model = model.fit(X_train,y_train)\n",
    "    b = ridge_model.score(X_test,y_test)\n",
    "    print(f\"{alpha}: {b}\")\n",
    "    \n"
   ]
  },
  {
   "cell_type": "code",
   "execution_count": 46,
   "id": "a2f82179",
   "metadata": {},
   "outputs": [
    {
     "data": {
      "image/png": "[encoded data removed]",
      "text/plain": [
       "<Figure size 1200x500 with 1 Axes>"
      ]
     },
     "metadata": {},
     "output_type": "display_data"
    }
   ],
   "source": [
    "plt.figure(figsize=(12,5))\n",
    "plt.plot(range(len(lasso_model.coef_)), lasso_model.coef_, label=\"Lasso Regression\", marker='o')\n",
    "plt.plot(range(len(ridge_model.coef_)), ridge_model.coef_, label=\"ridge Regression\", marker='o')\n",
    "plt.plot(range(len(model.coef_)), model.coef_, label=\"Linear Regression\", marker='o')\n",
    "\n",
    "plt.legend()\n",
    "plt.show()"
   ]
  },
  {
   "cell_type": "code",
   "execution_count": null,
   "id": "a00600b4",
   "metadata": {},
   "outputs": [],
   "source": []
  },
  {
   "cell_type": "code",
   "execution_count": null,
   "id": "423e67bb",
   "metadata": {},
   "outputs": [],
   "source": []
  }
 ],
 "metadata": {
  "kernelspec": {
   "display_name": "Python 3 (ipykernel)",
   "language": "python",
   "name": "python3"
  },
  "language_info": {
   "codemirror_mode": {
    "name": "ipython",
    "version": 3
   },
   "file_extension": ".py",
   "mimetype": "text/x-python",
   "name": "python",
   "nbconvert_exporter": "python",
   "pygments_lexer": "ipython3",
   "version": "3.11.4"
  }
 },
 "nbformat": 4,
 "nbformat_minor": 5
}
