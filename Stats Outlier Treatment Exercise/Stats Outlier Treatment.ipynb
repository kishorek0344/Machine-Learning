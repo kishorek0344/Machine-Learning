{
 "cells": [
  {
   "cell_type": "markdown",
   "id": "00b98320",
   "metadata": {},
   "source": [
    "## Problem Statement\n",
    "\n",
    "You work for a fitness company and have gathered data on the fitness activities of 50 individuals using fitness trackers. The dataset is stored in an Excel file named \"fitness_data.xlsx\" and includes the following columns:\n",
    "\n",
    "- **name:** Name of the person.\n",
    "- **steps_taken:** The number of steps taken by individuals.\n",
    "- **calories_burned:** The estimated calories burned by individuals.\n",
    "- **sleep_duration(hours):** The number of hours of sleep individuals got on that day.\n",
    "- **water_intake(ounces):** The amount of water individuals consumed.\n"
   ]
  },
  {
   "cell_type": "markdown",
   "id": "5286de34",
   "metadata": {},
   "source": [
    "## Task1\n",
    "\n",
    "1. Import the data from the \"fitness_data.xlsx\" Excel file.\n",
    "2. Display the first few rows of the dataset to get an overview.\n",
    "3. Calculate and display basic statistics (mean, median, min, max) for each column.\n"
   ]
  },
  {
   "cell_type": "code",
   "execution_count": 1,
   "id": "2b3a5b3d",
   "metadata": {},
   "outputs": [],
   "source": [
    "import pandas as pd\n",
    "import numpy as np"
   ]
  },
  {
   "cell_type": "code",
   "execution_count": 3,
   "id": "2b15b347",
   "metadata": {},
   "outputs": [],
   "source": [
    "df=pd.read_excel(\"fitness_data.xlsx\")"
   ]
  },
  {
   "cell_type": "code",
   "execution_count": 16,
   "id": "879e99d3",
   "metadata": {},
   "outputs": [
    {
     "data": {
      "text/html": [
       "<div>\n",
       "<style scoped>\n",
       "    .dataframe tbody tr th:only-of-type {\n",
       "        vertical-align: middle;\n",
       "    }\n",
       "\n",
       "    .dataframe tbody tr th {\n",
       "        vertical-align: top;\n",
       "    }\n",
       "\n",
       "    .dataframe thead th {\n",
       "        text-align: right;\n",
       "    }\n",
       "</style>\n",
       "<table border=\"1\" class=\"dataframe\">\n",
       "  <thead>\n",
       "    <tr style=\"text-align: right;\">\n",
       "      <th></th>\n",
       "      <th>name</th>\n",
       "      <th>steps_taken</th>\n",
       "      <th>calories_burned</th>\n",
       "      <th>sleep_duration(hours)</th>\n",
       "      <th>water_intake(ounces)</th>\n",
       "    </tr>\n",
       "  </thead>\n",
       "  <tbody>\n",
       "    <tr>\n",
       "      <th>0</th>\n",
       "      <td>Akshay</td>\n",
       "      <td>10500</td>\n",
       "      <td>4500</td>\n",
       "      <td>7.5</td>\n",
       "      <td>80</td>\n",
       "    </tr>\n",
       "    <tr>\n",
       "      <th>1</th>\n",
       "      <td>Priya</td>\n",
       "      <td>9800</td>\n",
       "      <td>4200</td>\n",
       "      <td>7.2</td>\n",
       "      <td>75</td>\n",
       "    </tr>\n",
       "    <tr>\n",
       "      <th>2</th>\n",
       "      <td>Raj</td>\n",
       "      <td>11500</td>\n",
       "      <td>4800</td>\n",
       "      <td>7.0</td>\n",
       "      <td>90</td>\n",
       "    </tr>\n",
       "  </tbody>\n",
       "</table>\n",
       "</div>"
      ],
      "text/plain": [
       "     name  steps_taken  calories_burned  sleep_duration(hours)  \\\n",
       "0  Akshay        10500             4500                    7.5   \n",
       "1   Priya         9800             4200                    7.2   \n",
       "2     Raj        11500             4800                    7.0   \n",
       "\n",
       "   water_intake(ounces)  \n",
       "0                    80  \n",
       "1                    75  \n",
       "2                    90  "
      ]
     },
     "execution_count": 16,
     "metadata": {},
     "output_type": "execute_result"
    }
   ],
   "source": [
    "df.head(3)"
   ]
  },
  {
   "cell_type": "code",
   "execution_count": 7,
   "id": "cdf6d907",
   "metadata": {},
   "outputs": [
    {
     "data": {
      "text/html": [
       "<div>\n",
       "<style scoped>\n",
       "    .dataframe tbody tr th:only-of-type {\n",
       "        vertical-align: middle;\n",
       "    }\n",
       "\n",
       "    .dataframe tbody tr th {\n",
       "        vertical-align: top;\n",
       "    }\n",
       "\n",
       "    .dataframe thead th {\n",
       "        text-align: right;\n",
       "    }\n",
       "</style>\n",
       "<table border=\"1\" class=\"dataframe\">\n",
       "  <thead>\n",
       "    <tr style=\"text-align: right;\">\n",
       "      <th></th>\n",
       "      <th>steps_taken</th>\n",
       "      <th>calories_burned</th>\n",
       "      <th>sleep_duration(hours)</th>\n",
       "      <th>water_intake(ounces)</th>\n",
       "    </tr>\n",
       "  </thead>\n",
       "  <tbody>\n",
       "    <tr>\n",
       "      <th>count</th>\n",
       "      <td>50.000000</td>\n",
       "      <td>50.000000</td>\n",
       "      <td>50.000000</td>\n",
       "      <td>50.000000</td>\n",
       "    </tr>\n",
       "    <tr>\n",
       "      <th>mean</th>\n",
       "      <td>10316.000000</td>\n",
       "      <td>4418.000000</td>\n",
       "      <td>7.396000</td>\n",
       "      <td>79.600000</td>\n",
       "    </tr>\n",
       "    <tr>\n",
       "      <th>std</th>\n",
       "      <td>1177.052701</td>\n",
       "      <td>370.708092</td>\n",
       "      <td>1.660951</td>\n",
       "      <td>14.457538</td>\n",
       "    </tr>\n",
       "    <tr>\n",
       "      <th>min</th>\n",
       "      <td>8000.000000</td>\n",
       "      <td>3700.000000</td>\n",
       "      <td>4.000000</td>\n",
       "      <td>30.000000</td>\n",
       "    </tr>\n",
       "    <tr>\n",
       "      <th>25%</th>\n",
       "      <td>9625.000000</td>\n",
       "      <td>4200.000000</td>\n",
       "      <td>7.000000</td>\n",
       "      <td>70.000000</td>\n",
       "    </tr>\n",
       "    <tr>\n",
       "      <th>50%</th>\n",
       "      <td>10250.000000</td>\n",
       "      <td>4400.000000</td>\n",
       "      <td>7.200000</td>\n",
       "      <td>80.000000</td>\n",
       "    </tr>\n",
       "    <tr>\n",
       "      <th>75%</th>\n",
       "      <td>11000.000000</td>\n",
       "      <td>4700.000000</td>\n",
       "      <td>7.500000</td>\n",
       "      <td>90.000000</td>\n",
       "    </tr>\n",
       "    <tr>\n",
       "      <th>max</th>\n",
       "      <td>15000.000000</td>\n",
       "      <td>5500.000000</td>\n",
       "      <td>18.000000</td>\n",
       "      <td>100.000000</td>\n",
       "    </tr>\n",
       "  </tbody>\n",
       "</table>\n",
       "</div>"
      ],
      "text/plain": [
       "        steps_taken  calories_burned  sleep_duration(hours)  \\\n",
       "count     50.000000        50.000000              50.000000   \n",
       "mean   10316.000000      4418.000000               7.396000   \n",
       "std     1177.052701       370.708092               1.660951   \n",
       "min     8000.000000      3700.000000               4.000000   \n",
       "25%     9625.000000      4200.000000               7.000000   \n",
       "50%    10250.000000      4400.000000               7.200000   \n",
       "75%    11000.000000      4700.000000               7.500000   \n",
       "max    15000.000000      5500.000000              18.000000   \n",
       "\n",
       "       water_intake(ounces)  \n",
       "count             50.000000  \n",
       "mean              79.600000  \n",
       "std               14.457538  \n",
       "min               30.000000  \n",
       "25%               70.000000  \n",
       "50%               80.000000  \n",
       "75%               90.000000  \n",
       "max              100.000000  "
      ]
     },
     "execution_count": 7,
     "metadata": {},
     "output_type": "execute_result"
    }
   ],
   "source": [
    "df.describe()"
   ]
  },
  {
   "cell_type": "markdown",
   "id": "f3867ac9",
   "metadata": {},
   "source": [
    "## Task2:  Range and IQR\n",
    "\n",
    "1. Calculate the range of \"steps_taken\".\n",
    "2. Calculate the range of \"calories_burned\".\n",
    "3. Calculate the Interquartile Range (IQR) for \"sleep_duration(hours)\".\n",
    "4. Calculate the IQR for \"water_intake(ounces)\"."
   ]
  },
  {
   "cell_type": "code",
   "execution_count": 19,
   "id": "895071d3",
   "metadata": {},
   "outputs": [
    {
     "name": "stdout",
     "output_type": "stream",
     "text": [
      "Range of Steps Taken: 7000\n",
      "Range of Calories Burned: 1800\n",
      "IQR of Sleep Duration: 0.5\n",
      "IQR of Water Intake: 20.0\n"
     ]
    }
   ],
   "source": [
    "steps_range = df['steps_taken'].max() - df['steps_taken'].min()\n",
    "calories_range = df['calories_burned'].max() - df['calories_burned'].min()\n",
    "sleep_iqr = df['sleep_duration(hours)'].quantile(0.75) - df['sleep_duration(hours)'].quantile(0.25)\n",
    "water_iqr = df['water_intake(ounces)'].quantile(0.75) - df['water_intake(ounces)'].quantile(0.25)\n",
    "print(\"Range of Steps Taken:\", steps_range)\n",
    "print(\"Range of Calories Burned:\", calories_range)\n",
    "print(\"IQR of Sleep Duration:\", sleep_iqr)\n",
    "print(\"IQR of Water Intake:\", water_iqr)"
   ]
  },
  {
   "cell_type": "markdown",
   "id": "4a9cc049",
   "metadata": {},
   "source": [
    "## Task3: Box Plot for Steps Taken\n",
    "\n",
    "- Create a box plot for the \"steps_taken\" column to visualize the distribution of daily steps taken by individuals. Interpret the box plot and identify any outliers."
   ]
  },
  {
   "cell_type": "code",
   "execution_count": 21,
   "id": "5d86ca80",
   "metadata": {},
   "outputs": [],
   "source": [
    "import matplotlib.pyplot as plt"
   ]
  },
  {
   "cell_type": "code",
   "execution_count": 29,
   "id": "cbf25fff",
   "metadata": {},
   "outputs": [
    {
     "data": {
      "image/png": "[encoded data removed]",
      "text/plain": [
       "<Figure size 500x500 with 1 Axes>"
      ]
     },
     "metadata": {},
     "output_type": "display_data"
    }
   ],
   "source": [
    "plt.figure(figsize=(5,5))\n",
    "plt.boxplot(df.steps_taken, vert=True,patch_artist=True)\n",
    "plt.title('Box Plot of Steps Taken')\n",
    "plt.xlabel('Data')\n",
    "plt.ylabel('Steps Taken')\n",
    "\n",
    "# Rotate x-axis labels for better readability\n",
    "plt.xticks(rotation=45)\n",
    "\n",
    "# Ensure proper layout and display the plot\n",
    "plt.tight_layout()\n",
    "plt.show()"
   ]
  },
  {
   "cell_type": "markdown",
   "id": "0ef30efe",
   "metadata": {},
   "source": [
    "\n",
    "## Task4: \n",
    "\n",
    "- Use the IQR method to identify and label outliers in the \"sleep_duration(hours)\" column."
   ]
  },
  {
   "cell_type": "code",
   "execution_count": 51,
   "id": "73770776",
   "metadata": {},
   "outputs": [],
   "source": [
    "def get_values(data):\n",
    "    q1,q3=data['sleep_duration(hours)'].quantile([0.25,0.75])\n",
    "    IQR = q3-q1\n",
    "    upper = q1 - IQR*1.5\n",
    "    lower = q3 + IQR*1.5\n",
    "    return upper,lower"
   ]
  },
  {
   "cell_type": "code",
   "execution_count": 52,
   "id": "43617f81",
   "metadata": {},
   "outputs": [
    {
     "name": "stdout",
     "output_type": "stream",
     "text": [
      "6.25 8.25\n"
     ]
    }
   ],
   "source": [
    "lower,upper=get_values(df)\n",
    "print(lower,upper)\n"
   ]
  },
  {
   "cell_type": "code",
   "execution_count": 55,
   "id": "f06dff20",
   "metadata": {},
   "outputs": [
    {
     "data": {
      "text/html": [
       "<div>\n",
       "<style scoped>\n",
       "    .dataframe tbody tr th:only-of-type {\n",
       "        vertical-align: middle;\n",
       "    }\n",
       "\n",
       "    .dataframe tbody tr th {\n",
       "        vertical-align: top;\n",
       "    }\n",
       "\n",
       "    .dataframe thead th {\n",
       "        text-align: right;\n",
       "    }\n",
       "</style>\n",
       "<table border=\"1\" class=\"dataframe\">\n",
       "  <thead>\n",
       "    <tr style=\"text-align: right;\">\n",
       "      <th></th>\n",
       "      <th>name</th>\n",
       "      <th>steps_taken</th>\n",
       "      <th>calories_burned</th>\n",
       "      <th>sleep_duration(hours)</th>\n",
       "      <th>water_intake(ounces)</th>\n",
       "    </tr>\n",
       "  </thead>\n",
       "  <tbody>\n",
       "    <tr>\n",
       "      <th>21</th>\n",
       "      <td>Elena</td>\n",
       "      <td>11700</td>\n",
       "      <td>4900</td>\n",
       "      <td>18.0</td>\n",
       "      <td>100</td>\n",
       "    </tr>\n",
       "    <tr>\n",
       "      <th>30</th>\n",
       "      <td>Siddharth</td>\n",
       "      <td>11300</td>\n",
       "      <td>4700</td>\n",
       "      <td>4.0</td>\n",
       "      <td>75</td>\n",
       "    </tr>\n",
       "  </tbody>\n",
       "</table>\n",
       "</div>"
      ],
      "text/plain": [
       "         name  steps_taken  calories_burned  sleep_duration(hours)  \\\n",
       "21      Elena        11700             4900                   18.0   \n",
       "30  Siddharth        11300             4700                    4.0   \n",
       "\n",
       "    water_intake(ounces)  \n",
       "21                   100  \n",
       "30                    75  "
      ]
     },
     "execution_count": 55,
     "metadata": {},
     "output_type": "execute_result"
    }
   ],
   "source": [
    "outliers= df[(df['sleep_duration(hours)']<lower) | (df['sleep_duration(hours)']> upper) ] \n",
    "outliers"
   ]
  },
  {
   "cell_type": "code",
   "execution_count": null,
   "id": "9f7a5ed7",
   "metadata": {},
   "outputs": [],
   "source": []
  }
 ],
 "metadata": {
  "kernelspec": {
   "display_name": "Python 3 (ipykernel)",
   "language": "python",
   "name": "python3"
  },
  "language_info": {
   "codemirror_mode": {
    "name": "ipython",
    "version": 3
   },
   "file_extension": ".py",
   "mimetype": "text/x-python",
   "name": "python",
   "nbconvert_exporter": "python",
   "pygments_lexer": "ipython3",
   "version": "3.11.4"
  }
 },
 "nbformat": 4,
 "nbformat_minor": 5
}
